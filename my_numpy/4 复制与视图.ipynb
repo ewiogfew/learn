{
 "cells": [
  {
   "cell_type": "code",
   "execution_count": 1,
   "metadata": {},
   "outputs": [],
   "source": [
    "#复制和视图之间的区别:\n",
    "#副本和数组视图之间的主要区别在于 副本是一个新数组，视图只是原始数组的视图。\n",
    "\n",
    "#副本拥有数据对副本所做的任何更改都不会影响原始数组，并且对原始数组所做的任何更改都不会影响副本。\n",
    "\n",
    "#视图不拥有数据,对视图所做的任何更改都将影响原始数组,并且对原始数组所做的任何更改都将影响视图。\n"
   ]
  },
  {
   "cell_type": "code",
   "execution_count": null,
   "metadata": {},
   "outputs": [
    {
     "name": "stdout",
     "output_type": "stream",
     "text": [
      "[42  2  3  4  5]\n",
      "[1 2 3 4 5]\n"
     ]
    }
   ],
   "source": [
    "#副本:\n",
    "\n",
    "import numpy as np\n",
    "arr=np.array([1,2,3,4,5])\n",
    "\n",
    "arr_copy=arr.copy()\n",
    "\n",
    "#更改数组的内容:\n",
    "arr[0]=42\n",
    "\n",
    "print(arr)\n",
    "print(arr_copy)"
   ]
  },
  {
   "cell_type": "code",
   "execution_count": 3,
   "metadata": {},
   "outputs": [
    {
     "name": "stdout",
     "output_type": "stream",
     "text": [
      "[42  2  3  4  5  6]\n",
      "[42  2  3  4  5  6]\n"
     ]
    }
   ],
   "source": [
    "#创建一个视图，更改原始数组，并显示两个数组：\n",
    "import numpy as np\n",
    "arr=np.array([1,2,3,4,5,6])\n",
    "\n",
    "arr_view=arr.view()\n",
    "arr[0]=42\n",
    "\n",
    "print(f\"{arr}\\n{arr_view}\")\n"
   ]
  },
  {
   "cell_type": "code",
   "execution_count": 1,
   "metadata": {},
   "outputs": [
    {
     "name": "stdout",
     "output_type": "stream",
     "text": [
      "[34  2  3  4  5  6]\n",
      "[34  2  3  4  5  6]\n"
     ]
    }
   ],
   "source": [
    "#对视图进行更改:\n",
    "import numpy as np\n",
    "arr=np.array([1,2,3,4,5,6])\n",
    "\n",
    "#创建视图:\n",
    "arr_view=arr.view()\n",
    "#更改试图:\n",
    "arr_view[0]=34\n",
    "\n",
    "print(f\"{arr}\\n{arr_view}\")"
   ]
  },
  {
   "cell_type": "code",
   "execution_count": null,
   "metadata": {},
   "outputs": [
    {
     "name": "stdout",
     "output_type": "stream",
     "text": [
      "[1 2 3 4 5 6]\n",
      "[2 3 4]\n",
      "[1 1 1 4 5 6]\n"
     ]
    },
    {
     "data": {
      "text/plain": [
       "array([1, 0, 0, 0, 5, 6])"
      ]
     },
     "execution_count": 9,
     "metadata": {},
     "output_type": "execute_result"
    }
   ],
   "source": [
    "import numpy as np\n",
    "arr=np.array([1,2,3,4,5,6])\n",
    "\n",
    "#视图:注意arr[1:4]是视图,所以赋值给变量slice也是视图,不要误认副本\n",
    "slice=arr[1:4]\n",
    "\n",
    "\n",
    "#检测slice是不是视图\n",
    "print(slice.base)#[2 3 4]说明依赖原数组是视图\n",
    "print(slice)\n",
    "\n",
    "#更改试图\n",
    "slice[0:2]=1\n",
    "print(arr)\n",
    "\n",
    "slice[:]=0\n",
    "arr"
   ]
  },
  {
   "cell_type": "code",
   "execution_count": 6,
   "metadata": {},
   "outputs": [
    {
     "name": "stdout",
     "output_type": "stream",
     "text": [
      "None\n",
      "[1 2 3 4 5 6]\n"
     ]
    }
   ],
   "source": [
    "#检查 Array 是否拥有其数据\n",
    "#副本拥有数据，而视图不拥有数据,检查方式是arr.base检查是否依赖原数据,\n",
    "#副本是独立数据,所以返回None,视图是依赖原数据的所以返回原数组\n",
    "\n",
    "import numpy as np\n",
    "arr=np.array([1,2,3,4,5,6])\n",
    "\n",
    "\n",
    "#创建副本\n",
    "arr_copy=arr.copy()\n",
    "\n",
    "#创建视图:\n",
    "arr_view=arr.view()\n",
    "\n",
    "#检查视图是否拥有数据\n",
    "print(arr_copy.base)\n",
    "print(arr_view.base)\n"
   ]
  },
  {
   "cell_type": "code",
   "execution_count": 17,
   "metadata": {},
   "outputs": [
    {
     "name": "stdout",
     "output_type": "stream",
     "text": [
      "None\n"
     ]
    }
   ],
   "source": [
    "#如果想要视图的副本可以复制copy()\n",
    "import numpy as np\n",
    "arr=np.array([1,2,3,4,5,6])\n",
    "arr_cp=arr[:].copy()\n",
    "\n",
    "print(arr_cp.base)"
   ]
  },
  {
   "cell_type": "code",
   "execution_count": null,
   "metadata": {},
   "outputs": [],
   "source": []
  }
 ],
 "metadata": {
  "kernelspec": {
   "display_name": "pydata-book",
   "language": "python",
   "name": "python3"
  },
  "language_info": {
   "codemirror_mode": {
    "name": "ipython",
    "version": 3
   },
   "file_extension": ".py",
   "mimetype": "text/x-python",
   "name": "python",
   "nbconvert_exporter": "python",
   "pygments_lexer": "ipython3",
   "version": "3.13.1"
  }
 },
 "nbformat": 4,
 "nbformat_minor": 2
}
