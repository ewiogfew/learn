{
 "cells": [
  {
   "cell_type": "code",
   "execution_count": 4,
   "metadata": {},
   "outputs": [
    {
     "name": "stdout",
     "output_type": "stream",
     "text": [
      "[[0 1 2]\n",
      " [3 4 5]\n",
      " [6 7 8]]\n",
      "[[ 0  1  2  3]\n",
      " [ 4  5  6  7]\n",
      " [ 8  9 10 11]]\n"
     ]
    }
   ],
   "source": [
    "#矩阵乘法:\n",
    "#dot函数既是numpy命名空间的函数也是数组方法\n",
    "import numpy as np\n",
    "\n",
    "arr1=np.arange(9).reshape((3,3))\n",
    "arr2=np.arange(12).reshape((3,4))\n",
    "print(f\"{arr1}\\n{arr2}\")"
   ]
  },
  {
   "cell_type": "code",
   "execution_count": 5,
   "metadata": {},
   "outputs": [
    {
     "name": "stdout",
     "output_type": "stream",
     "text": [
      "[[ 20  23  26  29]\n",
      " [ 56  68  80  92]\n",
      " [ 92 113 134 155]]\n"
     ]
    }
   ],
   "source": [
    "#numpy命名空间函数\n",
    "new=np.dot(arr1,arr2)\n",
    "print(new)"
   ]
  },
  {
   "cell_type": "code",
   "execution_count": 6,
   "metadata": {},
   "outputs": [
    {
     "name": "stdout",
     "output_type": "stream",
     "text": [
      "[[ 20  23  26  29]\n",
      " [ 56  68  80  92]\n",
      " [ 92 113 134 155]]\n"
     ]
    }
   ],
   "source": [
    "#或者使用数组方法\n",
    "new2=arr1.dot(arr2)\n",
    "print(new2)"
   ]
  },
  {
   "cell_type": "code",
   "execution_count": 7,
   "metadata": {},
   "outputs": [
    {
     "data": {
      "text/plain": [
       "array([[ 20,  23,  26,  29],\n",
       "       [ 56,  68,  80,  92],\n",
       "       [ 92, 113, 134, 155]])"
      ]
     },
     "execution_count": 7,
     "metadata": {},
     "output_type": "execute_result"
    }
   ],
   "source": [
    "#或者使用符号@\n",
    "arr1@arr2"
   ]
  },
  {
   "cell_type": "code",
   "execution_count": 11,
   "metadata": {},
   "outputs": [
    {
     "name": "stdout",
     "output_type": "stream",
     "text": [
      "[0 1 2]\n",
      "[[0 1]\n",
      " [2 3]\n",
      " [4 5]]\n"
     ]
    },
    {
     "data": {
      "text/plain": [
       "array([10, 13])"
      ]
     },
     "execution_count": 11,
     "metadata": {},
     "output_type": "execute_result"
    }
   ],
   "source": [
    "#2维数组和一维数组(满足前列数等于后行数)矩阵点积运算将得到一个一维数组\n",
    "\n",
    "x=np.arange(3)\n",
    "\n",
    "y=np.arange(6).reshape((3,2))\n",
    "print(f\"{x}\\n{y}\")\n",
    "\n",
    "x@y"
   ]
  },
  {
   "cell_type": "code",
   "execution_count": null,
   "metadata": {},
   "outputs": [
    {
     "name": "stdout",
     "output_type": "stream",
     "text": [
      "[[-1.42382504  1.26372846 -0.87066174 -0.25917323 -0.07534331]\n",
      " [-0.74088465 -1.3677927   0.6488928   0.36105811 -1.95286306]\n",
      " [ 2.34740965  0.96849691 -0.75938718  0.90219827 -0.46695317]\n",
      " [-0.06068952  0.78884434 -1.25666813  0.57585751  1.39897899]\n",
      " [ 1.32229806 -0.29969852  0.90291934 -1.62158273 -0.15818926]]\n",
      "[[ 9.83867527  1.04334204  0.24651754  0.04017965  0.16391486]\n",
      " [ 1.04334204  5.11794735 -3.98521413  0.99264687  3.27464142]\n",
      " [ 0.24651754 -3.98521413  4.15026075 -2.41299778 -2.74788646]\n",
      " [ 0.04017965  0.99264687 -2.41299778  3.97263789 -0.04472489]\n",
      " [ 0.16391486  3.27464142 -2.74788646 -0.04472489  6.01956209]]\n"
     ]
    }
   ],
   "source": [
    "#numpy.linalg中有矩阵分解运算,以及求逆和,求行列式等方法,常用的numpy.linalg方法去官方文档查阅\n",
    "from numpy.linalg import inv,qr\n",
    "rng=np.random.default_rng(seed=12345)\n",
    "\n",
    "X=rng.standard_normal((5,5))\n",
    "print(X)\n",
    "mat=X.T@X\n",
    "print(mat)"
   ]
  },
  {
   "cell_type": "code",
   "execution_count": 16,
   "metadata": {},
   "outputs": [
    {
     "data": {
      "text/plain": [
       "array([[ 0.15548538, -0.36723081, -0.52638547, -0.2300642 , -0.04646089],\n",
       "       [-0.36723081,  2.54917814,  3.47827334,  1.48196722,  0.22206454],\n",
       "       [-0.52638547,  3.47827334,  5.46389554,  2.46214396,  0.63467543],\n",
       "       [-0.2300642 ,  1.48196722,  2.46214396,  1.38302896,  0.33430132],\n",
       "       [-0.04646089,  0.22206454,  0.63467543,  0.33430132,  0.33879566]])"
      ]
     },
     "execution_count": 16,
     "metadata": {},
     "output_type": "execute_result"
    }
   ],
   "source": [
    "inv(mat)"
   ]
  },
  {
   "cell_type": "code",
   "execution_count": 17,
   "metadata": {},
   "outputs": [
    {
     "data": {
      "text/plain": [
       "array([[ 1.00000000e+00, -8.32667268e-17,  1.24900090e-16,\n",
       "         1.38777878e-17, -1.38777878e-17],\n",
       "       [ 4.44089210e-16,  1.00000000e+00, -3.55271368e-15,\n",
       "        -1.55431223e-15, -2.22044605e-16],\n",
       "       [-2.49800181e-16,  8.88178420e-16,  1.00000000e+00,\n",
       "        -6.66133815e-16,  3.33066907e-16],\n",
       "       [-1.17093835e-16,  1.77462212e-15,  5.93275429e-16,\n",
       "         1.00000000e+00,  2.20309881e-16],\n",
       "       [ 3.88578059e-16,  6.66133815e-16, -2.22044605e-15,\n",
       "        -1.33226763e-15,  1.00000000e+00]])"
      ]
     },
     "execution_count": 17,
     "metadata": {},
     "output_type": "execute_result"
    }
   ],
   "source": [
    "mat@inv(mat)"
   ]
  },
  {
   "cell_type": "code",
   "execution_count": null,
   "metadata": {},
   "outputs": [],
   "source": []
  }
 ],
 "metadata": {
  "kernelspec": {
   "display_name": "pydata-book",
   "language": "python",
   "name": "python3"
  },
  "language_info": {
   "codemirror_mode": {
    "name": "ipython",
    "version": 3
   },
   "file_extension": ".py",
   "mimetype": "text/x-python",
   "name": "python",
   "nbconvert_exporter": "python",
   "pygments_lexer": "ipython3",
   "version": "3.13.1"
  }
 },
 "nbformat": 4,
 "nbformat_minor": 2
}
