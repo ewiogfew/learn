{
 "cells": [
  {
   "cell_type": "code",
   "execution_count": 2,
   "metadata": {},
   "outputs": [
    {
     "data": {
      "text/plain": [
       "array([[ 0,  1,  2],\n",
       "       [ 3,  4,  5],\n",
       "       [ 6,  7,  8],\n",
       "       [ 9, 10, 11],\n",
       "       [12, 13, 14]])"
      ]
     },
     "execution_count": 2,
     "metadata": {},
     "output_type": "execute_result"
    }
   ],
   "source": [
    "#通用函数(ufunc)是一种对ndarray中的数据执行 元素级运算 的函数\n",
    "\n",
    "import numpy  as np\n",
    "\n",
    "arr=np.arange(15).reshape((5,3))\n",
    "arr"
   ]
  },
  {
   "cell_type": "code",
   "execution_count": 3,
   "metadata": {},
   "outputs": [
    {
     "name": "stdout",
     "output_type": "stream",
     "text": [
      "[[0.         1.         1.41421356]\n",
      " [1.73205081 2.         2.23606798]\n",
      " [2.44948974 2.64575131 2.82842712]\n",
      " [3.         3.16227766 3.31662479]\n",
      " [3.46410162 3.60555128 3.74165739]]\n",
      "[[1.00000000e+00 2.71828183e+00 7.38905610e+00]\n",
      " [2.00855369e+01 5.45981500e+01 1.48413159e+02]\n",
      " [4.03428793e+02 1.09663316e+03 2.98095799e+03]\n",
      " [8.10308393e+03 2.20264658e+04 5.98741417e+04]\n",
      " [1.62754791e+05 4.42413392e+05 1.20260428e+06]]\n",
      "[[ 0  1  2]\n",
      " [ 3  4  5]\n",
      " [ 6  7  8]\n",
      " [ 9 10 11]\n",
      " [12 13 14]]\n"
     ]
    }
   ],
   "source": [
    "#对其使用  一元通用函数(接受一个数组)  ,进行简单元素转换 np.sqrt() 和np.exp()\n",
    "\n",
    "arr_1=np.sqrt(arr)\n",
    "print(arr_1)\n",
    "\n",
    "arr_2=np.exp(arr)\n",
    "print(arr_2)\n",
    "\n",
    "#检查原数组\n",
    "print(arr)"
   ]
  },
  {
   "cell_type": "code",
   "execution_count": 56,
   "metadata": {},
   "outputs": [
    {
     "name": "stdout",
     "output_type": "stream",
     "text": [
      "[-1.42382504  1.26372846 -0.87066174 -0.25917323 -0.07534331 -0.74088465\n",
      " -1.3677927   0.6488928 ]\n",
      "[ 0.36105811 -1.95286306  2.34740965  0.96849691 -0.75938718  0.90219827\n",
      " -0.46695317 -0.06068952]\n",
      "[ 0.36105811  1.26372846  2.34740965  0.96849691 -0.07534331  0.90219827\n",
      " -0.46695317  0.6488928 ]\n"
     ]
    }
   ],
   "source": [
    "#二元ufunc(接受2个数组)\n",
    "\n",
    "#先配置一个生产器,提供随机数据使用\n",
    "rng=np.random.default_rng(seed=12345)\n",
    "\n",
    "x=rng.standard_normal(8)\n",
    "print(x)\n",
    "\n",
    "y=rng.standard_normal(8)\n",
    "print(y)\n",
    "\n",
    "\n",
    "#使用np.maximum(x.y)二元ufunc比较x与y对应元素的大小,取最大值.\n",
    "arr_3=np.maximum(x,y)\n",
    "\n",
    "print(arr_3)\n"
   ]
  },
  {
   "cell_type": "code",
   "execution_count": 62,
   "metadata": {},
   "outputs": [
    {
     "name": "stdout",
     "output_type": "stream",
     "text": [
      "[-9.96677526  8.84609921 -6.09463217 -1.81421264 -0.52740315 -5.18619256\n",
      " -9.57454891]\n",
      "[-0.96677526  0.84609921 -0.09463217 -0.81421264 -0.52740315 -0.18619256\n",
      " -0.57454891] [-9.  8. -6. -1. -0. -5. -9.]\n"
     ]
    }
   ],
   "source": [
    "#ufunc也可返回2个数组\n",
    "\n",
    "#返回整数和小数np.modf(arr)\n",
    "rng=np.random.default_rng(seed=12345)\n",
    "\n",
    "arr=rng.standard_normal(7)*7\n",
    "print(arr)\n",
    "\n",
    "reminder,wholepart=np.modf(arr)\n",
    "print(reminder,wholepart)\n"
   ]
  },
  {
   "cell_type": "code",
   "execution_count": null,
   "metadata": {},
   "outputs": [],
   "source": [
    "#ufunc具体还有很多可以查看官网文档获取"
   ]
  }
 ],
 "metadata": {
  "kernelspec": {
   "display_name": "pydata-book",
   "language": "python",
   "name": "python3"
  },
  "language_info": {
   "codemirror_mode": {
    "name": "ipython",
    "version": 3
   },
   "file_extension": ".py",
   "mimetype": "text/x-python",
   "name": "python",
   "nbconvert_exporter": "python",
   "pygments_lexer": "ipython3",
   "version": "3.13.1"
  }
 },
 "nbformat": 4,
 "nbformat_minor": 2
}
