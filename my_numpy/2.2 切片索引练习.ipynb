{
 "cells": [
  {
   "cell_type": "code",
   "execution_count": 2,
   "metadata": {},
   "outputs": [
    {
     "name": "stdout",
     "output_type": "stream",
     "text": [
      "[[[ 1  2  3]\n",
      "  [ 4  5  6]\n",
      "  [ 7  8  9]]\n",
      "\n",
      " [[10 11 12]\n",
      "  [13 14 15]\n",
      "  [16 17 18]]]\n"
     ]
    }
   ],
   "source": [
    "import numpy as np\n",
    "\n",
    "arr_3d=np.array([[[1,2,3],[4,5,6],[7,8,9]],[[10,11,12],[13,14,15],[16,17,18]]])\n",
    "\n",
    "print(arr_3d)"
   ]
  },
  {
   "cell_type": "code",
   "execution_count": 5,
   "metadata": {},
   "outputs": [
    {
     "name": "stdout",
     "output_type": "stream",
     "text": [
      "[[1 2 3]\n",
      " [4 5 6]]\n",
      "[[2 3]\n",
      " [5 6]] (2, 2)\n"
     ]
    }
   ],
   "source": [
    "#二维数组切片,取出一个二维数组\n",
    "\n",
    "arr_2d=arr_3d[0]\n",
    "\n",
    "#对其进行切片:\n",
    "slice1=arr_2d[:2]\n",
    "print(slice1)\n",
    "##沿着y轴切说明切片是按着轴向选取元素的\n",
    "\n",
    "#多个参数\n",
    "slice2=arr_2d[:2,1:]\n",
    "print(slice2,slice2.shape)\n",
    "#可以看到先按照y轴方向切割前2行,再x轴切第2列和第三列\n",
    "#shape大小为(2,2)是2*2的二维数组"
   ]
  },
  {
   "cell_type": "code",
   "execution_count": null,
   "metadata": {},
   "outputs": [
    {
     "name": "stdout",
     "output_type": "stream",
     "text": [
      "[4 5] (2,)\n"
     ]
    }
   ],
   "source": [
    "#选取第二行的前两列\n",
    "slice3=arr_2d[1,:2]\n",
    "print(slice3,slice3.shape)\n",
    "\n",
    "#(2,)一维数组"
   ]
  },
  {
   "cell_type": "code",
   "execution_count": 8,
   "metadata": {},
   "outputs": [
    {
     "name": "stdout",
     "output_type": "stream",
     "text": [
      "[3 6] (2,)\n"
     ]
    }
   ],
   "source": [
    "#选择第三列的前两行\n",
    "\n",
    "slice4=arr_2d[:2,2]\n",
    "print(slice4,slice4.shape)"
   ]
  },
  {
   "cell_type": "code",
   "execution_count": null,
   "metadata": {},
   "outputs": [
    {
     "name": "stdout",
     "output_type": "stream",
     "text": [
      "[[3]\n",
      " [6]] (2, 1)\n"
     ]
    },
    {
     "data": {
      "text/plain": [
       "''"
      ]
     },
     "execution_count": 13,
     "metadata": {},
     "output_type": "execute_result"
    }
   ],
   "source": [
    "#冒号本身意味着选取整个轴,因此可以只对高维轴进行切片\n",
    "slice5=arr_2d[:2,2:]\n",
    "print(slice5,slice5.shape)\n",
    "\n",
    "\n",
    "\"\"\"\n",
    "在NumPy中对二维数组进行切片时,是否降维取决于 \n",
    "切片操作中是否在某个维度上使用了索引（单个值）而非切片（含冒号)\n",
    "\n",
    "单个索引（无冒号）会导致降维,切片（含冒号）会保留维度\n",
    "\"\"\""
   ]
  },
  {
   "cell_type": "code",
   "execution_count": null,
   "metadata": {},
   "outputs": [],
   "source": []
  },
  {
   "cell_type": "code",
   "execution_count": 12,
   "metadata": {},
   "outputs": [
    {
     "name": "stdout",
     "output_type": "stream",
     "text": [
      "[[[ 1  2  3]\n",
      "  [ 4  5  6]\n",
      "  [ 7  8  9]]\n",
      "\n",
      " [[10  0  0]\n",
      "  [13  0  0]\n",
      "  [16 17 18]]] (2, 3, 3)\n"
     ]
    }
   ],
   "source": [
    "#当然对切片表达式赋值也会扩散到整个数组:\n",
    "\n",
    "arr_3d[1,:2,1:]=0\n",
    "\n",
    "print(arr_3d,arr_3d.shape)\n"
   ]
  },
  {
   "cell_type": "code",
   "execution_count": null,
   "metadata": {},
   "outputs": [],
   "source": []
  }
 ],
 "metadata": {
  "kernelspec": {
   "display_name": "pydata-book",
   "language": "python",
   "name": "python3"
  },
  "language_info": {
   "codemirror_mode": {
    "name": "ipython",
    "version": 3
   },
   "file_extension": ".py",
   "mimetype": "text/x-python",
   "name": "python",
   "nbconvert_exporter": "python",
   "pygments_lexer": "ipython3",
   "version": "3.13.1"
  }
 },
 "nbformat": 4,
 "nbformat_minor": 2
}
