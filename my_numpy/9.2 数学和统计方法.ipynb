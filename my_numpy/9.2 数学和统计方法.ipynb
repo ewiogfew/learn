{
 "cells": [
  {
   "cell_type": "code",
   "execution_count": 2,
   "metadata": {},
   "outputs": [
    {
     "data": {
      "text/plain": [
       "array([[-1.42382504,  1.26372846, -0.87066174, -0.25917323],\n",
       "       [-0.07534331, -0.74088465, -1.3677927 ,  0.6488928 ],\n",
       "       [ 0.36105811, -1.95286306,  2.34740965,  0.96849691],\n",
       "       [-0.75938718,  0.90219827, -0.46695317, -0.06068952],\n",
       "       [ 0.78884434, -1.25666813,  0.57585751,  1.39897899]])"
      ]
     },
     "execution_count": 2,
     "metadata": {},
     "output_type": "execute_result"
    }
   ],
   "source": [
    "\"\"\"\n",
    "sum,mean 等聚合运算既可以用作数组的实例方法调用,也可以使用顶层的numpy函数\n",
    "比如numpy.sum将要聚合的数组 作为第一个参数\n",
    "\n",
    "\"\"\"\n",
    "import numpy as np\n",
    "rng=np.random.default_rng(seed=12345)\n",
    "\n",
    "#生产一个正态分布随机数据,然后做类据统计\n",
    "arr=rng.standard_normal((5,4))\n",
    "arr"
   ]
  },
  {
   "cell_type": "code",
   "execution_count": 3,
   "metadata": {},
   "outputs": [
    {
     "data": {
      "text/plain": [
       "np.float64(0.021223322497782027)"
      ]
     },
     "execution_count": 3,
     "metadata": {},
     "output_type": "execute_result"
    }
   ],
   "source": [
    "arr.sum()"
   ]
  },
  {
   "cell_type": "code",
   "execution_count": 4,
   "metadata": {},
   "outputs": [
    {
     "data": {
      "text/plain": [
       "np.float64(0.0010611661248891013)"
      ]
     },
     "execution_count": 4,
     "metadata": {},
     "output_type": "execute_result"
    }
   ],
   "source": [
    "arr.mean()"
   ]
  },
  {
   "cell_type": "code",
   "execution_count": 5,
   "metadata": {},
   "outputs": [
    {
     "data": {
      "text/plain": [
       "np.float64(0.0010611661248891013)"
      ]
     },
     "execution_count": 5,
     "metadata": {},
     "output_type": "execute_result"
    }
   ],
   "source": [
    "np.mean(arr)"
   ]
  },
  {
   "cell_type": "code",
   "execution_count": 6,
   "metadata": {},
   "outputs": [
    {
     "data": {
      "text/plain": [
       "array([-0.32248289, -0.38378196,  0.4310254 , -0.0962079 ,  0.37675318])"
      ]
     },
     "execution_count": 6,
     "metadata": {},
     "output_type": "execute_result"
    }
   ],
   "source": [
    "\"\"\"\n",
    "mean和sum函数可以接受一个参数axis用于计算该轴向上的统计值,最终结果是低一维的数组\n",
    "\n",
    "轴(axis)的定义:\n",
    "对于二维数组（矩阵）：\n",
    "\n",
    "axis=0:表示沿着行的方向（垂直向下），即对同一列的元素进行操作。\n",
    "\n",
    "axis=1:表示沿着列的方向（水平向右），即对同一行的元素进行操作。\n",
    "\"\"\"\n",
    "#计算的每一列的平均值\n",
    "arr.mean(0)\n",
    "#计算的每一行的平均值\n",
    "arr.mean(1)"
   ]
  },
  {
   "cell_type": "code",
   "execution_count": 10,
   "metadata": {},
   "outputs": [
    {
     "data": {
      "text/plain": [
       "array([-1.10865307, -1.78448912,  0.21785956,  2.69650595])"
      ]
     },
     "execution_count": 10,
     "metadata": {},
     "output_type": "execute_result"
    }
   ],
   "source": [
    "#计算每一行的和\n",
    "arr.sum(1)\n",
    "#计算每一列的和\n",
    "arr.sum(0)"
   ]
  },
  {
   "cell_type": "code",
   "execution_count": 8,
   "metadata": {},
   "outputs": [
    {
     "name": "stdout",
     "output_type": "stream",
     "text": [
      "[1 2 3 4 5 6]\n"
     ]
    }
   ],
   "source": [
    "\"\"\"\n",
    "累积函数:cumsum,不聚合,与sum(聚合为单个值)不同,返回同样大小的数组.\n",
    "中间结果：每一步的累加结果都会被保留，最终输出所有中间值组成的数组\n",
    "\"\"\"\n",
    "#cumsum（累计求和）方法会生成一个数组，其中每个元素是原数组从起始位置到当前位置所有元素的累加和\n",
    "import numpy as np\n",
    "arr_1=np.array([1,1,1,1,1,1])\n",
    "\n",
    "x=arr_1.cumsum()\n",
    "print(x)\n",
    "#每个位置的值是前面所有元素（包括自身）的累加和"
   ]
  },
  {
   "cell_type": "code",
   "execution_count": 11,
   "metadata": {},
   "outputs": [
    {
     "name": "stdout",
     "output_type": "stream",
     "text": [
      "[[ 1  3  6]\n",
      " [ 4  9 15]]\n",
      "[[1 2 3]\n",
      " [5 7 9]]\n"
     ]
    }
   ],
   "source": [
    "#多维数组与轴:对于多维数组，cumsum 可以沿指定轴（axis）进行累计操作：\n",
    "\n",
    "arr_2=np.array([[1,2,3],[4,5,6]])\n",
    "\n",
    "#求行的累加数组\n",
    "y=arr_2.cumsum(1)\n",
    "print(y)\n",
    "\n",
    "#求列的累加数组\n",
    "z=arr_2.cumsum(0)\n",
    "print(z)\n"
   ]
  },
  {
   "cell_type": "code",
   "execution_count": null,
   "metadata": {},
   "outputs": [],
   "source": [
    "\"\"\"\n",
    "基本的数组统计方法\n",
    "    方法            功能              轴参数\n",
    "np.sum()\t计算数组元素的总和\t支持\n",
    "np.mean()\t计算数组的平均值\t支持\n",
    "np.max()\t计算数组中的最大值\t支持\n",
    "np.min()\t计算数组中的最小值\t支持\n",
    "np.median()\t计算数组的中位数\t支持\n",
    "np.std()\t计算数组的标准差\t支持\n",
    "np.var()\t计算数组的方差\t支持\n",
    "np.percentile()\t计算数组的百分位数\t支持\n",
    "\n",
    "\"\"\""
   ]
  }
 ],
 "metadata": {
  "kernelspec": {
   "display_name": "pydata-book",
   "language": "python",
   "name": "python3"
  },
  "language_info": {
   "codemirror_mode": {
    "name": "ipython",
    "version": 3
   },
   "file_extension": ".py",
   "mimetype": "text/x-python",
   "name": "python",
   "nbconvert_exporter": "python",
   "pygments_lexer": "ipython3",
   "version": "3.13.1"
  }
 },
 "nbformat": 4,
 "nbformat_minor": 2
}
