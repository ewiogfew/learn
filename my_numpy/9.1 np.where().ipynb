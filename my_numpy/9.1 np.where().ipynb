{
 "cells": [
  {
   "cell_type": "code",
   "execution_count": 21,
   "metadata": {},
   "outputs": [
    {
     "data": {
      "text/plain": [
       "[np.int64(1), np.int64(2), np.int64(8), np.int64(4), np.int64(10)]"
      ]
     },
     "execution_count": 21,
     "metadata": {},
     "output_type": "execute_result"
    }
   ],
   "source": [
    "\"\"\"\n",
    "numpy.where函数是三元表达式 x if condition else y 的向量化版本\n",
    "\n",
    "\"\"\"\n",
    "import numpy as np\n",
    "\n",
    "cond=np.array([True,True,False,True,False])\n",
    "arr_1=np.array([1,2,3,4,5])\n",
    "arr_2=np.array([6,7,8,9,10])\n",
    "\n",
    "#如果根据cond数组选择arr1和arr2中的数据,当cond中的值为true时选arr1\n",
    "\n",
    "#使用列表推导式法:\n",
    "list_1=[(x if bool==True else y) for x,y,bool in zip(arr_1,arr_2,cond) ]\n",
    "list_1"
   ]
  },
  {
   "cell_type": "code",
   "execution_count": null,
   "metadata": {},
   "outputs": [
    {
     "data": {
      "text/plain": [
       "array([ 1,  2,  8,  4, 10])"
      ]
     },
     "execution_count": 22,
     "metadata": {},
     "output_type": "execute_result"
    }
   ],
   "source": [
    "#用np.where(条件数组,x,y)方法效率高又简洁\n",
    "\n",
    "arr=np.where(cond,arr_1,arr_2)\n",
    "arr"
   ]
  },
  {
   "cell_type": "code",
   "execution_count": 25,
   "metadata": {},
   "outputs": [
    {
     "data": {
      "text/plain": [
       "array([99, 99,  8, 99, 10])"
      ]
     },
     "execution_count": 25,
     "metadata": {},
     "output_type": "execute_result"
    }
   ],
   "source": [
    "#where里面的第二第三参数不局限于数组可以是一个或二个标量值,\n",
    "\n",
    "#比如将true对应的数据替换为99\n",
    "arra=np.where(cond,99,arr_2)\n",
    "arra"
   ]
  },
  {
   "cell_type": "code",
   "execution_count": 26,
   "metadata": {},
   "outputs": [
    {
     "name": "stdout",
     "output_type": "stream",
     "text": [
      "[[-1.42382504  1.26372846 -0.87066174 -0.25917323]\n",
      " [-0.07534331 -0.74088465 -1.3677927   0.6488928 ]\n",
      " [ 0.36105811 -1.95286306  2.34740965  0.96849691]\n",
      " [-0.75938718  0.90219827 -0.46695317 -0.06068952]]\n"
     ]
    },
    {
     "data": {
      "text/plain": [
       "array([0, 0, 0, 1, 1])"
      ]
     },
     "execution_count": 26,
     "metadata": {},
     "output_type": "execute_result"
    }
   ],
   "source": [
    "#将2个变量全变为标量:True的改为1false的改为0\n",
    "arr_1=np.array([1,2,3,4,5])\n",
    "rng=np.random.default_rng(seed=12345)\n",
    "\n",
    "arr_a=rng.standard_normal((4,4))\n",
    "print(arr_a)\n",
    "\n",
    "arr_b=np.where(arr_1>3,1,0)\n",
    "arr_b"
   ]
  },
  {
   "cell_type": "code",
   "execution_count": null,
   "metadata": {},
   "outputs": [],
   "source": [
    "#注意np.where(cond,x,y)\n",
    "#x数组和y数组的元素类型必须一致,不能字符串和数字存在一起"
   ]
  }
 ],
 "metadata": {
  "kernelspec": {
   "display_name": "pydata-book",
   "language": "python",
   "name": "python3"
  },
  "language_info": {
   "codemirror_mode": {
    "name": "ipython",
    "version": 3
   },
   "file_extension": ".py",
   "mimetype": "text/x-python",
   "name": "python",
   "nbconvert_exporter": "python",
   "pygments_lexer": "ipython3",
   "version": "3.13.1"
  }
 },
 "nbformat": 4,
 "nbformat_minor": 2
}
