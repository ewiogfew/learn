{
 "cells": [
  {
   "cell_type": "code",
   "execution_count": null,
   "metadata": {},
   "outputs": [
    {
     "name": "stdout",
     "output_type": "stream",
     "text": [
      "1 2 [1 2]\n",
      "9\n"
     ]
    }
   ],
   "source": [
    "#可以通过引用数组元素的索引号来访问数组元素\n",
    "import numpy as np\n",
    "\n",
    "arr=np.array([1,2,3,4,5])\n",
    "#数组索引从0开始\n",
    "arr_0=arr[0]\n",
    "arr_1=arr[1]\n",
    "arr_2=arr[:2]\n",
    "print(arr_0,arr_1,arr_2)\n",
    "#输出 1 2 是0维数组 [1,2]维度不变\n",
    "#切片可以保留维度,索引会降低维度\n",
    "\n",
    "\n",
    "#取数组arr的第四个和第五个元素并相加\n",
    "print(arr[3]+arr[4])\n",
    "\n"
   ]
  },
  {
   "cell_type": "code",
   "execution_count": 7,
   "metadata": {},
   "outputs": [
    {
     "name": "stdout",
     "output_type": "stream",
     "text": [
      "第一行和第二列的元素:2\n",
      "第二行和第3列的元素6\n"
     ]
    }
   ],
   "source": [
    "#访问 2-D 数组\n",
    "#将二维数组想象成一个包含行和列的表格，其中维度表示行，索引表示列\n",
    "\n",
    "#访问\n",
    "import numpy as np\n",
    "arr=np.array([[1,2,3],[4,5,6]])\n",
    "\n",
    "print(f\"第一行和第二列的元素:{arr[0,1]}\\n第二行和第3列的元素{arr[1,2]}\")"
   ]
  },
  {
   "cell_type": "code",
   "execution_count": 10,
   "metadata": {},
   "outputs": [
    {
     "name": "stdout",
     "output_type": "stream",
     "text": [
      "第一层,第二行,第三列元素:6\n",
      "np_2的第二层,第2行,第1列的数字是:7\n"
     ]
    }
   ],
   "source": [
    "#访问 3-D 数组\n",
    "#要访问 3-D 数组(逻辑上可看作立方体或堆叠的多个平面)中的元素，\n",
    "#我们可以使用逗号分隔的整数来表示 元素的层,维度,索引\n",
    "\n",
    "import numpy as np\n",
    "arr=np.array([[[1,2,3],[4,5,6]],[[7,8,9],[10,11,12]]])\n",
    "\n",
    "#访问三维数组的第一层,第二行,第三列元素\n",
    "print(f\"第一层,第二行,第三列元素:{arr[0,1,2]}\")\n",
    "\n",
    "#定义一个空间2*2*2的数组\n",
    "\n",
    "np_2=np.array([[[1,2],[3,4]],\n",
    "               [[5,6],[7,8]]])\n",
    "print(f\"np_2的第二层,第2行,第1列的数字是:{np_2[1,1,0]}\")"
   ]
  },
  {
   "cell_type": "code",
   "execution_count": 11,
   "metadata": {},
   "outputs": [
    {
     "name": "stdout",
     "output_type": "stream",
     "text": [
      "np_2的第二层,第2行,第1列的数字是:7\n"
     ]
    }
   ],
   "source": [
    "#负索引,从末尾(-1)开始访问访问数组\n",
    "import numpy as np\n",
    "np_2=np.array([[[1,2],[3,4]],\n",
    "               [[5,6],[7,8]]])\n",
    "print(f\"np_2的第二层,第2行,第1列的数字是:{np_2[-1,-1,-2]}\")"
   ]
  },
  {
   "cell_type": "code",
   "execution_count": null,
   "metadata": {},
   "outputs": [],
   "source": []
  }
 ],
 "metadata": {
  "kernelspec": {
   "display_name": "pydata-book",
   "language": "python",
   "name": "python3"
  },
  "language_info": {
   "codemirror_mode": {
    "name": "ipython",
    "version": 3
   },
   "file_extension": ".py",
   "mimetype": "text/x-python",
   "name": "python",
   "nbconvert_exporter": "python",
   "pygments_lexer": "ipython3",
   "version": "3.13.1"
  }
 },
 "nbformat": 4,
 "nbformat_minor": 2
}
