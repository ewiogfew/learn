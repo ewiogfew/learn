{
 "cells": [
  {
   "cell_type": "code",
   "execution_count": 1,
   "metadata": {},
   "outputs": [],
   "source": [
    "#重塑数组\n",
    "\n",
    "#重塑意味着更改数组的形状。\n",
    "\n",
    "#数组的形状是每个维度中的元素数。\n",
    "\n",
    "#通过重塑，我们可以添加或删除维度或更改每个维度中的元素数量"
   ]
  },
  {
   "cell_type": "code",
   "execution_count": null,
   "metadata": {},
   "outputs": [
    {
     "name": "stdout",
     "output_type": "stream",
     "text": [
      "re_arr:\n",
      "[[ 1  2  3]\n",
      " [ 4  5  6]\n",
      " [ 7  8  9]\n",
      " [10 11 12]]\n"
     ]
    }
   ],
   "source": [
    "#一.从 1-D 到 2-D 的修整\n",
    "\n",
    "#例子:将以下具有 12 个元素的 1-D 数组转换为 2-D 数组,\n",
    "#最外层的维度将有 4 个数组，每个数组有 3 个元素：\n",
    "\n",
    "#方法:arr.reshape()\n",
    "import numpy as np \n",
    "arr=np.array([1,2,3,4,5,6,7,8,9,10,11,12])\n",
    "\n",
    "re_arr=arr.reshape(4,3)\n",
    "print(f\"re_arr:\\n{re_arr}\")\n",
    "\n"
   ]
  },
  {
   "cell_type": "code",
   "execution_count": null,
   "metadata": {},
   "outputs": [
    {
     "name": "stdout",
     "output_type": "stream",
     "text": [
      "re_arr:\n",
      "[[[ 1  2]\n",
      "  [ 3  4]\n",
      "  [ 5  6]]\n",
      "\n",
      " [[ 7  8]\n",
      "  [ 9 10]\n",
      "  [11 12]]]\n",
      "类型:[ 1  2  3  4  5  6  7  8  9 10 11 12]\n"
     ]
    }
   ],
   "source": [
    "#二.从 1-D 重塑为 3-D\n",
    "#将以下具有 12 个元素的一维数组转换为三维数组。\n",
    "#最外层的维度(层)将有2个数组，每个数组包含3个数组，每个数组包含2个元素：\n",
    "\n",
    "import numpy as np \n",
    "arr=np.array([1,2,3,4,5,6,7,8,9,10,11,12])\n",
    "\n",
    "\n",
    "re_arr=arr.reshape(2,3,2)\n",
    "print(f\"re_arr:\\n{re_arr}\\n类型:{re_arr.base}\")\n",
    "#使用base方法,返回了数组说明重塑的数组是视图,而不是副本."
   ]
  },
  {
   "cell_type": "code",
   "execution_count": null,
   "metadata": {},
   "outputs": [
    {
     "name": "stdout",
     "output_type": "stream",
     "text": [
      "f_arr:\n",
      "[1 2 3 4 5 6]\n",
      "类型:\n",
      "[[1 2 3]\n",
      " [4 5 6]]\n"
     ]
    }
   ],
   "source": [
    "#三.扁平化数组(Flattening array)是指将多维数组转换为 1D 数组\n",
    "\n",
    "import numpy as np\n",
    "\n",
    "arr = np.array([[1, 2, 3], [4, 5, 6]])\n",
    "\n",
    "#扁平化数组:\n",
    "f_arr=arr.reshape(6)\n",
    "f_arr=arr.reshape(-1)\n",
    "print(f\"f_arr:\\n{f_arr}\\n类型:\\n{f_arr.base}\")\n"
   ]
  },
  {
   "cell_type": "code",
   "execution_count": null,
   "metadata": {},
   "outputs": [
    {
     "data": {
      "text/plain": [
       "array([[1, 2],\n",
       "       [3, 4],\n",
       "       [5, 6]])"
      ]
     },
     "execution_count": 2,
     "metadata": {},
     "output_type": "execute_result"
    }
   ],
   "source": [
    "#四.未知维度:\n",
    "#在NumPy中，使用 -1 作为 reshape的维度参数表示“自动计算该维度的大小”，\n",
    "#使得新数组的总元素数与原始数组一致.这是NumPy提供的一种便捷方式,避免手动计算某个维度的具体值。\n",
    "\n",
    "#将具有 1 个元素的 8D 数组转换为具有 3x2 元素的 2D 数组：\n",
    "\n",
    "import numpy as np\n",
    "arr = np.array([1, 2, 3, 4, 5, 6,])\n",
    "arr.reshape((3,-1))\n"
   ]
  },
  {
   "cell_type": "code",
   "execution_count": null,
   "metadata": {},
   "outputs": [],
   "source": []
  }
 ],
 "metadata": {
  "kernelspec": {
   "display_name": "pydata-book",
   "language": "python",
   "name": "python3"
  },
  "language_info": {
   "codemirror_mode": {
    "name": "ipython",
    "version": 3
   },
   "file_extension": ".py",
   "mimetype": "text/x-python",
   "name": "python",
   "nbconvert_exporter": "python",
   "pygments_lexer": "ipython3",
   "version": "3.13.1"
  }
 },
 "nbformat": 4,
 "nbformat_minor": 2
}
