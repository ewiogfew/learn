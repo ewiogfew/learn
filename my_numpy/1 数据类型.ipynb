{
 "cells": [
  {
   "cell_type": "code",
   "execution_count": null,
   "metadata": {},
   "outputs": [],
   "source": [
    "#numpy的数据类型(dtype):\n",
    "#i-整数\n",
    "#S-字符串\n",
    "#b-布尔\n",
    "#u-无符号整数\n",
    "#f-浮\n",
    "#c- 复杂浮点数\n",
    "#m- 时间增量\n",
    "#M- 日期时间\n",
    "#O-对象\n",
    "#U- Unicode 字符串\n",
    "#V- 修复了其他类型的内存块 （ void ）\n",
    "\n",
    "\n",
    "#\"S\" vs \"U\n",
    "\n",
    "#\"S\"\t固定长度字节字符串\tbytes\tb'1'\n",
    "#\"U\"\tUnicode字符串\tstr\t'1'\n",
    "\n",
    "#为什么默认是字节字符串？\n",
    "#NumPy的\"S\"类型设计初衷是用于存储二进制数据（如文件中的原始字节），而\"U\"类型更适用于文本处理场景。"
   ]
  },
  {
   "cell_type": "code",
   "execution_count": 3,
   "metadata": {},
   "outputs": [
    {
     "name": "stdout",
     "output_type": "stream",
     "text": [
      "int64\n"
     ]
    }
   ],
   "source": [
    "#检查数组的数据类型\n",
    "import numpy as np\n",
    "\n",
    "arr = np.array([1, 2, 3, 4])\n",
    "\n",
    "#arr.dtype方法:它返回数组的数据类型\n",
    "print(arr.dtype)"
   ]
  },
  {
   "cell_type": "code",
   "execution_count": 4,
   "metadata": {},
   "outputs": [
    {
     "name": "stdout",
     "output_type": "stream",
     "text": [
      "<U6\n"
     ]
    }
   ],
   "source": [
    "#获取包含字符串的数组的数据类型：\n",
    "import numpy as np\n",
    "\n",
    "arr = np.array(['apple', 'banana', 'cherry'])\n",
    "\n",
    "print(arr.dtype)"
   ]
  },
  {
   "cell_type": "code",
   "execution_count": 6,
   "metadata": {},
   "outputs": [
    {
     "name": "stdout",
     "output_type": "stream",
     "text": [
      "npy的数据类型为:|S1\n"
     ]
    }
   ],
   "source": [
    "#创建具有已定义数据类型的数组\n",
    "#该函数可以采用一个可选参数：它允许我们定义数组元素的预期数据类型：array(数组,dtype=)\n",
    "\n",
    "import numpy as np\n",
    "\n",
    "npy=np.array([1,2,3,4],dtype=\"S\")\n",
    "\n",
    "print(f\"npy的数据类型为:{npy.dtype}\")"
   ]
  },
  {
   "cell_type": "code",
   "execution_count": 8,
   "metadata": {},
   "outputs": [
    {
     "name": "stdout",
     "output_type": "stream",
     "text": [
      "npy:[1 2 3 4]的数据类型为:int32\n"
     ]
    }
   ],
   "source": [
    "#我们也可以定义大小。i u f S U\n",
    "#创建一个数据类型为 4 字节整数的数组\n",
    "\n",
    "import numpy as np\n",
    "\n",
    "npy=np.array([1,2,3,4],dtype=\"i4\")\n",
    "\n",
    "print(f\"npy:{npy}的数据类型为:{npy.dtype}\")\n",
    "\n",
    "#注释:1字节等于8bit"
   ]
  },
  {
   "cell_type": "code",
   "execution_count": 1,
   "metadata": {},
   "outputs": [
    {
     "ename": "ValueError",
     "evalue": "invalid literal for int() with base 10: 'a'",
     "output_type": "error",
     "traceback": [
      "\u001b[1;31m---------------------------------------------------------------------------\u001b[0m",
      "\u001b[1;31mValueError\u001b[0m                                Traceback (most recent call last)",
      "Cell \u001b[1;32mIn[1], line 5\u001b[0m\n\u001b[0;32m      1\u001b[0m \u001b[38;5;66;03m#像 'a' 这样的非整数字符串不能转换为整数（会引发错误)\u001b[39;00m\n\u001b[0;32m      3\u001b[0m \u001b[38;5;28;01mimport\u001b[39;00m\u001b[38;5;250m \u001b[39m\u001b[38;5;21;01mnumpy\u001b[39;00m\u001b[38;5;250m \u001b[39m\u001b[38;5;28;01mas\u001b[39;00m\u001b[38;5;250m \u001b[39m\u001b[38;5;21;01mnp\u001b[39;00m\n\u001b[1;32m----> 5\u001b[0m arr \u001b[38;5;241m=\u001b[39m \u001b[43mnp\u001b[49m\u001b[38;5;241;43m.\u001b[39;49m\u001b[43marray\u001b[49m\u001b[43m(\u001b[49m\u001b[43m[\u001b[49m\u001b[38;5;124;43m'\u001b[39;49m\u001b[38;5;124;43ma\u001b[39;49m\u001b[38;5;124;43m'\u001b[39;49m\u001b[43m,\u001b[49m\u001b[43m \u001b[49m\u001b[38;5;124;43m'\u001b[39;49m\u001b[38;5;124;43m2\u001b[39;49m\u001b[38;5;124;43m'\u001b[39;49m\u001b[43m,\u001b[49m\u001b[43m \u001b[49m\u001b[38;5;124;43m'\u001b[39;49m\u001b[38;5;124;43m3\u001b[39;49m\u001b[38;5;124;43m'\u001b[39;49m\u001b[43m]\u001b[49m\u001b[43m,\u001b[49m\u001b[43m \u001b[49m\u001b[43mdtype\u001b[49m\u001b[38;5;241;43m=\u001b[39;49m\u001b[38;5;124;43m'\u001b[39;49m\u001b[38;5;124;43mi8\u001b[39;49m\u001b[38;5;124;43m'\u001b[39;49m\u001b[43m)\u001b[49m\n",
      "\u001b[1;31mValueError\u001b[0m: invalid literal for int() with base 10: 'a'"
     ]
    }
   ],
   "source": [
    "#像 'a' 这样的非整数字符串不能转换为整数（会引发错误)\n",
    "\n",
    "import numpy as np\n",
    "\n",
    "arr = np.array(['a', '2', '3'], dtype='i8')"
   ]
  },
  {
   "cell_type": "code",
   "execution_count": null,
   "metadata": {},
   "outputs": [
    {
     "name": "stdout",
     "output_type": "stream",
     "text": [
      "npy_int:[1 2 3 4]的数据类型为:int32\n",
      "npy_str:[b'1' b'2' b'3' b'4']数据类型为:|S11\n",
      "npy_bool:[ True  True  True  True],数据类型:bool\n"
     ]
    }
   ],
   "source": [
    "#转换现有数组的数据类型\n",
    "#该函数会创建 数组，并允许您将数据类型指定为参数。arr.astype(\"参数\")\n",
    "import numpy as np\n",
    "\n",
    "npy_int=np.array([1,2,3,4],dtype=\"i4\")\n",
    "\n",
    "print(f\"npy_int:{npy_int}的数据类型为:{npy_int.dtype}\")\n",
    "\n",
    "#转为字节字符串\n",
    "npy_str=npy_int.astype(\"S\")\n",
    "\n",
    "print(f\"npy_str:{npy_str}数据类型为:{npy_str.dtype}\")\n",
    "\n",
    "#转为布尔类型\n",
    "npy_bool=npy_int.astype(bool)\n",
    "\n",
    "print(f\"npy_bool:{npy_bool},数据类型:{npy_bool.dtype}\")\n",
    "\n",
    "#注释:在NumPy中，将整数数组转换为布尔类型时，非零值会被视为True\n"
   ]
  },
  {
   "cell_type": "code",
   "execution_count": null,
   "metadata": {},
   "outputs": [
    {
     "name": "stdout",
     "output_type": "stream",
     "text": [
      "[ 1.23   2.121 34.22 ]\n"
     ]
    },
    {
     "ename": "ValueError",
     "evalue": "invalid literal for int() with base 10: np.str_('1.23')",
     "output_type": "error",
     "traceback": [
      "\u001b[1;31m---------------------------------------------------------------------------\u001b[0m",
      "\u001b[1;31mValueError\u001b[0m                                Traceback (most recent call last)",
      "Cell \u001b[1;32mIn[6], line 10\u001b[0m\n\u001b[0;32m      7\u001b[0m arr_1\u001b[38;5;241m=\u001b[39marr\u001b[38;5;241m.\u001b[39mastype(\u001b[38;5;28mfloat\u001b[39m)\n\u001b[0;32m      8\u001b[0m \u001b[38;5;28mprint\u001b[39m(arr_1)\n\u001b[1;32m---> 10\u001b[0m arr_2\u001b[38;5;241m=\u001b[39m\u001b[43marr\u001b[49m\u001b[38;5;241;43m.\u001b[39;49m\u001b[43mastype\u001b[49m\u001b[43m(\u001b[49m\u001b[38;5;28;43mint\u001b[39;49m\u001b[43m)\u001b[49m\n\u001b[0;32m     11\u001b[0m arr_2\n",
      "\u001b[1;31mValueError\u001b[0m: invalid literal for int() with base 10: np.str_('1.23')"
     ]
    }
   ],
   "source": [
    "#转化:将浮点数字符串转化为整数不可行\n",
    "\n",
    "import numpy as np\n",
    "\n",
    "arr=np.array([\"1.23\",\"2.121\",\"34.22\"],dtype=\"U\")\n",
    "\n",
    "\n",
    "#转化:\n",
    "arr_1=arr.astype(float)\n",
    "print(arr_1)\n",
    "\n",
    "arr_2=arr.astype(int)\n",
    "arr_2"
   ]
  },
  {
   "cell_type": "code",
   "execution_count": 13,
   "metadata": {},
   "outputs": [
    {
     "name": "stdout",
     "output_type": "stream",
     "text": [
      "[0 1 2 3 4 5 6 7 8 9]\n",
      "[1. 2. 3. 4. 5. 6.]\n"
     ]
    },
    {
     "data": {
      "text/plain": [
       "array([0., 1., 2., 3., 4., 5., 6., 7., 8., 9.])"
      ]
     },
     "execution_count": 13,
     "metadata": {},
     "output_type": "execute_result"
    }
   ],
   "source": [
    "#还可以使用另一个数组的dtype属性\n",
    "\n",
    "import numpy as np\n",
    "\n",
    "#创建数组的另一种方法:np.arange()\n",
    "arr_int=np.arange(10)\n",
    "print(arr_int)\n",
    "\n",
    "arr_float=np.array([1,2,3,4,5,6],dtype=np.float64)\n",
    "print(arr_float)\n",
    "\n",
    "#使用arr_float的dtype属性将arr_int转化为浮点数数据类型\n",
    "\n",
    "arr=arr_int.astype(arr_float.dtype)\n",
    "arr\n"
   ]
  },
  {
   "cell_type": "code",
   "execution_count": null,
   "metadata": {},
   "outputs": [],
   "source": []
  }
 ],
 "metadata": {
  "kernelspec": {
   "display_name": "pydata-book",
   "language": "python",
   "name": "python3"
  },
  "language_info": {
   "codemirror_mode": {
    "name": "ipython",
    "version": 3
   },
   "file_extension": ".py",
   "mimetype": "text/x-python",
   "name": "python",
   "nbconvert_exporter": "python",
   "pygments_lexer": "ipython3",
   "version": "3.13.1"
  }
 },
 "nbformat": 4,
 "nbformat_minor": 2
}
