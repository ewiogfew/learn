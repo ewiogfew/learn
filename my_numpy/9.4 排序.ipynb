{
 "cells": [
  {
   "cell_type": "code",
   "execution_count": 12,
   "metadata": {},
   "outputs": [
    {
     "data": {
      "text/plain": [
       "array([[-1.42382504,  1.26372846, -0.87066174, -0.25917323],\n",
       "       [-0.07534331, -0.74088465, -1.3677927 ,  0.6488928 ],\n",
       "       [ 0.36105811, -1.95286306,  2.34740965,  0.96849691],\n",
       "       [-0.75938718,  0.90219827, -0.46695317, -0.06068952]])"
      ]
     },
     "execution_count": 12,
     "metadata": {},
     "output_type": "execute_result"
    }
   ],
   "source": [
    "#类似于python内置的列表类型,numpy数组也可以通过sort方法排序\n",
    "import numpy as np\n",
    "rng=np.random.default_rng(seed=12345)\n",
    "\n",
    "arr=rng.standard_normal((4,4))\n",
    "arr"
   ]
  },
  {
   "cell_type": "code",
   "execution_count": null,
   "metadata": {},
   "outputs": [],
   "source": [
    "#使用sort方法排序,也可使用轴参数对行和列排序\n",
    "\"\"\"\n",
    "问题的原因：\n",
    "ndarray.sort() 方法会直接排序原始数组，并且返回值是 None,而不是排序后的数组。\n",
    "因此 arr1 的值为 None,所以没有输出。\n",
    "正确的用法：\n",
    "如果你希望得到排序后的数组（不对原始数组进行修改），应该使用 np.sort() 函数。\n",
    "否则，如果你希望就地排序原始数组，可以使用 ndarray.sort() 方法\n",
    "\"\"\"\n",
    "#对行排序\n",
    "arr1=arr.sort(1)\n",
    "arr1"
   ]
  },
  {
   "cell_type": "code",
   "execution_count": null,
   "metadata": {},
   "outputs": [
    {
     "data": {
      "text/plain": [
       "array([[-1.42382504, -1.95286306, -1.3677927 , -0.25917323],\n",
       "       [-0.75938718, -0.74088465, -0.87066174, -0.06068952],\n",
       "       [-0.07534331,  0.90219827, -0.46695317,  0.6488928 ],\n",
       "       [ 0.36105811,  1.26372846,  2.34740965,  0.96849691]])"
      ]
     },
     "execution_count": 13,
     "metadata": {},
     "output_type": "execute_result"
    }
   ],
   "source": [
    "#对每一列排序\n",
    "arr.sort(0)\n",
    "arr"
   ]
  },
  {
   "cell_type": "code",
   "execution_count": 14,
   "metadata": {},
   "outputs": [
    {
     "data": {
      "text/plain": [
       "array([[-1.95286306, -1.42382504, -1.3677927 , -0.25917323],\n",
       "       [-0.87066174, -0.75938718, -0.74088465, -0.06068952],\n",
       "       [-0.46695317, -0.07534331,  0.6488928 ,  0.90219827],\n",
       "       [ 0.36105811,  0.96849691,  1.26372846,  2.34740965]])"
      ]
     },
     "execution_count": 14,
     "metadata": {},
     "output_type": "execute_result"
    }
   ],
   "source": [
    "#对每一行排序\n",
    "arr.sort(1)\n",
    "arr"
   ]
  },
  {
   "cell_type": "code",
   "execution_count": null,
   "metadata": {},
   "outputs": [
    {
     "name": "stdout",
     "output_type": "stream",
     "text": [
      "[-4 -1  1  3  9]\n",
      "[ 1 -1 -4  3  9]\n"
     ]
    }
   ],
   "source": [
    "#np.sort()函数与上面的数组对象方法的区别是\n",
    "#np.sort()函数返回的是副本,而非视图\n",
    "\n",
    "arr_1=np.array([1,-1,-4,3,9])\n",
    "\n",
    "arr_1_new=np.sort(arr_1)\n",
    "print(arr_1_new)\n",
    "print(arr_1)#原数组没有被修改"
   ]
  },
  {
   "cell_type": "code",
   "execution_count": 26,
   "metadata": {},
   "outputs": [
    {
     "name": "stdout",
     "output_type": "stream",
     "text": [
      "[[-1.42382504  1.26372846 -0.87066174 -0.25917323]\n",
      " [-0.07534331 -0.74088465 -1.3677927   0.6488928 ]\n",
      " [ 0.36105811 -1.95286306  2.34740965  0.96849691]\n",
      " [-0.75938718  0.90219827 -0.46695317 -0.06068952]]\n"
     ]
    },
    {
     "data": {
      "text/plain": [
       "array([[-1.42382504, -1.95286306, -1.3677927 , -0.25917323],\n",
       "       [-0.75938718, -0.74088465, -0.87066174, -0.06068952],\n",
       "       [-0.07534331,  0.90219827, -0.46695317,  0.6488928 ],\n",
       "       [ 0.36105811,  1.26372846,  2.34740965,  0.96849691]])"
      ]
     },
     "execution_count": 26,
     "metadata": {},
     "output_type": "execute_result"
    }
   ],
   "source": [
    "rng=np.random.default_rng(seed=12345)\n",
    "arr_2=rng.standard_normal((4,4))\n",
    "print(arr_2)\n",
    "\n",
    "arr_2_new=np.sort(arr_2,axis=0)\n",
    "arr_2_new"
   ]
  },
  {
   "cell_type": "code",
   "execution_count": null,
   "metadata": {},
   "outputs": [],
   "source": [
    "\"\"\"\n",
    "np.sort() 默认情况下会对二维数组按行排序（axis=1）。\n",
    "如果需要按列排序，可以设置 axis=0。\n",
    "如果需要将整个数组展平后再排序，可以设置 axis=None。\n",
    "\"\"\""
   ]
  }
 ],
 "metadata": {
  "kernelspec": {
   "display_name": "pydata-book",
   "language": "python",
   "name": "python3"
  },
  "language_info": {
   "codemirror_mode": {
    "name": "ipython",
    "version": 3
   },
   "file_extension": ".py",
   "mimetype": "text/x-python",
   "name": "python",
   "nbconvert_exporter": "python",
   "pygments_lexer": "ipython3",
   "version": "3.13.1"
  }
 },
 "nbformat": 4,
 "nbformat_minor": 2
}
