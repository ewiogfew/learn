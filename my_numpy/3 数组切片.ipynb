{
 "cells": [
  {
   "cell_type": "code",
   "execution_count": 1,
   "metadata": {},
   "outputs": [
    {
     "name": "stdout",
     "output_type": "stream",
     "text": [
      "num从索引0到索引3的切片：[1 2 3]\n",
      "num从索引-3到索引-1的切片：[6 7]\n",
      "从头切到尾[1 2 3 4 5 6 7 8]step为2[1 3 5 7]\n",
      "num从索引0到索引6,切片间隔为2的切片：[1 3 5]\n",
      "[0 0 0 0 5 6 7 8]\n"
     ]
    }
   ],
   "source": [
    "import numpy as np\n",
    "\n",
    "#切以一维数组为例：\n",
    "num=np.array([1,2,3,4,5,6,7,8])\n",
    "#切片操作\n",
    "print(f\"num从索引0到索引3的切片：{num[0:3]}\")\n",
    "print(f\"num从索引-3到索引-1的切片：{num[-3:-1]}\")\n",
    "print(f\"从头切到尾{num[::1]}step为2{num[::2]}\")\n",
    "#默认step为1，即切片间隔为1\n",
    "print(f\"num从索引0到索引6,切片间隔为2的切片：{num[0:6:2]}\")\n",
    "\n",
    "#数据切片是原始数组的视图,数据不会被复制存副本\n",
    "#取数组切片赋值,会自动更改原数组\n",
    "num[0:4]=0\n",
    "print(num)\n"
   ]
  },
  {
   "cell_type": "code",
   "execution_count": 10,
   "metadata": {},
   "outputs": [
    {
     "name": "stdout",
     "output_type": "stream",
     "text": [
      "arr的第一行:[1 2 3 4 5]\n",
      "arr的第二行:[ 6  7  8  9 10]\n",
      "对arr的第二行进行切片(从第二个元素开始切到末尾的元素)[7 8 9]\n",
      "对arr的第一行切片从末尾切到首[5 4 3 2 1]\n"
     ]
    }
   ],
   "source": [
    "#切以二维数组为例：\n",
    "#定义二维数组\n",
    "arr=np.array([[1,2,3,4,5],[6,7,8,9,10]])\n",
    "#切片操作:arr[数组维度,切片索引]\n",
    "print(f\"arr的第一行:{arr[0]}\")\n",
    "print(f\"arr的第二行:{arr[1]}\")\n",
    "print(f\"对arr的第二行进行切片(从第二个元素开始切到末尾的元素){arr[1,1:4]}\")\n",
    "print(f\"对arr的第一行切片从末尾切到首{arr[0,::-1]}\")"
   ]
  },
  {
   "cell_type": "code",
   "execution_count": 17,
   "metadata": {},
   "outputs": [
    {
     "name": "stdout",
     "output_type": "stream",
     "text": [
      "[8]\n"
     ]
    }
   ],
   "source": [
    "#2.切片语法 arr[行选择, 列选择]\n",
    "\n",
    "import numpy as np\n",
    "\n",
    "arr = np.array([[1, 2, 3, 4, 5], [6, 7, 8, 9, 10]])\n",
    "\n",
    "#0:2表示从第一行到第三行(不包含第三行),2表示第三列\n",
    "print(arr[0:2, 2])\n"
   ]
  },
  {
   "cell_type": "code",
   "execution_count": 19,
   "metadata": {},
   "outputs": [
    {
     "name": "stdout",
     "output_type": "stream",
     "text": [
      "[[2 3 4]\n",
      " [7 8 9]]\n"
     ]
    }
   ],
   "source": [
    "import numpy as np\n",
    "\n",
    "arr = np.array([[1, 2, 3, 4, 5], [6, 7, 8, 9, 10]])\n",
    "\n",
    "#取数组的1,2行,2到4列\n",
    "print(arr[0:2, 1:4])   #这将返回一个二维数组\n",
    "\n",
    "\n",
    "#等价于\n",
    "#print(arr[:,1:4])\n"
   ]
  },
  {
   "cell_type": "code",
   "execution_count": null,
   "metadata": {},
   "outputs": [],
   "source": []
  }
 ],
 "metadata": {
  "kernelspec": {
   "display_name": "pydata-book",
   "language": "python",
   "name": "python3"
  },
  "language_info": {
   "codemirror_mode": {
    "name": "ipython",
    "version": 3
   },
   "file_extension": ".py",
   "mimetype": "text/x-python",
   "name": "python",
   "nbconvert_exporter": "python",
   "pygments_lexer": "ipython3",
   "version": "3.13.1"
  }
 },
 "nbformat": 4,
 "nbformat_minor": 2
}
