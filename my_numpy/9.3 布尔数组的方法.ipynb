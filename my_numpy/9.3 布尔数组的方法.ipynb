{
 "cells": [
  {
   "cell_type": "code",
   "execution_count": 8,
   "metadata": {},
   "outputs": [
    {
     "name": "stdout",
     "output_type": "stream",
     "text": [
      "True True\n"
     ]
    },
    {
     "data": {
      "text/plain": [
       "array([False,  True, False, False, False, False, False,  True,  True,\n",
       "       False,  True,  True, False,  True, False, False,  True, False,\n",
       "        True,  True,  True, False,  True, False, False,  True, False,\n",
       "       False,  True,  True,  True,  True, False, False, False,  True,\n",
       "        True, False, False,  True,  True, False,  True, False, False,\n",
       "       False,  True,  True,  True,  True,  True,  True,  True,  True,\n",
       "        True, False,  True, False,  True, False, False,  True, False,\n",
       "        True, False, False,  True, False,  True, False, False, False,\n",
       "        True,  True, False, False,  True, False, False,  True, False,\n",
       "       False, False,  True, False,  True, False,  True,  True,  True,\n",
       "       False,  True,  True,  True,  True, False, False, False, False,\n",
       "        True])"
      ]
     },
     "execution_count": 8,
     "metadata": {},
     "output_type": "execute_result"
    }
   ],
   "source": [
    "#布尔值:True=1,False=0\n",
    "#因此sum可以统计True的数量\n",
    "print(False==0,True==1)\n",
    "\n",
    "import numpy as np\n",
    "\n",
    "rng=np.random.default_rng(seed=12345)\n",
    "\n",
    "arr=rng.standard_normal(100)\n",
    "arr>0"
   ]
  },
  {
   "cell_type": "code",
   "execution_count": null,
   "metadata": {},
   "outputs": [
    {
     "name": "stdout",
     "output_type": "stream",
     "text": [
      "50\n"
     ]
    }
   ],
   "source": [
    "num_posi=(arr>0).sum()\n",
    "print(num_posi)#Number of positive values"
   ]
  },
  {
   "cell_type": "code",
   "execution_count": 10,
   "metadata": {},
   "outputs": [
    {
     "name": "stdout",
     "output_type": "stream",
     "text": [
      "50\n"
     ]
    }
   ],
   "source": [
    "num_non=(arr<=0).sum()\n",
    "print(num_non)#Number of non-positive values"
   ]
  },
  {
   "cell_type": "code",
   "execution_count": 16,
   "metadata": {},
   "outputs": [
    {
     "name": "stdout",
     "output_type": "stream",
     "text": [
      "True False True\n",
      "True False\n"
     ]
    }
   ],
   "source": [
    "#any和all\n",
    "\n",
    "#any检查数组中是否存在一个或多个True,all检查数组是否全是True\n",
    "\n",
    "arr_all=np.array([True,True,True,True])\n",
    "arr_non=np.array([False,False])\n",
    "arr_any=np.array([True,False])\n",
    "\n",
    "print(arr_all.any(),arr_non.any(),arr_any.any())\n",
    "\n",
    "\n",
    "#也适用于非布尔型数组,非0元素全按照True处理\n",
    "\n",
    "arrx=np.array([2,3,22,0,0,])\n",
    "print(arrx.any(),arrx.all())"
   ]
  },
  {
   "cell_type": "code",
   "execution_count": null,
   "metadata": {},
   "outputs": [],
   "source": []
  }
 ],
 "metadata": {
  "kernelspec": {
   "display_name": "pydata-book",
   "language": "python",
   "name": "python3"
  },
  "language_info": {
   "codemirror_mode": {
    "name": "ipython",
    "version": 3
   },
   "file_extension": ".py",
   "mimetype": "text/x-python",
   "name": "python",
   "nbconvert_exporter": "python",
   "pygments_lexer": "ipython3",
   "version": "3.13.1"
  }
 },
 "nbformat": 4,
 "nbformat_minor": 2
}
