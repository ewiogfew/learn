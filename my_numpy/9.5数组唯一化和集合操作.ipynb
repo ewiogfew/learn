{
 "cells": [
  {
   "cell_type": "code",
   "execution_count": null,
   "metadata": {},
   "outputs": [
    {
     "name": "stdout",
     "output_type": "stream",
     "text": [
      "[1 3 4 5]\n",
      "[np.int64(1), np.int64(3), np.int64(4), np.int64(5)]\n"
     ]
    }
   ],
   "source": [
    "\"\"\"\n",
    "np提供针对1维数组的基本集合运算,函数np.unique()\n",
    "找出数组的唯一值并返回一个列表\n",
    "\"\"\"\n",
    "import numpy as np\n",
    "arr=np.array([1,1,1,3,4,5,5])\n",
    "\n",
    "arr1=np.unique(arr)\n",
    "print(arr1)\n",
    "\n",
    "#等价于纯python的sorted()方法,但是返回的是列表,\n",
    "#sorted() 是一个内置函数，用于对可迭代对象（如 list、tuple、str 等）进行排序，生成一个新的有序列表\n",
    "\n",
    "arr2=sorted(set(arr))\n",
    "print(arr2)"
   ]
  },
  {
   "cell_type": "code",
   "execution_count": null,
   "metadata": {},
   "outputs": [
    {
     "data": {
      "text/plain": [
       "array([False, False, False,  True])"
      ]
     },
     "execution_count": 11,
     "metadata": {},
     "output_type": "execute_result"
    }
   ],
   "source": [
    "#np.isin(a,b)检查一个数组a的值是否在另一个数组b中,返回的是一个布尔数组\n",
    "\n",
    "values=np.array([1,2,3,4])\n",
    "arr=np.array([4,5,6,7])\n",
    "\n",
    "cond=np.isin(values,arr)\n",
    "cond"
   ]
  },
  {
   "cell_type": "code",
   "execution_count": null,
   "metadata": {},
   "outputs": [],
   "source": [
    "\"\"\"\n",
    "数组集合操作查官方文档\n",
    "\"\"\""
   ]
  }
 ],
 "metadata": {
  "kernelspec": {
   "display_name": "pydata-book",
   "language": "python",
   "name": "python3"
  },
  "language_info": {
   "codemirror_mode": {
    "name": "ipython",
    "version": 3
   },
   "file_extension": ".py",
   "mimetype": "text/x-python",
   "name": "python",
   "nbconvert_exporter": "python",
   "pygments_lexer": "ipython3",
   "version": "3.13.1"
  }
 },
 "nbformat": 4,
 "nbformat_minor": 2
}
