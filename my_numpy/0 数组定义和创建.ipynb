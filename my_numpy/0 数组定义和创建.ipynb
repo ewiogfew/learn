{
 "cells": [
  {
   "cell_type": "code",
   "execution_count": 5,
   "metadata": {},
   "outputs": [
    {
     "name": "stdout",
     "output_type": "stream",
     "text": [
      "numpy的版本为:2.2.1\n",
      "数组a[1 2 3 4 5]的类型为:<class 'numpy.ndarray'>\n",
      "数组b[1 2 3 4 5]的类型为:<class 'numpy.ndarray'>\n",
      "数组c:[[[1 2 3 4]]],维度为:3\n"
     ]
    }
   ],
   "source": [
    "#导入numpy库\n",
    "import numpy as np\n",
    "#检查numpy版本\n",
    "print(f\"numpy的版本为:{np.__version__}\")\n",
    "\n",
    "\n",
    "\"\"\"\n",
    "一.数组的概念:\n",
    "数组是一系列相同数据类型元素的集合, 数组中的元素可以是任意类型, 包括整型、浮点型、字符串、布尔型等。\n",
    "\n",
    "数组的维度:\n",
    "一维数组: 只有一列, 如[1, 2, 3, 4, 5],以 0-D 数组作为其元素的数组称为一维数组或 1-D 数组\n",
    "\n",
    "二维数组: 具有两个维度, 如[[1, 2, 3], [4, 5, 6]],以 0-D 数组作为其元素的数组称为一维数组或 1-D 数组\n",
    "这些通常用于表示矩阵或二阶张量\n",
    "\n",
    "三维数组: 具有三个维度, 如[[[1, 2], [3, 4]], [[5, 6], [7, 8]]]\n",
    "\n",
    "\"\"\"\n",
    "\n",
    "\"\"\"\n",
    "\n",
    "二.描述数组:\n",
    "在 NumPy 和其他类似数据结构中，行和列是用来描述多维数组（矩阵）的两个基本维度。\n",
    "在数学和计算机科学中，二维数组通常被表示为矩阵，矩阵的元素通常被组织为行和列。\n",
    "\n",
    "定义习惯：将元素在水平方向上的分组称为行，在垂直方向上的分组称为列。\n",
    "这个定义帮助人们理解数据在数组中的结构和布局\n",
    "\n",
    "总结:在 NumPy 中，行指的是每个子数组（或子列表），而列指的是在每个子数组中的元素。\n",
    "使用这样的术语可以更清晰地表达二维数组的结构。\n",
    "\n",
    "\"\"\"\n",
    "\n",
    "\n",
    "#使用 numpy.array() 可以轻松地将列表或元组转换为 NumPy 数组。\n",
    "#创建数组\n",
    "arr=np.array([1,2,3,4,5])\n",
    "print(f\"数组a{arr}的类型为:{type(arr)}\")\n",
    "\n",
    "#使用元组tuple创建数组\n",
    "b=np.array((1,2,3,4,5))\n",
    "print(f\"数组b{b}的类型为:{type(b)}\")\n",
    "\n",
    "#高维数组,可以有任意数量的维度\n",
    "#创建数组后，您可以使用 参数。ndmin关键字指定数组的最小维度。\n",
    "\n",
    "c=np.array([1,2,3,4],ndmin=3)\n",
    "print(f\"数组c:{c},维度为:{c.ndim}\")\n",
    "\n"
   ]
  },
  {
   "cell_type": "code",
   "execution_count": 8,
   "metadata": {},
   "outputs": [
    {
     "name": "stdout",
     "output_type": "stream",
     "text": [
      "[0 0 0 0 0 0 0]\n"
     ]
    },
    {
     "data": {
      "text/plain": [
       "array([[[0., 0., 0.],\n",
       "        [0., 0., 0.],\n",
       "        [0., 0., 0.]],\n",
       "\n",
       "       [[0., 0., 0.],\n",
       "        [0., 0., 0.],\n",
       "        [0., 0., 0.]],\n",
       "\n",
       "       [[0., 0., 0.],\n",
       "        [0., 0., 0.],\n",
       "        [0., 0., 0.]]])"
      ]
     },
     "execution_count": 8,
     "metadata": {},
     "output_type": "execute_result"
    }
   ],
   "source": [
    "#还有其他创建数组的方式:np.zeros(),np.ones(),np.empty(),full(),  其中like形式都是根据数组形状\n",
    "#eye.identify\n",
    "\n",
    "import numpy as np\n",
    "\n",
    "\n",
    "#zeros_like()根据给定的数组形状来填满0\n",
    "print(np.zeros_like((3,3,3,3,3,3,3)))\n",
    "\n",
    "#zeros()根据给定的形状来填0\n",
    "np.zeros((3,3,3))\n",
    "\n",
    "#同理ones()和ones_like()"
   ]
  },
  {
   "cell_type": "code",
   "execution_count": 11,
   "metadata": {},
   "outputs": [
    {
     "data": {
      "text/plain": [
       "array([[1., 1., 1., 1.],\n",
       "       [1., 1., 1., 1.],\n",
       "       [1., 1., 1., 1.],\n",
       "       [1., 1., 1., 1.]])"
      ]
     },
     "execution_count": 11,
     "metadata": {},
     "output_type": "execute_result"
    }
   ],
   "source": [
    "import numpy as np\n",
    "\n",
    "np.ones(10)\n",
    "np.ones((4,4))"
   ]
  },
  {
   "cell_type": "code",
   "execution_count": 8,
   "metadata": {},
   "outputs": [
    {
     "name": "stdout",
     "output_type": "stream",
     "text": [
      "[[[0. 0. 0. 0.]\n",
      "  [0. 0. 0. 0.]\n",
      "  [0. 0. 0. 0.]]\n",
      "\n",
      " [[0. 0. 0. 0.]\n",
      "  [0. 0. 0. 0.]\n",
      "  [0. 0. 0. 0.]]]\n",
      "[2 3 4]\n"
     ]
    }
   ],
   "source": [
    "import numpy as np\n",
    "\n",
    "#创建一个空的数组:\n",
    "\n",
    "print(np.empty((2,3,4)))\n",
    "\n",
    "print(np.empty_like((2,3,4)))\n",
    "#其中里面都是垃圾值,填充才有意义"
   ]
  },
  {
   "cell_type": "code",
   "execution_count": null,
   "metadata": {},
   "outputs": [],
   "source": [
    "#numpy处理数组的能力更快:\n",
    "\n",
    "import numpy as np\n",
    "\n",
    "my_arr=np.array(range(100_0000))\n",
    "\n",
    "list_data=[range(100_0000)]\n",
    "\n",
    "#二者乘以2给每一个元素消耗的时间:\n",
    "\n",
    "# 测量 numpy 数组操作的时间\n",
    "%timeit my_arr * 2\n",
    "\n",
    "# 测量 Python 列表操作的时间\n",
    "%timeit [x * 2 for x in list_data]"
   ]
  },
  {
   "cell_type": "code",
   "execution_count": null,
   "metadata": {},
   "outputs": [],
   "source": []
  },
  {
   "cell_type": "code",
   "execution_count": null,
   "metadata": {},
   "outputs": [],
   "source": []
  },
  {
   "cell_type": "code",
   "execution_count": null,
   "metadata": {},
   "outputs": [],
   "source": []
  }
 ],
 "metadata": {
  "kernelspec": {
   "display_name": "pydata-book",
   "language": "python",
   "name": "python3"
  },
  "language_info": {
   "codemirror_mode": {
    "name": "ipython",
    "version": 3
   },
   "file_extension": ".py",
   "mimetype": "text/x-python",
   "name": "python",
   "nbconvert_exporter": "python",
   "pygments_lexer": "ipython3",
   "version": "3.13.1"
  }
 },
 "nbformat": 4,
 "nbformat_minor": 2
}
