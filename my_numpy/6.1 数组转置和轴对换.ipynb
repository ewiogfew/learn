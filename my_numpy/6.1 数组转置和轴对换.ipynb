{
 "cells": [
  {
   "cell_type": "code",
   "execution_count": 37,
   "metadata": {},
   "outputs": [
    {
     "data": {
      "text/plain": [
       "array([[ 0,  1,  2,  3,  4],\n",
       "       [ 5,  6,  7,  8,  9],\n",
       "       [10, 11, 12, 13, 14]])"
      ]
     },
     "execution_count": 37,
     "metadata": {},
     "output_type": "execute_result"
    }
   ],
   "source": [
    "import numpy as np\n",
    "\n",
    "arr=np.arange(15).reshape((3,5))\n",
    "arr"
   ]
  },
  {
   "cell_type": "code",
   "execution_count": 43,
   "metadata": {},
   "outputs": [
    {
     "name": "stdout",
     "output_type": "stream",
     "text": [
      "[[ 0  5 10]\n",
      " [ 1  6 11]\n",
      " [ 2  7 12]\n",
      " [ 3  8 13]\n",
      " [ 4  9 14]]\n",
      "[[ 0  1  2  3  4]\n",
      " [ 5  6  7  8  9]\n",
      " [10 11 12 13 14]]\n"
     ]
    }
   ],
   "source": [
    "#转置:arr.T方法,可以进行轴对换,x与y轴交换\n",
    "\n",
    "arr_new=arr.T\n",
    "print(arr_new)#可以看到y轴的数据到x轴向了,同理x轴\n",
    "\n",
    "\n",
    "#检查原数组是否发生改变:\n",
    "print(arr)\n"
   ]
  },
  {
   "cell_type": "code",
   "execution_count": 13,
   "metadata": {},
   "outputs": [
    {
     "data": {
      "text/plain": [
       "array([[ 0,  1,  2],\n",
       "       [ 3,  4,  5],\n",
       "       [ 6,  7,  8],\n",
       "       [ 9, 10, 11]])"
      ]
     },
     "execution_count": 13,
     "metadata": {},
     "output_type": "execute_result"
    }
   ],
   "source": [
    "#numpy.dot(),在进行矩阵运算时可能用到np.dot()计算矩阵内积:\n",
    "import numpy as np\n",
    "arr=np.arange(12).reshape(4,3)\n",
    "arr"
   ]
  },
  {
   "cell_type": "code",
   "execution_count": 17,
   "metadata": {},
   "outputs": [
    {
     "name": "stdout",
     "output_type": "stream",
     "text": [
      "[[  5  14  23  32]\n",
      " [ 14  50  86 122]\n",
      " [ 23  86 149 212]\n",
      " [ 32 122 212 302]]\n",
      "[[ 0  1  2]\n",
      " [ 3  4  5]\n",
      " [ 6  7  8]\n",
      " [ 9 10 11]]\n",
      "[[126 144 162]\n",
      " [144 166 188]\n",
      " [162 188 214]]\n",
      "[[ 0  1  2]\n",
      " [ 3  4  5]\n",
      " [ 6  7  8]\n",
      " [ 9 10 11]]\n"
     ]
    }
   ],
   "source": [
    "#4*3和3*4形成4*4的数组\n",
    "new_arr=np.dot(arr,arr.T)\n",
    "print(new_arr)\n",
    "\n",
    "print(arr)\n",
    "#arr不变说明两数组矩阵内积不会改变原来的数组内容\n",
    "\n",
    "\n",
    "#3*4和4*3形成3*3的数组\n",
    "new_arr2=np.dot(arr.T,arr)\n",
    "print(new_arr2)\n",
    "print(arr)"
   ]
  },
  {
   "cell_type": "code",
   "execution_count": 20,
   "metadata": {},
   "outputs": [
    {
     "name": "stdout",
     "output_type": "stream",
     "text": [
      "[[  5  14  23  32]\n",
      " [ 14  50  86 122]\n",
      " [ 23  86 149 212]\n",
      " [ 32 122 212 302]]\n",
      "[[126 144 162]\n",
      " [144 166 188]\n",
      " [162 188 214]]\n"
     ]
    },
    {
     "data": {
      "text/plain": [
       "array([[ 0,  1,  2],\n",
       "       [ 3,  4,  5],\n",
       "       [ 6,  7,  8],\n",
       "       [ 9, 10, 11]])"
      ]
     },
     "execution_count": 20,
     "metadata": {},
     "output_type": "execute_result"
    }
   ],
   "source": [
    "#另一种做矩阵乘法的是@\n",
    "#new_arr2=np.dot(arr.T,arr)等价于arr@arr.T\n",
    "\n",
    "print(arr@arr.T)\n",
    "print(arr.T@arr)\n",
    "arr\n",
    "\n",
    "#在矩阵乘法中，arr 和 arr.T 是独立的，对转置矩阵的使用不会改变原数组 arr 的值"
   ]
  },
  {
   "cell_type": "code",
   "execution_count": 46,
   "metadata": {},
   "outputs": [
    {
     "name": "stdout",
     "output_type": "stream",
     "text": [
      "Original arr:\n",
      "[[1 2]\n",
      " [3 4]]\n",
      "Transposed arr:\n",
      "[[1 3]\n",
      " [2 4]]\n",
      "[[1 2]\n",
      " [3 4]]\n",
      "Modified transposed arr:\n",
      "[[100   3]\n",
      " [  2   4]]\n",
      "Original arr after modification:\n",
      "[[100   2]\n",
      " [  3   4]]\n"
     ]
    }
   ],
   "source": [
    "#arr.T返回的是视图,所以使用arr.T会修改原数组\n",
    "import numpy as np\n",
    "# 创建一个二维数组\n",
    "arr = np.array([[1, 2], [3, 4]])\n",
    "print(\"Original arr:\")\n",
    "print(arr)\n",
    "# [[1 2]\n",
    "#  [3 4]]\n",
    "\n",
    "# 获取转置视图\n",
    "arr_transposed = arr.T\n",
    "print(\"Transposed arr:\")\n",
    "print(arr_transposed)\n",
    "print(arr)\n",
    "# [[1 3]\n",
    "#  [2 4]]\n",
    "\n",
    "#[[1 3]\n",
    "# [2 4]]\n",
    "\n",
    "# 修改转置视图中的元素\n",
    "arr_transposed[0, 0] = 100\n",
    "print(\"Modified transposed arr:\")\n",
    "print(arr_transposed)\n",
    "# [[100   3]\n",
    "#  [  2   4]]\n",
    "\n",
    "# 检查原数组是否改变\n",
    "print(\"Original arr after modification:\")\n",
    "print(arr)\n",
    "# [[100   2]\n",
    "#  [  3   4]]"
   ]
  },
  {
   "cell_type": "code",
   "execution_count": 45,
   "metadata": {},
   "outputs": [
    {
     "name": "stdout",
     "output_type": "stream",
     "text": [
      "[[1 4]\n",
      " [2 5]\n",
      " [3 6]]\n",
      "[[1 2 3]\n",
      " [4 5 6]]\n",
      "[[0 0]\n",
      " [0 0]\n",
      " [3 6]]\n",
      "[[0 0 3]\n",
      " [0 0 6]]\n"
     ]
    }
   ],
   "source": [
    "#arr.swapaxes()接受一对轴编号,对换标记的轴以重排数据\n",
    "arr = np.array([[1, 2, 3], [4, 5, 6]])  # 形状 (2, 3)\n",
    "swapped=arr.swapaxes(1,0)            # 形状变为 (3, 2)\n",
    "print(swapped)\n",
    "\n",
    "print(arr)\n",
    "#只是简单地调用swapaxes并没有对返回的数组进行修改,原数组不会改变。\n",
    "#因为 swapaxes 的调用本身不会改变原数组，而只是返回一个新的视图\n",
    "\n",
    "swapped[:2,:]=0\n",
    "\n",
    "#检查视图:\n",
    "print(swapped)\n",
    "\n",
    "#检查原数组\n",
    "print(arr)\n"
   ]
  }
 ],
 "metadata": {
  "kernelspec": {
   "display_name": "pydata-book",
   "language": "python",
   "name": "python3"
  },
  "language_info": {
   "codemirror_mode": {
    "name": "ipython",
    "version": 3
   },
   "file_extension": ".py",
   "mimetype": "text/x-python",
   "name": "python",
   "nbconvert_exporter": "python",
   "pygments_lexer": "ipython3",
   "version": "3.13.1"
  }
 },
 "nbformat": 4,
 "nbformat_minor": 2
}
