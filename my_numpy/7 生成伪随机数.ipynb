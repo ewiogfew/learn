{
 "cells": [
  {
   "cell_type": "code",
   "execution_count": 2,
   "metadata": {},
   "outputs": [
    {
     "data": {
      "text/plain": [
       "array([[-0.32103099,  0.30708354, -0.86099246,  0.18053063],\n",
       "       [-1.13346077, -0.99616359,  0.18841161, -0.21801327],\n",
       "       [ 0.38779326,  1.13028232,  1.93268499, -1.67242522],\n",
       "       [-1.71531559,  0.28160306, -0.08524237, -1.71106597]])"
      ]
     },
     "execution_count": 2,
     "metadata": {},
     "output_type": "execute_result"
    }
   ],
   "source": [
    "#numpy有random模块补充了一些函数,用于从多种概率分布生成整个样本值数组\n",
    "\n",
    "#例如可以用np.random.standard_normal(size=())得到一个指定大小的正态分布数组\n",
    "import numpy as np\n",
    "\n",
    "arr=np.random.standard_normal(size=(4,4))\n",
    "\n",
    "arr"
   ]
  },
  {
   "cell_type": "code",
   "execution_count": 3,
   "metadata": {},
   "outputs": [
    {
     "name": "stdout",
     "output_type": "stream",
     "text": [
      "0.22733602246716966\n"
     ]
    },
    {
     "data": {
      "text/plain": [
       "array([[ 1.26372846, -0.87066174, -0.25917323],\n",
       "       [-0.07534331, -0.74088465, -1.3677927 ],\n",
       "       [ 0.6488928 ,  0.36105811, -1.95286306]])"
      ]
     },
     "execution_count": 3,
     "metadata": {},
     "output_type": "execute_result"
    }
   ],
   "source": [
    "#配置生产器\n",
    "#作用:使用可重复的随机数,调试观察使用\n",
    "#每个随机数都依赖一个seed种子\n",
    "#更改seed可以获得不同的随机数使用\n",
    "\n",
    "\n",
    "rng=np.random.default_rng(seed=12345)\n",
    "\n",
    "data=rng.uniform(0,1)\n",
    "print(data)\n",
    "\n",
    "data1=rng.normal(size=(3,3))\n",
    "data1"
   ]
  },
  {
   "cell_type": "code",
   "execution_count": 4,
   "metadata": {},
   "outputs": [],
   "source": [
    "#numpy随机数生成器方法:查看官网"
   ]
  }
 ],
 "metadata": {
  "kernelspec": {
   "display_name": "pydata-book",
   "language": "python",
   "name": "python3"
  },
  "language_info": {
   "codemirror_mode": {
    "name": "ipython",
    "version": 3
   },
   "file_extension": ".py",
   "mimetype": "text/x-python",
   "name": "python",
   "nbconvert_exporter": "python",
   "pygments_lexer": "ipython3",
   "version": "3.13.1"
  }
 },
 "nbformat": 4,
 "nbformat_minor": 2
}
