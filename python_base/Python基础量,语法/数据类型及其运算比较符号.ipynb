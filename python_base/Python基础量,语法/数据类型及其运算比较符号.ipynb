{
 "cells": [
  {
   "cell_type": "code",
   "execution_count": null,
   "id": "48143010-8805-49a5-abfb-6d73638295fb",
   "metadata": {},
   "outputs": [],
   "source": [
    "#ipython 属性方法的快捷补全\n",
    "#python对象.<长按tab>"
   ]
  },
  {
   "cell_type": "code",
   "execution_count": 4,
   "id": "4db0da76-7204-4bef-b713-ff2300133f5e",
   "metadata": {},
   "outputs": [],
   "source": [
    "a=[1,3,4,5]\n",
    "#a.tab"
   ]
  },
  {
   "cell_type": "code",
   "execution_count": null,
   "id": "4dd351f1-50a1-4517-8e3a-64e14b5006e1",
   "metadata": {},
   "outputs": [],
   "source": [
    "#利用getattr函数通过访问属性方法\n",
    "getattr(a,\"append\")#格式getattr(对象,\"方法\")"
   ]
  },
  {
   "cell_type": "code",
   "execution_count": 7,
   "id": "36026254-794c-431b-8a8e-6aef2a1c75cc",
   "metadata": {},
   "outputs": [],
   "source": [
    "#可迭代性,iter函数:"
   ]
  },
  {
   "cell_type": "code",
   "execution_count": 3,
   "id": "f5710c3f-751d-4860-a443-a0ac4a725180",
   "metadata": {},
   "outputs": [],
   "source": [
    "list=[1,3,2]\n",
    "a=1\n",
    "b=\"hello\"\n",
    "tuple=(1,2,3)"
   ]
  },
  {
   "cell_type": "code",
   "execution_count": 4,
   "id": "e323f6c5-b2e2-4e9b-a1d9-b82f2d3a5067",
   "metadata": {},
   "outputs": [],
   "source": [
    "def isiterable(x):\n",
    "    try:\n",
    "        iter(x)\n",
    "        return True\n",
    "    except TypeError:#不可迭代\n",
    "        return False    "
   ]
  },
  {
   "cell_type": "code",
   "execution_count": 5,
   "id": "04b18074-3c70-4786-883d-12775b060144",
   "metadata": {},
   "outputs": [
    {
     "data": {
      "text/plain": [
       "True"
      ]
     },
     "execution_count": 5,
     "metadata": {},
     "output_type": "execute_result"
    }
   ],
   "source": [
    "isiterable(list)"
   ]
  },
  {
   "cell_type": "code",
   "execution_count": 6,
   "id": "617c38a5-603f-433b-afa8-ec16e58f282e",
   "metadata": {},
   "outputs": [
    {
     "data": {
      "text/plain": [
       "False"
      ]
     },
     "execution_count": 6,
     "metadata": {},
     "output_type": "execute_result"
    }
   ],
   "source": [
    "isiterable(a)"
   ]
  },
  {
   "cell_type": "code",
   "execution_count": 7,
   "id": "fe0a0b2b-cab5-49da-8949-48dcb0a18c6e",
   "metadata": {},
   "outputs": [
    {
     "data": {
      "text/plain": [
       "True"
      ]
     },
     "execution_count": 7,
     "metadata": {},
     "output_type": "execute_result"
    }
   ],
   "source": [
    "isiterable(b)"
   ]
  },
  {
   "cell_type": "code",
   "execution_count": 8,
   "id": "8fda1c63-f956-4164-824d-f64775373157",
   "metadata": {},
   "outputs": [
    {
     "data": {
      "text/plain": [
       "True"
      ]
     },
     "execution_count": 8,
     "metadata": {},
     "output_type": "execute_result"
    }
   ],
   "source": [
    "isiterable(tuple)"
   ]
  },
  {
   "cell_type": "code",
   "execution_count": 9,
   "id": "53efc7c3-ca21-46b8-8381-9da488048918",
   "metadata": {},
   "outputs": [],
   "source": [
    "#总结:字符串和大多数集合类型是可迭代类型\n"
   ]
  },
  {
   "cell_type": "code",
   "execution_count": null,
   "id": "5d925baf-4c1c-4229-bfd8-067b36ac6871",
   "metadata": {},
   "outputs": [],
   "source": []
  },
  {
   "cell_type": "code",
   "execution_count": null,
   "id": "17dc7aaf-bcc8-46d5-904d-1dd84dfb14ba",
   "metadata": {},
   "outputs": [],
   "source": [
    "#运算符号\n",
    "a+b;a-b;a*b;a/b\n",
    "a//b#说明a整除b取整数部分\n",
    "a%b#说明a除以b取余数\n",
    "a**b#说明a的b次方\n",
    "a | b #a或b有一个为True则为True,对于整数做与运算\n",
    "a & b #a和b都为True则为True,对于整数做或运算\n",
    "a ^ b #对于布尔值,a和b不同则为True,对于整数做异或运算\n",
    "True ^ False  # 结果为 True\n",
    "True ^ True   # 结果为 False\n",
    "False ^ False # 结果为 False\n",
    "\n",
    "#比较符号\n",
    "a==b;a!=b;a<b;a<=b;a>b;a>=b\n",
    "a is b #a和b引用的是同一个对象,则为True\n",
    "a is not b #a和b引用的不是同一个对象,则为True\n"
   ]
  },
  {
   "cell_type": "code",
   "execution_count": 2,
   "id": "7373b26f",
   "metadata": {},
   "outputs": [
    {
     "data": {
      "text/plain": [
       "True"
      ]
     },
     "execution_count": 2,
     "metadata": {},
     "output_type": "execute_result"
    }
   ],
   "source": [
    "a = None\n",
    "b = a\n",
    "b is None"
   ]
  },
  {
   "cell_type": "code",
   "execution_count": 3,
   "id": "f1552284",
   "metadata": {},
   "outputs": [
    {
     "data": {
      "text/plain": [
       "False"
      ]
     },
     "execution_count": 3,
     "metadata": {},
     "output_type": "execute_result"
    }
   ],
   "source": [
    "a=[1,2,3]\n",
    "b=[1,2,3]\n",
    "a is b"
   ]
  },
  {
   "cell_type": "code",
   "execution_count": 4,
   "id": "ee834c80",
   "metadata": {},
   "outputs": [
    {
     "data": {
      "text/plain": [
       "True"
      ]
     },
     "execution_count": 4,
     "metadata": {},
     "output_type": "execute_result"
    }
   ],
   "source": [
    "a=[1,2,3]\n",
    "b=[1,2,3]\n",
    "a == b"
   ]
  },
  {
   "cell_type": "code",
   "execution_count": 5,
   "id": "2ac88e3b",
   "metadata": {},
   "outputs": [],
   "source": [
    "#is运算符用于检查两个对象是否是同一个对象,\n",
    "#即它们是否具有相同的身份标识（内存地址）。\n",
    "#而 == 运算符用于检查两个对象的值是否相等。"
   ]
  },
  {
   "cell_type": "code",
   "execution_count": 6,
   "id": "611c6655",
   "metadata": {},
   "outputs": [
    {
     "data": {
      "text/plain": [
       "True"
      ]
     },
     "execution_count": 6,
     "metadata": {},
     "output_type": "execute_result"
    }
   ],
   "source": [
    "a=[3,4,5]\n",
    "b=a\n",
    "a is b"
   ]
  },
  {
   "cell_type": "code",
   "execution_count": 7,
   "id": "8d2e2308",
   "metadata": {},
   "outputs": [],
   "source": [
    "#'='可以将一个变量赋值给另一个变量,二个变量指向同一个对象.\n",
    "#所以a is b返回True."
   ]
  },
  {
   "cell_type": "code",
   "execution_count": null,
   "id": "bf7500b2",
   "metadata": {},
   "outputs": [],
   "source": []
  },
  {
   "cell_type": "code",
   "execution_count": null,
   "id": "a58df33b",
   "metadata": {},
   "outputs": [],
   "source": []
  }
 ],
 "metadata": {
  "kernelspec": {
   "display_name": "Python 3 (ipykernel)",
   "language": "python",
   "name": "python3"
  },
  "language_info": {
   "codemirror_mode": {
    "name": "ipython",
    "version": 3
   },
   "file_extension": ".py",
   "mimetype": "text/x-python",
   "name": "python",
   "nbconvert_exporter": "python",
   "pygments_lexer": "ipython3",
   "version": "3.13.1"
  }
 },
 "nbformat": 4,
 "nbformat_minor": 5
}
