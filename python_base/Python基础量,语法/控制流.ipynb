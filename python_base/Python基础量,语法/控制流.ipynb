{
 "cells": [
  {
   "cell_type": "code",
   "execution_count": 3,
   "id": "6820b555-4cac-4611-a3fc-fcc72c7a0141",
   "metadata": {},
   "outputs": [
    {
     "name": "stdout",
     "output_type": "stream",
     "text": [
      "no\n"
     ]
    }
   ],
   "source": [
    "#if elif else 条件语句\n",
    "b=12\n",
    "if b>16:\n",
    "    print(\"yes1\")\n",
    "elif b>13:\n",
    "    print(\"yes2\")\n",
    "elif b>12 and b==12:#if a and b:两者都满足,if a or b:二者满足其一\n",
    "    print(\"yes3\")\n",
    "else:\n",
    "    print(\"no\")"
   ]
  },
  {
   "cell_type": "code",
   "execution_count": 8,
   "id": "bc582338",
   "metadata": {},
   "outputs": [
    {
     "name": "stdout",
     "output_type": "stream",
     "text": [
      "12\n"
     ]
    }
   ],
   "source": [
    "#for循环:在集合(列表元组等)和迭代器中进行迭代\n",
    "#格式:for value in collection:\n",
    "    #do something with value\n",
    "#可以使用continue使for循环提前进入下一次迭代,跳过剩下部分\n",
    "sequence=[1,2,None,4,None,5]\n",
    "total =0\n",
    "for i in sequence:\n",
    "    if i is None:\n",
    "        continue\n",
    "    total+=i\n",
    "print(total)\n",
    "#可见如果i遍历到None时会跳过这个迭代,直接进行下一次迭代"
   ]
  },
  {
   "cell_type": "code",
   "execution_count": 9,
   "id": "c1509423",
   "metadata": {},
   "outputs": [
    {
     "name": "stdout",
     "output_type": "stream",
     "text": [
      "15\n"
     ]
    }
   ],
   "source": [
    "#break可以跳出for循环\n",
    "list1=[1,2,3,4,5,\"a\",6,7]\n",
    "all=0\n",
    "for i in list1:\n",
    "    if type(i) is int:\n",
    "        all +=i\n",
    "    elif type(i) is str:\n",
    "        break\n",
    "print(all)"
   ]
  },
  {
   "cell_type": "code",
   "execution_count": 3,
   "id": "4bea0d0f",
   "metadata": {},
   "outputs": [
    {
     "name": "stdout",
     "output_type": "stream",
     "text": [
      "6\n",
      "12\n"
     ]
    }
   ],
   "source": [
    "#break只会中断内层for循环不会断外层的for循环\n",
    "total_a=0\n",
    "total_b=0\n",
    "for i in range(4):\n",
    "    total_a+=i\n",
    "    for j in [1,2,\"a\",3]:\n",
    "        if type(j) is str:\n",
    "            break\n",
    "        else:\n",
    "            total_b+=j\n",
    "\n",
    "print(total_a)\n",
    "print(total_b)"
   ]
  },
  {
   "cell_type": "code",
   "execution_count": 4,
   "id": "e24988b2",
   "metadata": {},
   "outputs": [
    {
     "name": "stdout",
     "output_type": "stream",
     "text": [
      "6\n",
      "3\n"
     ]
    }
   ],
   "source": [
    "total_a = 0\n",
    "\n",
    "for i in range(4):\n",
    "    total_a += i\n",
    "    total_b = 0  # 每次外层循环开始时重置 total_b\n",
    "    for j in [1, 2, \"a\", 3]:\n",
    "        if type(j) is str:\n",
    "            break\n",
    "        else:\n",
    "            total_b += j\n",
    "\n",
    "print(total_a)  # 输出 6\n",
    "print(total_b)  # 输出 3"
   ]
  },
  {
   "cell_type": "code",
   "execution_count": null,
   "id": "4295c722",
   "metadata": {},
   "outputs": [],
   "source": [
    "#while循环,当条件是False,或者有关键字break会跳出\n",
    "a=5\n",
    "i=0\n",
    "while True:\n",
    "    b=int(input(\"1-10输入一个数字,猜对为止\"))\n",
    "    if b ==a:\n",
    "        i+=1\n",
    "        print(f\"恭喜您第{i}次猜对\")\n",
    "        break\n",
    "    else:\n",
    "        print(\"再试一次\")\n"
   ]
  },
  {
   "cell_type": "code",
   "execution_count": 1,
   "id": "775ac2f1",
   "metadata": {},
   "outputs": [
    {
     "name": "stdout",
     "output_type": "stream",
     "text": [
      "+\n"
     ]
    }
   ],
   "source": [
    "#pass是无操作站位符\n",
    "x=1\n",
    "if x<0:\n",
    "    print(\"-\")\n",
    "elif x==0:\n",
    "    pass\n",
    "else:\n",
    "    print(\"+\")\n"
   ]
  },
  {
   "cell_type": "code",
   "execution_count": 2,
   "id": "a945f600",
   "metadata": {},
   "outputs": [
    {
     "data": {
      "text/plain": [
       "range(0, 10)"
      ]
     },
     "execution_count": 2,
     "metadata": {},
     "output_type": "execute_result"
    }
   ],
   "source": [
    "#range\n",
    "range(10)"
   ]
  },
  {
   "cell_type": "code",
   "execution_count": 3,
   "id": "52f9825f",
   "metadata": {},
   "outputs": [
    {
     "data": {
      "text/plain": [
       "[0, 1, 2, 3, 4, 5, 6, 7, 8, 9]"
      ]
     },
     "execution_count": 3,
     "metadata": {},
     "output_type": "execute_result"
    }
   ],
   "source": [
    "list(range(10))"
   ]
  },
  {
   "cell_type": "code",
   "execution_count": 4,
   "id": "a4e073e0",
   "metadata": {},
   "outputs": [
    {
     "data": {
      "text/plain": [
       "[0, 2, 4, 6, 8]"
      ]
     },
     "execution_count": 4,
     "metadata": {},
     "output_type": "execute_result"
    }
   ],
   "source": [
    "#range(start,end,step)\n",
    "list(range(0,10,2))"
   ]
  },
  {
   "cell_type": "code",
   "execution_count": 8,
   "id": "6e28b22e",
   "metadata": {},
   "outputs": [
    {
     "data": {
      "text/plain": [
       "[10, 9, 8, 7, 6, 5, 4, 3, 2, 1]"
      ]
     },
     "execution_count": 8,
     "metadata": {},
     "output_type": "execute_result"
    }
   ],
   "source": [
    "\n",
    "list(range(10,0,-1))#步数可以是负数"
   ]
  },
  {
   "cell_type": "code",
   "execution_count": 10,
   "id": "0f6563b5",
   "metadata": {},
   "outputs": [
    {
     "name": "stdout",
     "output_type": "stream",
     "text": [
      "0:1\n",
      "\n",
      "1:2\n",
      "\n",
      "2:3\n",
      "\n",
      "3:4\n",
      "\n"
     ]
    }
   ],
   "source": [
    "#range的常见索引迭代序列\n",
    "list1=[1,2,3,4]\n",
    "for i in range(len(list1)):#len()函数可以求列表长度.\n",
    "    print(f\"{i}:{list1[i]}\\n\")\n"
   ]
  },
  {
   "cell_type": "code",
   "execution_count": 11,
   "id": "81e554d8",
   "metadata": {},
   "outputs": [
    {
     "name": "stdout",
     "output_type": "stream",
     "text": [
      "2333316668\n"
     ]
    }
   ],
   "source": [
    "#求0到99999之间是3或5倍数的数求和\n",
    "total=0\n",
    "for i in range(100000):\n",
    "    if i%3==0 or i%5==0:#取余符号%,如果取余为0就是可以整除的,也就是倍数关系\n",
    "        total+=i\n",
    "print(total)"
   ]
  },
  {
   "cell_type": "code",
   "execution_count": null,
   "id": "cb041f07",
   "metadata": {},
   "outputs": [],
   "source": []
  }
 ],
 "metadata": {
  "kernelspec": {
   "display_name": "pydata-book",
   "language": "python",
   "name": "python3"
  },
  "language_info": {
   "codemirror_mode": {
    "name": "ipython",
    "version": 3
   },
   "file_extension": ".py",
   "mimetype": "text/x-python",
   "name": "python",
   "nbconvert_exporter": "python",
   "pygments_lexer": "ipython3",
   "version": "3.13.1"
  }
 },
 "nbformat": 4,
 "nbformat_minor": 5
}
