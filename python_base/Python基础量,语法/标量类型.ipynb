{
 "cells": [
  {
   "cell_type": "code",
   "execution_count": 15,
   "id": "465c26dd-4eab-401b-aeb4-bbdc559076ea",
   "metadata": {},
   "outputs": [],
   "source": [
    "#标量类型:None;str;bytes(原生ASCII字节或Unicode编码字节);float;bool(True,False);int"
   ]
  },
  {
   "cell_type": "code",
   "execution_count": 16,
   "id": "9c97e802",
   "metadata": {},
   "outputs": [],
   "source": [
    "int1=12"
   ]
  },
  {
   "cell_type": "code",
   "execution_count": 17,
   "id": "ef35dfda",
   "metadata": {},
   "outputs": [],
   "source": [
    "float1=12.323"
   ]
  },
  {
   "cell_type": "code",
   "execution_count": 18,
   "id": "c4a0c54e",
   "metadata": {},
   "outputs": [
    {
     "data": {
      "text/plain": [
       "151.85632900000002"
      ]
     },
     "execution_count": 18,
     "metadata": {},
     "output_type": "execute_result"
    }
   ],
   "source": [
    "float1**2"
   ]
  },
  {
   "cell_type": "code",
   "execution_count": 19,
   "id": "b39b2fde",
   "metadata": {},
   "outputs": [
    {
     "data": {
      "text/plain": [
       "1.5"
      ]
     },
     "execution_count": 19,
     "metadata": {},
     "output_type": "execute_result"
    }
   ],
   "source": [
    "3/2#整数相除自动变为浮点数"
   ]
  },
  {
   "cell_type": "code",
   "execution_count": 20,
   "id": "3b34b695",
   "metadata": {},
   "outputs": [
    {
     "data": {
      "text/plain": [
       "1"
      ]
     },
     "execution_count": 20,
     "metadata": {},
     "output_type": "execute_result"
    }
   ],
   "source": [
    "3//2#取整数"
   ]
  },
  {
   "cell_type": "code",
   "execution_count": 21,
   "id": "655d8264",
   "metadata": {},
   "outputs": [
    {
     "data": {
      "text/plain": [
       "2"
      ]
     },
     "execution_count": 21,
     "metadata": {},
     "output_type": "execute_result"
    }
   ],
   "source": [
    "5%3#取余数"
   ]
  },
  {
   "cell_type": "code",
   "execution_count": 22,
   "id": "dad3ec18",
   "metadata": {},
   "outputs": [
    {
     "data": {
      "text/plain": [
       "3"
      ]
     },
     "execution_count": 22,
     "metadata": {},
     "output_type": "execute_result"
    }
   ],
   "source": [
    "#字符串:\n",
    "\n",
    "#对于多行字符串可以\"\"\"来表示\n",
    "a=\"\"\"\n",
    "  hello world\n",
    "  \n",
    "\"\"\"\n",
    "\n",
    "#字符串可以使用.count(\"目标\")方法查看数量\n",
    "a.count(\"\\n\")"
   ]
  },
  {
   "cell_type": "code",
   "execution_count": 23,
   "id": "f04dfae1",
   "metadata": {},
   "outputs": [
    {
     "name": "stdout",
     "output_type": "stream",
     "text": [
      "不能修改\n"
     ]
    }
   ],
   "source": [
    "#字符串不能修改,否则会出错\n",
    "try:\n",
    "    b=\"hello world\"\n",
    "    b[1]=\"o\"\n",
    "    b\n",
    "except TypeError:\n",
    "    print(\"不能修改\")\n"
   ]
  },
  {
   "cell_type": "code",
   "execution_count": 24,
   "id": "48930a55",
   "metadata": {},
   "outputs": [
    {
     "data": {
      "text/plain": [
       "'Hi world'"
      ]
     },
     "execution_count": 24,
     "metadata": {},
     "output_type": "execute_result"
    }
   ],
   "source": [
    "#如果想要修改一个字符串,必须新创建一个字符串\n",
    "c=\"hello world\"\n",
    "d=c.replace(\"hello\",\"Hi\")\n",
    "d\n",
    "#但是c的值还是不会被修改只是创建了一个在c基础上的d字符串"
   ]
  },
  {
   "cell_type": "code",
   "execution_count": 25,
   "id": "60fb95ac",
   "metadata": {},
   "outputs": [
    {
     "data": {
      "text/plain": [
       "str"
      ]
     },
     "execution_count": 25,
     "metadata": {},
     "output_type": "execute_result"
    }
   ],
   "source": [
    "#使用str函数可以将Python对象转化为字符串\n",
    "e=13\n",
    "e=str(e)\n",
    "type(e)"
   ]
  },
  {
   "cell_type": "code",
   "execution_count": 26,
   "id": "ee1a6b67",
   "metadata": {},
   "outputs": [
    {
     "data": {
      "text/plain": [
       "'pyt'"
      ]
     },
     "execution_count": 26,
     "metadata": {},
     "output_type": "execute_result"
    }
   ],
   "source": [
    "#字符串的处理\n",
    "s=\"python\"\n",
    "list(s)\n",
    "s[:3]#切片"
   ]
  },
  {
   "cell_type": "code",
   "execution_count": 27,
   "id": "77f8f20b",
   "metadata": {},
   "outputs": [
    {
     "data": {
      "text/plain": [
       "'this\\\\is\\\\my\\\\new\\\\book'"
      ]
     },
     "execution_count": 27,
     "metadata": {},
     "output_type": "execute_result"
    }
   ],
   "source": [
    "#如果想要一个包含多个反斜杠的字符串\n",
    "g=r\"this\\is\\my\\new\\book\"#在字符串前面加r\n",
    "g"
   ]
  },
  {
   "cell_type": "code",
   "execution_count": 28,
   "id": "0ed73caa",
   "metadata": {},
   "outputs": [
    {
     "data": {
      "text/plain": [
       "'hello world'"
      ]
     },
     "execution_count": 28,
     "metadata": {},
     "output_type": "execute_result"
    }
   ],
   "source": [
    "#两个字符串可以相加\n",
    "h=\"hello\"\n",
    "v=\" world\"#注意打了一个空格前面\n",
    "n=h+v\n",
    "n"
   ]
  },
  {
   "cell_type": "code",
   "execution_count": 29,
   "id": "9e83f974",
   "metadata": {},
   "outputs": [
    {
     "name": "stdout",
     "output_type": "stream",
     "text": [
      "一年有12个月,365天.\n"
     ]
    }
   ],
   "source": [
    "#字符串格式化\n",
    "c=12 \n",
    "d=365\n",
    "print(f\"一年有{c}个月,{d}天.\")"
   ]
  },
  {
   "cell_type": "code",
   "execution_count": 30,
   "id": "c25fd137",
   "metadata": {},
   "outputs": [
    {
     "data": {
      "text/plain": [
       "'hello'"
      ]
     },
     "execution_count": 30,
     "metadata": {},
     "output_type": "execute_result"
    }
   ],
   "source": [
    "#字节和Unicode\n",
    "#假如知道字符的编码，还可以将其转化为Unicode\n",
    "val=\"hello\"\n",
    "val\n"
   ]
  },
  {
   "cell_type": "code",
   "execution_count": 31,
   "id": "cd971d94",
   "metadata": {},
   "outputs": [
    {
     "data": {
      "text/plain": [
       "b'hello'"
      ]
     },
     "execution_count": 31,
     "metadata": {},
     "output_type": "execute_result"
    }
   ],
   "source": [
    "#可以使用encode方法将字符串编码为字节序列\n",
    "val_utf8=val.encode(\"utf-8\")\n",
    "val_utf8"
   ]
  },
  {
   "cell_type": "code",
   "execution_count": 32,
   "id": "a7d3a04b",
   "metadata": {},
   "outputs": [
    {
     "data": {
      "text/plain": [
       "bytes"
      ]
     },
     "execution_count": 32,
     "metadata": {},
     "output_type": "execute_result"
    }
   ],
   "source": [
    "type(val_utf8)"
   ]
  },
  {
   "cell_type": "code",
   "execution_count": 33,
   "id": "817c1a00",
   "metadata": {},
   "outputs": [
    {
     "data": {
      "text/plain": [
       "'hello'"
      ]
     },
     "execution_count": 33,
     "metadata": {},
     "output_type": "execute_result"
    }
   ],
   "source": [
    "#假如你知道一个字节对象可以使用decode()方法来解码成一个字符串\n",
    "val_utf8.decode(\"utf-8\")"
   ]
  },
  {
   "cell_type": "code",
   "execution_count": 34,
   "id": "d7692a3d",
   "metadata": {},
   "outputs": [],
   "source": [
    "#1. Unicode\n",
    "#Unicode 是一个字符集，旨在为全球所有字符提供唯一的编号（码点），涵盖各种文字、符号和表情等。\n",
    "\n",
    "#2. UTF-8\n",
    "#UTF-8 是 Unicode 的一种编码方式，将 Unicode 码点转换为计算机可存储和传输的字节序列。它是变长编码，使用 1 到 4 个字节表示字符。\n",
    "\n",
    "#3. 关系\n",
    "#Unicode 定义字符的唯一编号，而 UTF-8 决定这些编号如何存储和传输。\n",
    "\n",
    "#UTF-8 是 Unicode 的实现方式之一，其他实现方式还包括 UTF-16 和 UTF-32。"
   ]
  },
  {
   "cell_type": "code",
   "execution_count": 35,
   "id": "ee75b33d",
   "metadata": {},
   "outputs": [
    {
     "data": {
      "text/plain": [
       "b'\\xff\\xfeh\\x00e\\x00l\\x00l\\x00o\\x00'"
      ]
     },
     "execution_count": 35,
     "metadata": {},
     "output_type": "execute_result"
    }
   ],
   "source": [
    "#将字符串转化为不同的编码类型\n",
    "val=\"hello\"\n",
    "val_utf16=val.encode(\"utf-16\")\n",
    "val_utf16"
   ]
  },
  {
   "cell_type": "code",
   "execution_count": 36,
   "id": "dcc0e582",
   "metadata": {},
   "outputs": [
    {
     "data": {
      "text/plain": [
       "'hello'"
      ]
     },
     "execution_count": 36,
     "metadata": {},
     "output_type": "execute_result"
    }
   ],
   "source": [
    "val_utf16.decode(\"utf-16\")"
   ]
  },
  {
   "cell_type": "code",
   "execution_count": 37,
   "id": "6fb33342",
   "metadata": {},
   "outputs": [],
   "source": [
    "#布尔值\n",
    "#布尔值是一个特殊的数据类型，它只有两个值：True和False。\n",
    "#布尔值转化为数字\n",
    "#布尔值可以转化为数字，True转化为1，False转化为0。\n"
   ]
  },
  {
   "cell_type": "code",
   "execution_count": 38,
   "id": "3dfd004b",
   "metadata": {},
   "outputs": [
    {
     "data": {
      "text/plain": [
       "0"
      ]
     },
     "execution_count": 38,
     "metadata": {},
     "output_type": "execute_result"
    }
   ],
   "source": [
    "int(False)"
   ]
  },
  {
   "cell_type": "code",
   "execution_count": 39,
   "id": "5c39b7cb",
   "metadata": {},
   "outputs": [
    {
     "data": {
      "text/plain": [
       "1"
      ]
     },
     "execution_count": 39,
     "metadata": {},
     "output_type": "execute_result"
    }
   ],
   "source": [
    "int(True)"
   ]
  },
  {
   "cell_type": "code",
   "execution_count": 40,
   "id": "e9f90799",
   "metadata": {},
   "outputs": [
    {
     "data": {
      "text/plain": [
       "False"
      ]
     },
     "execution_count": 40,
     "metadata": {},
     "output_type": "execute_result"
    }
   ],
   "source": [
    "#关键字not会翻转布尔值\n",
    "not True"
   ]
  },
  {
   "cell_type": "code",
   "execution_count": 41,
   "id": "98bf308c",
   "metadata": {},
   "outputs": [
    {
     "data": {
      "text/plain": [
       "False"
      ]
     },
     "execution_count": 41,
     "metadata": {},
     "output_type": "execute_result"
    }
   ],
   "source": [
    "#类型转换\n",
    "#str，int，float，bool类型也同时是函数，可以互相转化\n",
    "#str()\n",
    "#int()\n",
    "#float()\n",
    "#bool()\n",
    "\n",
    "#将整数0转化为布尔值\n",
    "bool(0)"
   ]
  },
  {
   "cell_type": "code",
   "execution_count": 42,
   "id": "6a941532",
   "metadata": {},
   "outputs": [
    {
     "data": {
      "text/plain": [
       "True"
      ]
     },
     "execution_count": 42,
     "metadata": {},
     "output_type": "execute_result"
    }
   ],
   "source": [
    "bool(1)"
   ]
  },
  {
   "cell_type": "code",
   "execution_count": 43,
   "id": "28589887",
   "metadata": {},
   "outputs": [
    {
     "data": {
      "text/plain": [
       "True"
      ]
     },
     "execution_count": 43,
     "metadata": {},
     "output_type": "execute_result"
    }
   ],
   "source": [
    "#None是Python空值类型\n",
    "a = None\n",
    "a is None"
   ]
  },
  {
   "cell_type": "code",
   "execution_count": 44,
   "id": "b7cf53d8",
   "metadata": {},
   "outputs": [
    {
     "data": {
      "text/plain": [
       "False"
      ]
     },
     "execution_count": 44,
     "metadata": {},
     "output_type": "execute_result"
    }
   ],
   "source": [
    "b =None\n",
    "b is not None"
   ]
  },
  {
   "cell_type": "code",
   "execution_count": 45,
   "id": "638b8502",
   "metadata": {},
   "outputs": [
    {
     "data": {
      "text/plain": [
       "3"
      ]
     },
     "execution_count": 45,
     "metadata": {},
     "output_type": "execute_result"
    }
   ],
   "source": [
    "#None也常做默认值\n",
    "\n",
    "def func(a,b,c=None):\n",
    "    if c is None:\n",
    "        return a+b\n",
    "    else:\n",
    "        return a+b+c\n",
    "\n",
    "func(1,2)"
   ]
  },
  {
   "cell_type": "code",
   "execution_count": 46,
   "id": "13c3d57d",
   "metadata": {},
   "outputs": [
    {
     "data": {
      "text/plain": [
       "6"
      ]
     },
     "execution_count": 46,
     "metadata": {},
     "output_type": "execute_result"
    }
   ],
   "source": [
    "func(1,2,3)"
   ]
  },
  {
   "cell_type": "code",
   "execution_count": 47,
   "id": "82b4328a",
   "metadata": {},
   "outputs": [
    {
     "data": {
      "text/plain": [
       "18"
      ]
     },
     "execution_count": 47,
     "metadata": {},
     "output_type": "execute_result"
    }
   ],
   "source": [
    "#日期和时间\n",
    "#Python内置了一个datetime模块，提供了处理日期和时间的函数和类。\n",
    "#获取当前日期和时间\n",
    "from datetime import datetime,date,time\n",
    "dt=datetime(2025,1,18,8,40,34)\n",
    "dt.day\n"
   ]
  },
  {
   "cell_type": "code",
   "execution_count": 48,
   "id": "4d8e2c5c",
   "metadata": {},
   "outputs": [
    {
     "data": {
      "text/plain": [
       "40"
      ]
     },
     "execution_count": 48,
     "metadata": {},
     "output_type": "execute_result"
    }
   ],
   "source": [
    "dt.minute"
   ]
  },
  {
   "cell_type": "code",
   "execution_count": 49,
   "id": "3de403de",
   "metadata": {},
   "outputs": [
    {
     "data": {
      "text/plain": [
       "8"
      ]
     },
     "execution_count": 49,
     "metadata": {},
     "output_type": "execute_result"
    }
   ],
   "source": [
    "dt.hour"
   ]
  },
  {
   "cell_type": "code",
   "execution_count": 50,
   "id": "313bf6aa",
   "metadata": {},
   "outputs": [
    {
     "data": {
      "text/plain": [
       "datetime.date(2025, 1, 18)"
      ]
     },
     "execution_count": 50,
     "metadata": {},
     "output_type": "execute_result"
    }
   ],
   "source": [
    "#对于datetime示例可以用date.()和time()方法获取日期和时间\n",
    "dt.date()"
   ]
  },
  {
   "cell_type": "code",
   "execution_count": 51,
   "id": "f76434c3",
   "metadata": {},
   "outputs": [
    {
     "data": {
      "text/plain": [
       "datetime.time(8, 40, 34)"
      ]
     },
     "execution_count": 51,
     "metadata": {},
     "output_type": "execute_result"
    }
   ],
   "source": [
    "dt.time()"
   ]
  },
  {
   "cell_type": "code",
   "execution_count": 52,
   "id": "764d7c0d",
   "metadata": {},
   "outputs": [
    {
     "data": {
      "text/plain": [
       "'2025-01-18 08:40:34'"
      ]
     },
     "execution_count": 52,
     "metadata": {},
     "output_type": "execute_result"
    }
   ],
   "source": [
    "#strftime()方法可以将时间格式化为字符串\n",
    "from datetime import datetime,date,time\n",
    "dt=datetime(2025,1,18,8,40,34)\n",
    "dt.strftime(\"%Y-%m-%d %H:%M:%S\")#注意:时间是大写的"
   ]
  },
  {
   "cell_type": "code",
   "execution_count": 53,
   "id": "228a6d3f",
   "metadata": {},
   "outputs": [
    {
     "data": {
      "text/plain": [
       "datetime.datetime(2002, 6, 22, 0, 0)"
      ]
     },
     "execution_count": 53,
     "metadata": {},
     "output_type": "execute_result"
    }
   ],
   "source": [
    "#strptime函数可以将字符串转化为datetime对象\n",
    "datetime.strptime('2002622',\"%Y%m%d\")"
   ]
  },
  {
   "cell_type": "code",
   "execution_count": 55,
   "id": "867767c8",
   "metadata": {},
   "outputs": [
    {
     "data": {
      "text/plain": [
       "datetime.datetime(2025, 1, 18, 8, 0)"
      ]
     },
     "execution_count": 55,
     "metadata": {},
     "output_type": "execute_result"
    }
   ],
   "source": [
    "#用0替换minute和second字段\n",
    "from datetime import datetime,date,time\n",
    "dt=datetime(2025,1,18,8,40,34)\n",
    "dt_hour=dt.replace(minute=0,second=0)\n",
    "dt_hour\n",
    "#注意：replace不会修改原对象,所以dt_hour和dt是不同的对象,dt值不变"
   ]
  },
  {
   "cell_type": "code",
   "execution_count": 57,
   "id": "06050806",
   "metadata": {},
   "outputs": [
    {
     "data": {
      "text/plain": [
       "datetime.timedelta(days=102, seconds=82260)"
      ]
     },
     "execution_count": 57,
     "metadata": {},
     "output_type": "execute_result"
    }
   ],
   "source": [
    "#两个datetime相减会出现timedelta类型\n",
    "dt1=datetime(2025,11,22,9,23,12)\n",
    "dt2=datetime(2025,8,11,10,32,12)\n",
    "delta=dt1-dt2\n",
    "delta\n",
    "#结果:datetime.timedelta(days=102, seconds=82260)表面时间差为102天82260秒"
   ]
  },
  {
   "cell_type": "code",
   "execution_count": 58,
   "id": "dbb69eec",
   "metadata": {},
   "outputs": [
    {
     "data": {
      "text/plain": [
       "datetime.datetime(2025, 11, 22, 9, 23, 12)"
      ]
     },
     "execution_count": 58,
     "metadata": {},
     "output_type": "execute_result"
    }
   ],
   "source": [
    "#将timedelta和datetime相加可以新建一个datetime\n",
    "dt2+delta#表明dt2是dt1的delta时间之前"
   ]
  },
  {
   "cell_type": "code",
   "execution_count": null,
   "id": "de21d30b",
   "metadata": {},
   "outputs": [],
   "source": []
  }
 ],
 "metadata": {
  "kernelspec": {
   "display_name": "pydata-book",
   "language": "python",
   "name": "python3"
  },
  "language_info": {
   "codemirror_mode": {
    "name": "ipython",
    "version": 3
   },
   "file_extension": ".py",
   "mimetype": "text/x-python",
   "name": "python",
   "nbconvert_exporter": "python",
   "pygments_lexer": "ipython3",
   "version": "3.13.1"
  }
 },
 "nbformat": 4,
 "nbformat_minor": 5
}
