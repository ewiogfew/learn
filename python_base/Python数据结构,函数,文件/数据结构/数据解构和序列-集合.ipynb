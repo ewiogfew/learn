{
 "cells": [
  {
   "cell_type": "code",
   "execution_count": 1,
   "metadata": {},
   "outputs": [],
   "source": [
    "#集合\n",
    "#1特点:无序,不可重复.\n",
    "#2创建,集合运算,\n"
   ]
  },
  {
   "cell_type": "code",
   "execution_count": 3,
   "metadata": {},
   "outputs": [
    {
     "name": "stdout",
     "output_type": "stream",
     "text": [
      "{1, 2, 3}\n",
      "{1, 2, 3}\n"
     ]
    }
   ],
   "source": [
    "set1={1,2,3,3}#注意不可重复性\n",
    "print(set1)\n",
    "set2=set([1,2,3,3,3])\n",
    "print(set2)"
   ]
  },
  {
   "cell_type": "code",
   "execution_count": 7,
   "metadata": {},
   "outputs": [
    {
     "name": "stdout",
     "output_type": "stream",
     "text": [
      "{1, 2, 3, 4, 5, 6, 7, 8}\n",
      "{1, 2, 3, 4, 5, 6, 7, 8}\n"
     ]
    },
    {
     "data": {
      "text/plain": [
       "{3, 4, 5}"
      ]
     },
     "execution_count": 7,
     "metadata": {},
     "output_type": "execute_result"
    }
   ],
   "source": [
    "#取并集,交集,差集,对称差集\n",
    "a={1,2,3,4,5}\n",
    "b={3,4,5,6,7,8}\n",
    "#取并集:union方法或者|二元运算符\n",
    "c=a.union(b)\n",
    "print(c)\n",
    "d=a|b\n",
    "print(d)\n",
    "#取交集:&或者intersection\n",
    "a&b\n",
    "a.intersection(b)"
   ]
  },
  {
   "cell_type": "code",
   "execution_count": 10,
   "metadata": {},
   "outputs": [
    {
     "data": {
      "text/plain": [
       "{3, 4, 5}"
      ]
     },
     "execution_count": 10,
     "metadata": {},
     "output_type": "execute_result"
    }
   ],
   "source": [
    "#逻辑集合运算都有对应的实现方法,可以直接用结果替代等号左边的集合.\n",
    "c=a.copy()\n",
    "c|=b#在c集合中为c与b的并集\n",
    "c\n",
    "d=a.copy()\n",
    "d&=b\n",
    "d"
   ]
  },
  {
   "cell_type": "code",
   "execution_count": 13,
   "metadata": {},
   "outputs": [
    {
     "name": "stdout",
     "output_type": "stream",
     "text": [
      "{(1, 2, 3)}\n",
      "set()\n"
     ]
    }
   ],
   "source": [
    "#注意如何设置空集合\n",
    "set3=set()\n",
    "#添加\n",
    "set3.add((1,2,3))\n",
    "print(set3)\n",
    "\n",
    "#删除\n",
    "set3.remove((1,2,3))\n",
    "print(set3)\n",
    "\n",
    "#直接清空所有元素\n",
    "set3.clear()"
   ]
  },
  {
   "cell_type": "code",
   "execution_count": 14,
   "metadata": {},
   "outputs": [
    {
     "name": "stdout",
     "output_type": "stream",
     "text": [
      "a | b 的结果: {1, 2, 3}\n",
      "原集合 a: {1, 2}\n",
      "a |= b 后的 a: {1, 2, 3}\n"
     ]
    }
   ],
   "source": [
    "#a|b和a|=b区别,同理其他的也类似\n",
    "\n",
    "a = {1, 2}\n",
    "b = {2, 3}\n",
    "\n",
    "# 使用 a | b（不修改原集合）\n",
    "new_set = a | b\n",
    "print(\"a | b 的结果:\", new_set)   # 输出: {1, 2, 3}\n",
    "print(\"原集合 a:\", a)            # 输出: {1, 2}\n",
    "\n",
    "# 使用 a |= b（直接修改原集合）\n",
    "a |= b\n",
    "print(\"a |= b 后的 a:\", a)       # 输出: {1, 2, 3}"
   ]
  },
  {
   "cell_type": "code",
   "execution_count": 1,
   "metadata": {},
   "outputs": [
    {
     "data": {
      "text/plain": [
       "{(1, 3, 4, 5)}"
      ]
     },
     "execution_count": 1,
     "metadata": {},
     "output_type": "execute_result"
    }
   ],
   "source": [
    "#与字典的键类似,集合的元素一般是不可以修改的,想要在集合储存列表形式的元素,必须先转化为元组\n",
    "set1=set()\n",
    "list1=[1,3,4,5]\n",
    "#set.add(list1)  报错unhashable\n",
    "set1.add(tuple(list1))\n",
    "set1"
   ]
  },
  {
   "cell_type": "code",
   "execution_count": 2,
   "metadata": {},
   "outputs": [
    {
     "data": {
      "text/plain": [
       "True"
      ]
     },
     "execution_count": 2,
     "metadata": {},
     "output_type": "execute_result"
    }
   ],
   "source": [
    "#检查一个集合是不是另一个集合的子集\n",
    "a_set={1,2,3,4,5,6,7,8}\n",
    "{1,2,3}.issubset(a_set)\n"
   ]
  },
  {
   "cell_type": "code",
   "execution_count": 4,
   "metadata": {},
   "outputs": [
    {
     "data": {
      "text/plain": [
       "True"
      ]
     },
     "execution_count": 4,
     "metadata": {},
     "output_type": "execute_result"
    }
   ],
   "source": [
    "#检查一个集合是不是另一个集合的父集\n",
    "a_set={1,2,3,4,5,6,7,8}\n",
    "a_set.issuperset({1,2,3})"
   ]
  },
  {
   "cell_type": "code",
   "execution_count": 6,
   "metadata": {},
   "outputs": [
    {
     "data": {
      "text/plain": [
       "True"
      ]
     },
     "execution_count": 6,
     "metadata": {},
     "output_type": "execute_result"
    }
   ],
   "source": [
    "#集合相等\n",
    "{1,2,3,4,5}=={5,4,3,2,1}"
   ]
  },
  {
   "cell_type": "code",
   "execution_count": null,
   "metadata": {},
   "outputs": [],
   "source": []
  }
 ],
 "metadata": {
  "kernelspec": {
   "display_name": "pydata-book",
   "language": "python",
   "name": "python3"
  },
  "language_info": {
   "codemirror_mode": {
    "name": "ipython",
    "version": 3
   },
   "file_extension": ".py",
   "mimetype": "text/x-python",
   "name": "python",
   "nbconvert_exporter": "python",
   "pygments_lexer": "ipython3",
   "version": "3.13.1"
  }
 },
 "nbformat": 4,
 "nbformat_minor": 2
}
