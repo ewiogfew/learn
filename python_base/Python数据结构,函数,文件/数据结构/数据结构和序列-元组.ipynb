{
 "cells": [
  {
   "cell_type": "code",
   "execution_count": 9,
   "metadata": {},
   "outputs": [],
   "source": [
    "#元组\n",
    "#1构建\n",
    "#2转化\n",
    "#3访问\n",
    "#4可变性\n",
    "#5相加性\n",
    "#6元组拆包,与c语言不同的交换变量值的特殊方法,\n"
   ]
  },
  {
   "cell_type": "code",
   "execution_count": 10,
   "metadata": {},
   "outputs": [],
   "source": [
    "tup1=(1,3,(1,3,4),\"hello\")"
   ]
  },
  {
   "cell_type": "code",
   "execution_count": 1,
   "metadata": {},
   "outputs": [
    {
     "data": {
      "text/plain": [
       "(1, 3, 4, (1, 3))"
      ]
     },
     "execution_count": 1,
     "metadata": {},
     "output_type": "execute_result"
    }
   ],
   "source": [
    "list1=[1,3,4,(1,3)]\n",
    "tup2=tuple(list1)\n",
    "tup2"
   ]
  },
  {
   "cell_type": "code",
   "execution_count": 2,
   "metadata": {},
   "outputs": [
    {
     "data": {
      "text/plain": [
       "('h', 'e', 'l', 'l', 'o', ' ', 'w', 'o', 'r', 'l', 'd')"
      ]
     },
     "execution_count": 2,
     "metadata": {},
     "output_type": "execute_result"
    }
   ],
   "source": [
    "tuple('hello world')"
   ]
  },
  {
   "cell_type": "code",
   "execution_count": 5,
   "metadata": {},
   "outputs": [
    {
     "data": {
      "text/plain": [
       "(4, 5)"
      ]
     },
     "execution_count": 5,
     "metadata": {},
     "output_type": "execute_result"
    }
   ],
   "source": [
    "#tuple的访问用tuple对象[]方式\n",
    "tup3=(1,2,3,(4,5),(6,7))\n",
    "tup3[3]"
   ]
  },
  {
   "cell_type": "code",
   "execution_count": 6,
   "metadata": {},
   "outputs": [
    {
     "ename": "TypeError",
     "evalue": "'tuple' object does not support item assignment",
     "output_type": "error",
     "traceback": [
      "\u001b[1;31m---------------------------------------------------------------------------\u001b[0m",
      "\u001b[1;31mTypeError\u001b[0m                                 Traceback (most recent call last)",
      "Cell \u001b[1;32mIn[6], line 3\u001b[0m\n\u001b[0;32m      1\u001b[0m \u001b[38;5;66;03m#元组中的对象不可修改\u001b[39;00m\n\u001b[0;32m      2\u001b[0m tup4\u001b[38;5;241m=\u001b[39m(\u001b[38;5;241m1\u001b[39m,\u001b[38;5;28;01mTrue\u001b[39;00m,(\u001b[38;5;241m1\u001b[39m,\u001b[38;5;241m2\u001b[39m),[\u001b[38;5;241m1\u001b[39m,\u001b[38;5;241m2\u001b[39m,\u001b[38;5;241m3\u001b[39m,\u001b[38;5;241m4\u001b[39m])\n\u001b[1;32m----> 3\u001b[0m \u001b[43mtup4\u001b[49m\u001b[43m[\u001b[49m\u001b[38;5;241;43m1\u001b[39;49m\u001b[43m]\u001b[49m\u001b[38;5;241m=\u001b[39m\u001b[38;5;28;01mFalse\u001b[39;00m\n",
      "\u001b[1;31mTypeError\u001b[0m: 'tuple' object does not support item assignment"
     ]
    }
   ],
   "source": [
    "#元组中的对象不可修改\n",
    "tup4=(1,True,(1,2),[1,2,3,4])\n",
    "tup4[1]=False"
   ]
  },
  {
   "cell_type": "code",
   "execution_count": 12,
   "metadata": {},
   "outputs": [
    {
     "data": {
      "text/plain": [
       "(1, True, (1, 2), [1, 2, 3, 4, 5, 5, 5])"
      ]
     },
     "execution_count": 12,
     "metadata": {},
     "output_type": "execute_result"
    }
   ],
   "source": [
    "#如果元组的某个对象可变就可修改,比如列表\n",
    "tup4[3].append(5)\n",
    "tup4"
   ]
  },
  {
   "cell_type": "code",
   "execution_count": 13,
   "metadata": {},
   "outputs": [
    {
     "data": {
      "text/plain": [
       "(1, 2, 3, 4)"
      ]
     },
     "execution_count": 13,
     "metadata": {},
     "output_type": "execute_result"
    }
   ],
   "source": [
    "tup5=(1,2)\n",
    "tup6=(3,4)\n",
    "tup5+tup6"
   ]
  },
  {
   "cell_type": "code",
   "execution_count": 14,
   "metadata": {},
   "outputs": [
    {
     "data": {
      "text/plain": [
       "(1, 2, 1, 2, 1, 2, 1, 2)"
      ]
     },
     "execution_count": 14,
     "metadata": {},
     "output_type": "execute_result"
    }
   ],
   "source": [
    "#元组*整数会复制倍数然后整合到一起\n",
    "tup5*4"
   ]
  },
  {
   "cell_type": "code",
   "execution_count": 20,
   "metadata": {},
   "outputs": [
    {
     "name": "stdout",
     "output_type": "stream",
     "text": [
      "1 2 3\n",
      "4 5 6 7 8\n"
     ]
    }
   ],
   "source": [
    "#元组拆包:给类似元组的变量赋值,python会试图对等号右边的值拆包\n",
    "(a,b,c)=(1,2,3)\n",
    "print(a,b,c)\n",
    "(d,e,f,(g,h))=(4,5,6,(7,8))\n",
    "print(d,e,f,g,h)\n"
   ]
  },
  {
   "cell_type": "code",
   "execution_count": 22,
   "metadata": {},
   "outputs": [
    {
     "name": "stdout",
     "output_type": "stream",
     "text": [
      "1 2\n",
      "2 1\n"
     ]
    }
   ],
   "source": [
    "#Python快速交换变量的值\n",
    "a,b=1,2\n",
    "print(a,b)\n",
    "a,b=b,a\n",
    "print(a,b)"
   ]
  },
  {
   "cell_type": "code",
   "execution_count": 25,
   "metadata": {},
   "outputs": [
    {
     "name": "stdout",
     "output_type": "stream",
     "text": [
      "i=(1, 2, 3)\n",
      "i=(4, 5, 6)\n",
      "i=(7, 8, 9)\n",
      "i1=1,i2=2,i3=3\n",
      "i1=4,i2=5,i3=6\n",
      "i1=7,i2=8,i3=9\n"
     ]
    }
   ],
   "source": [
    "#变量拆包常用来迭代元组或列表的序列\n",
    "list2=[(1,2,3),(4,5,6),(7,8,9)]\n",
    "for i in list2:\n",
    "    print(f\"i={i}\")\n",
    "\n",
    "#for i1,i2 in list2:\n",
    "    #print(f\"i1={i2},i2={i2}\")会出错\n",
    "\n",
    "for i1,i2,i3 in list2:\n",
    "    print(f\"i1={i1},i2={i2},i3={i3}\")\n"
   ]
  },
  {
   "cell_type": "code",
   "execution_count": 29,
   "metadata": {},
   "outputs": [
    {
     "name": "stdout",
     "output_type": "stream",
     "text": [
      "1 2\n",
      "[3, 4, 5, 6] <class 'list'>\n"
     ]
    }
   ],
   "source": [
    "#如何取元组开头的几个元素,可以用*rest\n",
    "tup7=(1,2,3,4,5,6)\n",
    "(a,b,*rest)=tup7\n",
    "print(a,b)\n",
    "print(rest,type(rest))#*rest会把剩余部分组合为list"
   ]
  },
  {
   "cell_type": "code",
   "execution_count": null,
   "metadata": {},
   "outputs": [],
   "source": [
    "\n"
   ]
  }
 ],
 "metadata": {
  "kernelspec": {
   "display_name": "pydata-book",
   "language": "python",
   "name": "python3"
  },
  "language_info": {
   "codemirror_mode": {
    "name": "ipython",
    "version": 3
   },
   "file_extension": ".py",
   "mimetype": "text/x-python",
   "name": "python",
   "nbconvert_exporter": "python",
   "pygments_lexer": "ipython3",
   "version": "3.13.1"
  }
 },
 "nbformat": 4,
 "nbformat_minor": 2
}
