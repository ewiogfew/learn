{
 "cells": [
  {
   "cell_type": "code",
   "execution_count": 1,
   "metadata": {},
   "outputs": [],
   "source": [
    "#列表,与元组相比,长度可变,内容可以被修改\n",
    "#1定义列表,转化列表,查看列表某一元素,修改列表,range()\n",
    "#2添加和删除元素\n",
    "#3串联和联合列表\n",
    "#4排序\n",
    "#5切片\n"
   ]
  },
  {
   "cell_type": "code",
   "execution_count": 8,
   "metadata": {},
   "outputs": [
    {
     "name": "stdout",
     "output_type": "stream",
     "text": [
      "[1, 2, 3]\n",
      "(4, 5)\n",
      "[1, 2, 3, (4, 5), False]\n",
      "range(0, 10)\n",
      "[0, 1, 2, 3, 4, 5, 6, 7, 8, 9]\n"
     ]
    }
   ],
   "source": [
    "list1=[1,2,3,(4,5),True]\n",
    "tup=(1,2,3)\n",
    "list2=list(tup)\n",
    "print(list2)\n",
    "#查看某一元素\n",
    "a=list1[3]\n",
    "print(a)\n",
    "#修改\n",
    "list1[4]=False\n",
    "print(list1)\n",
    "#range迭代\n",
    "gen=range(10)\n",
    "print(gen)\n",
    "b=list(gen)\n",
    "print(b)"
   ]
  },
  {
   "cell_type": "code",
   "execution_count": 20,
   "metadata": {},
   "outputs": [
    {
     "name": "stdout",
     "output_type": "stream",
     "text": [
      "['JAVA', 'Python', 1, 2, (3, 4), False, True]\n",
      "['JAVA', 'Python', 'C++', 1, 2, (3, 4), False, True]\n",
      "['JAVA', 'Python', 'C++', 1, 2, (3, 4), True] False\n",
      "[1, 2, 3]\n"
     ]
    }
   ],
   "source": [
    "#1添加和删除\n",
    "#添加append,insert/删除:pop(),remove\n",
    "list2=[\"JAVA\",\"Python\",1,2,(3,4),False]\n",
    "#在列表末尾添加\n",
    "list2.append(True)\n",
    "print(list2)\n",
    "#insert(索引,对象)在指定索引添加\n",
    "list2.insert(2,\"C++\")\n",
    "print(list2)\n",
    "\n",
    "#pop(索引)删除指定索引,并返回这个索引对应的值\n",
    "c=list2.pop(6)\n",
    "print(list2,c)\n",
    "#remove(对象)会首先移除第一个该对象\n",
    "list3=[1,1,2,3]\n",
    "list3.remove(1)\n",
    "print(list3)"
   ]
  },
  {
   "cell_type": "code",
   "execution_count": 22,
   "metadata": {},
   "outputs": [
    {
     "name": "stdout",
     "output_type": "stream",
     "text": [
      "[1, 2, 3, 4]\n",
      "[1, 2, 3, 4, 5, 6, 7]\n"
     ]
    }
   ],
   "source": [
    "#串联和组合列表\n",
    "list4=[1,2];list5=[3,4]\n",
    "list6=list4+list5\n",
    "print(list6)\n",
    "#追加多个元素extend(多个元素)#创建大列表时更可取\n",
    "list6.extend([5,6,7])\n",
    "print(list6)\n"
   ]
  },
  {
   "cell_type": "code",
   "execution_count": 23,
   "metadata": {},
   "outputs": [
    {
     "name": "stdout",
     "output_type": "stream",
     "text": [
      "[1, 2, 3, 4, 5, 6, 7]\n"
     ]
    }
   ],
   "source": [
    "#排序sort(参数)\n",
    "list7=[7,6,5,4,3,2,1]\n",
    "list7.sort()\n",
    "print(list7)\n"
   ]
  },
  {
   "cell_type": "code",
   "execution_count": 29,
   "metadata": {},
   "outputs": [
    {
     "data": {
      "text/plain": [
       "[4, 5, 6]"
      ]
     },
     "execution_count": 29,
     "metadata": {},
     "output_type": "execute_result"
    }
   ],
   "source": [
    "#切片\n",
    "list8=[0,1,2,3,4,5,6,7,8]\n",
    "list8[1:3]\n",
    "list8[::1]\n",
    "list8[::-1]\n",
    "list8[-2:-5:-1]\n",
    "list8[-5:-2]"
   ]
  },
  {
   "cell_type": "code",
   "execution_count": null,
   "metadata": {},
   "outputs": [],
   "source": []
  }
 ],
 "metadata": {
  "kernelspec": {
   "display_name": "pydata-book",
   "language": "python",
   "name": "python3"
  },
  "language_info": {
   "codemirror_mode": {
    "name": "ipython",
    "version": 3
   },
   "file_extension": ".py",
   "mimetype": "text/x-python",
   "name": "python",
   "nbconvert_exporter": "python",
   "pygments_lexer": "ipython3",
   "version": "3.13.1"
  }
 },
 "nbformat": 4,
 "nbformat_minor": 2
}
