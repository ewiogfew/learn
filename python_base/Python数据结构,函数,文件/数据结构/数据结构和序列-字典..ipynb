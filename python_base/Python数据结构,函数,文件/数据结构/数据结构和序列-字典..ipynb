{
 "cells": [
  {
   "cell_type": "code",
   "execution_count": 1,
   "metadata": {},
   "outputs": [
    {
     "name": "stdout",
     "output_type": "stream",
     "text": [
      "{'apple': 14, 'banana': 12}\n",
      "{'apple': 14, 'banana': 12, 'pear': 15}\n",
      "{'banana': 12, 'pear': 15}\n",
      "{'pear': 15}\n",
      "1\n",
      "2\n",
      "3\n",
      "4\n",
      "11\n",
      "22\n",
      "33\n",
      "44\n",
      "(1, 11)\n",
      "(2, 22)\n",
      "(3, 33)\n",
      "(4, 44)\n",
      "[(1, 11), (2, 22), (3, 33), (4, 44)]\n",
      "{1: 11, 2: 22, 3: 33, 4: 44}\n"
     ]
    }
   ],
   "source": [
    "#字典\n",
    "#1,创建,查询,修改,增添,删除,迭代(keys,values,items),合并\n",
    "empty_dict={}\n",
    "dict1={\"apple\":10,\"banana\":12}\n",
    "dict1[\"apple\"]\n",
    "\n",
    "dict1[\"apple\"]=14\n",
    "print(dict1)\n",
    "\n",
    "dict1[\"pear\"]=15\n",
    "print(dict1)\n",
    "\n",
    "del dict1[\"apple\"]\n",
    "print(dict1)\n",
    "dict1.pop(\"banana\")\n",
    "print(dict1)\n",
    "\n",
    "dict2={1:11,2:22,3:33,4:44}\n",
    "for i in dict2.keys():\n",
    "    print(i)\n",
    "for i2 in dict2.values():\n",
    "    print(i2)\n",
    "for i3 in dict2.items():\n",
    "    print (i3)\n",
    "list2=list(dict2.items())\n",
    "print(list2)\n",
    "\n",
    "#update可以合并字典,实质修改字典\n",
    "dict3={1:11,2:22}\n",
    "dict3.update({3:33,4:44})\n",
    "print(dict3)"
   ]
  },
  {
   "cell_type": "code",
   "execution_count": 3,
   "metadata": {},
   "outputs": [
    {
     "name": "stdout",
     "output_type": "stream",
     "text": [
      "{'apple': 'tim', 'huawei': '任正非', '小米': '雷军'}\n"
     ]
    }
   ],
   "source": [
    "#用序列创建字典,字典实质就是2元组的集合\n",
    "dict={}\n",
    "tup1=(\"apple\",\"huawei\",\"小米\")\n",
    "tup2=(\"tim\",\"任正非\",\"雷军\")\n",
    "for k,v in zip(tup1,tup2):\n",
    "    dict[k]=v\n",
    "print(dict)\n",
    "     "
   ]
  },
  {
   "cell_type": "code",
   "execution_count": 5,
   "metadata": {},
   "outputs": [
    {
     "name": "stdout",
     "output_type": "stream",
     "text": [
      "{'a': ['app', 'atom'], 'b': ['bat', 'bar', 'book']}\n"
     ]
    }
   ],
   "source": [
    "#默认值\n",
    "#将下列列表按照首字母对应单词形式放入字典中\n",
    "word=[\"app\",\"bat\",\"bar\",\"atom\",\"book\"]\n",
    "dict4={}\n",
    "for i in word:\n",
    "    if i[0] not in dict4:\n",
    "        dict4[i[0]]=[i]#注意:这里如果写成i就无法后续为这个首字母添加单词.\n",
    "    else:\n",
    "        dict4[i[0]].append(i)\n",
    "print(dict4)"
   ]
  },
  {
   "cell_type": "code",
   "execution_count": 6,
   "metadata": {},
   "outputs": [
    {
     "name": "stdout",
     "output_type": "stream",
     "text": [
      "{'a': ['app', 'atom'], 'b': ['bat', 'bar', 'book']}\n"
     ]
    }
   ],
   "source": [
    "#setdefault字典可以简化流程\n",
    "word=[\"app\",\"bat\",\"bar\",\"atom\",\"book\"]\n",
    "dict4={}\n",
    "for i in word:\n",
    "    letter=i[0]\n",
    "    dict4.setdefault(letter,[]).append(i)\n",
    "\n",
    "print(dict4)"
   ]
  },
  {
   "cell_type": "code",
   "execution_count": 7,
   "metadata": {},
   "outputs": [
    {
     "name": "stdout",
     "output_type": "stream",
     "text": [
      "defaultdict(<class 'list'>, {'a': ['app', 'atom'], 'b': ['bat', 'bar', 'book']})\n"
     ]
    }
   ],
   "source": [
    "#内置的collections模块有一个很有用的类defaultdict,可以向defaultdict传入类型或函数,生成每个位置的默认值\n",
    "\n",
    "from collections import defaultdict\n",
    "word=[\"app\",\"bat\",\"bar\",\"atom\",\"book\"]\n",
    "dict4={}\n",
    "dict4=defaultdict(list)\n",
    "for i in word:\n",
    "    dict4[i[0]].append(i)\n",
    "\n",
    "print(dict4)"
   ]
  },
  {
   "cell_type": "code",
   "execution_count": 11,
   "metadata": {},
   "outputs": [
    {
     "ename": "TypeError",
     "evalue": "unhashable type: 'list'",
     "output_type": "error",
     "traceback": [
      "\u001b[1;31m---------------------------------------------------------------------------\u001b[0m",
      "\u001b[1;31mTypeError\u001b[0m                                 Traceback (most recent call last)",
      "Cell \u001b[1;32mIn[11], line 7\u001b[0m\n\u001b[0;32m      5\u001b[0m \u001b[38;5;28mhash\u001b[39m(a)\n\u001b[0;32m      6\u001b[0m tuple1\u001b[38;5;241m=\u001b[39m(\u001b[38;5;241m1\u001b[39m,\u001b[38;5;241m2\u001b[39m,\u001b[38;5;241m3\u001b[39m,[\u001b[38;5;241m1\u001b[39m,\u001b[38;5;241m2\u001b[39m,\u001b[38;5;241m3\u001b[39m])\n\u001b[1;32m----> 7\u001b[0m \u001b[38;5;28;43mhash\u001b[39;49m\u001b[43m(\u001b[49m\u001b[43mtuple1\u001b[49m\u001b[43m)\u001b[49m\n",
      "\u001b[1;31mTypeError\u001b[0m: unhashable type: 'list'"
     ]
    }
   ],
   "source": [
    " #有效的字典键类型\n",
    "#键一般不可修改,例如标量和元组(元组内的对象不可修改)\n",
    "#可以用hash函数检测对象是否可作为字典的键\n",
    "a=(1,2,3)\n",
    "hash(a)\n",
    "tuple1=(1,2,3,[1,2,3])\n",
    "hash(tuple1)#报错:unhashable"
   ]
  },
  {
   "cell_type": "code",
   "execution_count": null,
   "metadata": {},
   "outputs": [],
   "source": []
  }
 ],
 "metadata": {
  "kernelspec": {
   "display_name": "pydata-book",
   "language": "python",
   "name": "python3"
  },
  "language_info": {
   "codemirror_mode": {
    "name": "ipython",
    "version": 3
   },
   "file_extension": ".py",
   "mimetype": "text/x-python",
   "name": "python",
   "nbconvert_exporter": "python",
   "pygments_lexer": "ipython3",
   "version": "3.13.1"
  }
 },
 "nbformat": 4,
 "nbformat_minor": 2
}
