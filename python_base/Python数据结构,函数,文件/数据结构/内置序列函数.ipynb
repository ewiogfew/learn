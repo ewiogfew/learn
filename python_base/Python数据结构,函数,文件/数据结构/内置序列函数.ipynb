{
 "cells": [
  {
   "cell_type": "code",
   "execution_count": 2,
   "metadata": {},
   "outputs": [
    {
     "name": "stdout",
     "output_type": "stream",
     "text": [
      "0 1\n",
      "1 2\n",
      "2 3\n",
      "3 4\n"
     ]
    }
   ],
   "source": [
    "#内置的序列函数\n",
    "#enumerate函数可以跟踪当前序列\n",
    "\n",
    "collection=[1,2,3,4]\n",
    "for index, i in enumerate(collection):\n",
    "    print(index,i)"
   ]
  },
  {
   "cell_type": "code",
   "execution_count": 5,
   "metadata": {},
   "outputs": [
    {
     "data": {
      "text/plain": [
       "[' ', 'd', 'e', 'h', 'l', 'l', 'l', 'o', 'o', 'r', 'w']"
      ]
     },
     "execution_count": 5,
     "metadata": {},
     "output_type": "execute_result"
    }
   ],
   "source": [
    "#sorted函数\n",
    "a=[4,3,2,1]\n",
    "sorted(a)\n",
    "b=\"hello world\"\n",
    "sorted(b)"
   ]
  },
  {
   "cell_type": "code",
   "execution_count": 12,
   "metadata": {},
   "outputs": [
    {
     "name": "stdout",
     "output_type": "stream",
     "text": [
      "[(1, 'one'), (2, 'two'), (3, 'three')]\n",
      "索引:0,内容:(1, 'one')\n",
      "索引:1,内容:(2, 'two')\n",
      "索引:2,内容:(3, 'three')\n",
      "索引:0,内容:1 one\n",
      "索引:1,内容:2 two\n",
      "索引:2,内容:3 three\n"
     ]
    }
   ],
   "source": [
    "#zip函数:可以将多个列表的元素一一对应组合成元组列表(需要list()实例化才能输出)\n",
    "tup1=(1,2,3)\n",
    "tup2=(\"one\",\"two\",\"three\")\n",
    "zipped=zip(tup1,tup2)\n",
    "\n",
    "\n",
    "print(list(zipped))\n",
    "\n",
    "for index,i in enumerate(zip(tup1,tup2)):\n",
    "    print(f\"索引:{index},内容:{i}\")\n",
    "\n",
    "for index,(a,b) in enumerate(zip(tup1,tup2)):\n",
    "    print(f\"索引:{index},内容:{a} {b}\")"
   ]
  },
  {
   "cell_type": "code",
   "execution_count": 14,
   "metadata": {},
   "outputs": [
    {
     "data": {
      "text/plain": [
       "<range_iterator at 0x186651c2990>"
      ]
     },
     "execution_count": 14,
     "metadata": {},
     "output_type": "execute_result"
    }
   ],
   "source": [
    "#reversed 函数:逆序迭代序列中的元素:\n",
    "list(reversed(range(10)))\n",
    "#同样reversed是一个生成器,只有实例化(例如使用for循环或者list())才能创建序列\n",
    "reversed(range(10))"
   ]
  },
  {
   "cell_type": "code",
   "execution_count": null,
   "metadata": {},
   "outputs": [],
   "source": []
  }
 ],
 "metadata": {
  "kernelspec": {
   "display_name": "pydata-book",
   "language": "python",
   "name": "python3"
  },
  "language_info": {
   "codemirror_mode": {
    "name": "ipython",
    "version": 3
   },
   "file_extension": ".py",
   "mimetype": "text/x-python",
   "name": "python",
   "nbconvert_exporter": "python",
   "pygments_lexer": "ipython3",
   "version": "3.13.1"
  }
 },
 "nbformat": 4,
 "nbformat_minor": 2
}
