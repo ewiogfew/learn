{
 "cells": [
  {
   "cell_type": "code",
   "execution_count": null,
   "metadata": {},
   "outputs": [],
   "source": [
    "#列表推导式是一种用户可以快速从集合中过滤元素,用简单的表达式转换传递给过滤器,从而形成新列表\n",
    "\n",
    "\n",
    "#列表推导式如下\n",
    "#[expr for value in collection if condition]\n",
    "\n",
    "#结构拆解\n",
    "#expr（表达式）\n",
    "#对每次循环中的元素 value 进行处理或计算后的结果，最终会作为新列表的元素。\n",
    "#例如：value * 2、value.upper() 等。\n",
    "#\n",
    "#for value in collection\n",
    "#遍历可迭代对象 collection（如列表、元组、字符串等），依次将每个元素赋值给变量 value。\n",
    "\n",
    "#if condition（可选条件）\n",
    "#筛选元素：只有当 condition 对当前 value 判断为 True 时，才会执行 expr 并将结果加入新列表。\n",
    "\n",
    "\n",
    "#这个表达式等同于\n",
    "#result=[]\n",
    "#for value in collection:\n",
    "#    if condition:\n",
    "#        result.append(expr)"
   ]
  },
  {
   "cell_type": "code",
   "execution_count": 3,
   "metadata": {},
   "outputs": [
    {
     "data": {
      "text/plain": [
       "['BAT', 'CAR', 'DOVE', 'PYTHON']"
      ]
     },
     "execution_count": 3,
     "metadata": {},
     "output_type": "execute_result"
    }
   ],
   "source": [
    "\n",
    "#列表推导式:\n",
    "strings=[\"a\",\"as\",\"bat\",\"car\",\"dove\",\"Python\"]\n",
    "a=[x.upper() for x in strings if len(x)>2]\n",
    "a"
   ]
  },
  {
   "cell_type": "code",
   "execution_count": 5,
   "metadata": {},
   "outputs": [
    {
     "data": {
      "text/plain": [
       "{1: 'APPLE', 2: 'XIAOMI', 3: '华为'}"
      ]
     },
     "execution_count": 5,
     "metadata": {},
     "output_type": "execute_result"
    }
   ],
   "source": [
    "#字典推导式:\n",
    "my_key=(1,2,3,4)\n",
    "my_value=(\"apple\",\"xiaomi\",\"华为\",\"魅族\")\n",
    "\n",
    "\n",
    "{x:y.upper() for (x,y) in zip(my_key,my_value) if x<4}"
   ]
  },
  {
   "cell_type": "code",
   "execution_count": 7,
   "metadata": {},
   "outputs": [
    {
     "data": {
      "text/plain": [
       "{1, 2, 3, 4, 6}"
      ]
     },
     "execution_count": 7,
     "metadata": {},
     "output_type": "execute_result"
    }
   ],
   "source": [
    "#类似的集合推导式就为\n",
    "#{expr for value in collection if condition}\n",
    "#假设我们要求一个集合中每个元素的长度,并且组成一个集合\n",
    "collection1={\"a\",\"as\",\"bat\",\"car\",\"dove\",\"Python\"}\n",
    "{len(x) for x in collection1 }#无条件就是全部执行"
   ]
  },
  {
   "cell_type": "code",
   "execution_count": 8,
   "metadata": {},
   "outputs": [
    {
     "data": {
      "text/plain": [
       "{1, 2, 3, 4, 6}"
      ]
     },
     "execution_count": 8,
     "metadata": {},
     "output_type": "execute_result"
    }
   ],
   "source": [
    "#使用map函数可以更加简化这个过程\n",
    "set(map(len,collection1))\n"
   ]
  },
  {
   "cell_type": "code",
   "execution_count": 9,
   "metadata": {},
   "outputs": [
    {
     "data": {
      "text/plain": [
       "{0: 'bat', 1: 'Python', 2: 'a', 3: 'car', 4: 'dove', 5: 'as'}"
      ]
     },
     "execution_count": 9,
     "metadata": {},
     "output_type": "execute_result"
    }
   ],
   "source": [
    "#搭配enumerate函数可以创建字符串的查找映射表\n",
    "collection1={\"a\",\"as\",\"bat\",\"car\",\"dove\",\"Python\"}\n",
    "map_dict={index:value for index,value in enumerate(collection1)}\n",
    "map_dict"
   ]
  },
  {
   "cell_type": "code",
   "execution_count": 11,
   "metadata": {},
   "outputs": [
    {
     "name": "stdout",
     "output_type": "stream",
     "text": [
      "['Maria', 'Natalia']\n"
     ]
    }
   ],
   "source": [
    "#嵌套列表推导式\n",
    "#假设有一个列表有英文名和西班牙名\n",
    "all_data = [[\"John\", \"Emily\", \"Michael\", \"Mary\", \"Steven\"],\n",
    "            [\"Maria\", \"Juan\", \"Javier\", \"Natalia\", \"Pilar\"]]\n",
    "#现在要把做一个包含所有2个a或者以上的列表\n",
    "\n",
    "names_of_interest=[]\n",
    "for names in all_data:\n",
    "    enough_as=[name for name in names if name.count(\"a\")>=2 ]\n",
    "names_of_interest.extend(enough_as)\n",
    "print(names_of_interest)"
   ]
  },
  {
   "cell_type": "code",
   "execution_count": 13,
   "metadata": {},
   "outputs": [
    {
     "data": {
      "text/plain": [
       "['Maria', 'Natalia']"
      ]
     },
     "execution_count": 13,
     "metadata": {},
     "output_type": "execute_result"
    }
   ],
   "source": [
    "#这些操作可以用一个嵌套列表推导式完成\n",
    "names_of_interest_2=[name     for names in all_data for name in names       if name.count(\"a\")>=2]\n",
    "names_of_interest_2\n",
    "\n",
    "#列表推导式的for循环部分根据嵌套的顺序排列"
   ]
  },
  {
   "cell_type": "code",
   "execution_count": 14,
   "metadata": {},
   "outputs": [
    {
     "data": {
      "text/plain": [
       "[1, 2, 3, 4, 5, 6, 7, 8, 9]"
      ]
     },
     "execution_count": 14,
     "metadata": {},
     "output_type": "execute_result"
    }
   ],
   "source": [
    "#将一个整数元组序列\"扁平化\"生成一个整数列表\n",
    "tuple1=((1,2,3),(4,5,6),(7,8,9))\n",
    "list_1=[x    for tuples in tuple1 for x in tuples   ]\n",
    "list_1"
   ]
  },
  {
   "cell_type": "code",
   "execution_count": 15,
   "metadata": {},
   "outputs": [
    {
     "data": {
      "text/plain": [
       "[1, 2, 3, 4, 5, 6, 7, 8, 9]"
      ]
     },
     "execution_count": 15,
     "metadata": {},
     "output_type": "execute_result"
    }
   ],
   "source": [
    "#注意for表达式的顺序嵌套与嵌套for循环的顺序一致\n",
    "tuple2=((1,2,3),(4,5,6),(7,8,9))\n",
    "list_2=[]\n",
    "for tuples in tuple2:\n",
    "    for tuple in tuples:\n",
    "        list_2.append(tuple)\n",
    "\n",
    "list_2"
   ]
  },
  {
   "cell_type": "code",
   "execution_count": 16,
   "metadata": {},
   "outputs": [
    {
     "data": {
      "text/plain": [
       "[[1, 2, 3], [4, 5, 6], [7, 8, 9]]"
      ]
     },
     "execution_count": 16,
     "metadata": {},
     "output_type": "execute_result"
    }
   ],
   "source": [
    "#可以有任意级的嵌套,要从代码可读性思考,\"嵌套列表推导式\"要和 \"列表推导式中的列表推导式\" 区分开\n",
    "#以下为列表推导式中的列表推导式\n",
    "tuple1=((1,2,3),(4,5,6),(7,8,9))\n",
    "list_3=[ [tuple for tuple in tuples] for tuples in tuple1 ]\n",
    "list_3"
   ]
  },
  {
   "cell_type": "code",
   "execution_count": null,
   "metadata": {},
   "outputs": [],
   "source": []
  }
 ],
 "metadata": {
  "kernelspec": {
   "display_name": "pydata-book",
   "language": "python",
   "name": "python3"
  },
  "language_info": {
   "codemirror_mode": {
    "name": "ipython",
    "version": 3
   },
   "file_extension": ".py",
   "mimetype": "text/x-python",
   "name": "python",
   "nbconvert_exporter": "python",
   "pygments_lexer": "ipython3",
   "version": "3.13.1"
  }
 },
 "nbformat": 4,
 "nbformat_minor": 2
}
