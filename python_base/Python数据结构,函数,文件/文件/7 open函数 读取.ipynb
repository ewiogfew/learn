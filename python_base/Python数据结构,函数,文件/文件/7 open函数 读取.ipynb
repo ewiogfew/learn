{
 "cells": [
  {
   "cell_type": "code",
   "execution_count": null,
   "metadata": {},
   "outputs": [
    {
     "name": "stdout",
     "output_type": "stream",
     "text": [
      "The Project Gutenbe\n",
      "b'\\xef\\xbb\\xbfThe Project Guten'\n"
     ]
    }
   ],
   "source": [
    "#read方法会从文件中返回一定量字符,字符内容由文件编码决定\n",
    "path=\"D:/Python_text/alice.txt\"\n",
    "f1=open(path,mode=\"r\",encoding=\"utf-8\")\n",
    "\n",
    "f2=open(path,mode=\"rb\")#二进制模式\n",
    "\n",
    "\n",
    "#读取20个字符\n",
    "content1=f1.read(20)\n",
    "content2=f2.read(20)\n",
    "\n",
    "print(f\"{content1}\\n{content2}\")\n",
    "\n",
    "f2.close()\n",
    "f1.close()\n",
    "\n",
    "#b'\\xef\\xbb\\xbfThe Project Guten'表示二进制字节串,前面的\\xef\\xbb\\xbf表示3字节的bom符号(隐藏)"
   ]
  },
  {
   "cell_type": "code",
   "execution_count": null,
   "metadata": {},
   "outputs": [
    {
     "name": "stdout",
     "output_type": "stream",
     "text": [
      "The Project Gutenbe\n",
      "22\n"
     ]
    }
   ],
   "source": [
    "#tell方法:\n",
    "#read方法通过读取字节数推进文件对象的位置,tell可以给出当前(字节)位置\n",
    "\n",
    "path=\"D:/Python_text/alice.txt\"\n",
    "f1=open(path,mode=\"r\",encoding=\"utf-8\")\n",
    "\n",
    "content1=f1.read(20)\n",
    "\n",
    "print(content1)\n",
    "\n",
    "num=f1.tell()\n",
    "print(num)\n",
    "\n",
    "#检查默认的编码\n",
    "import sys\n",
    "sys.getdefaultencoding()\n",
    "'utf-8'\n",
    "\n",
    "f1.close()"
   ]
  },
  {
   "cell_type": "code",
   "execution_count": 4,
   "metadata": {},
   "outputs": [
    {
     "name": "stdout",
     "output_type": "stream",
     "text": [
      "The Project Gutenbe\n",
      "读取的内容的字节长度: 22\n",
      "文件指针的位置: 22\n"
     ]
    }
   ],
   "source": [
    "#有bom的情况:\n",
    "\n",
    "path =\"D:/Python_text/alice.txt\"\n",
    "with open(path, mode=\"r\", encoding=\"utf-8\") as f1:\n",
    "    content1 = f1.read(20)\n",
    "    print(content1)\n",
    "    print(\"读取的内容的字节长度:\", len(content1.encode('utf-8')))\n",
    "    num = f1.tell()\n",
    "    print(\"文件指针的位置:\", num)\n",
    "\n",
    "\n",
    "#read(20)指:读取文件20个字符\n",
    "#f1.tell() 返回的是字节位置，而非字符数\n",
    "\n",
    "\n",
    "#问题:1.为什么只有19个字符出现   \n",
    "#因为以utf-8编码方式的文本开头可能有BOM(字节顺序标记)\n",
    "\n",
    "\n",
    "#BOM的不可见性\n",
    "#文本编辑器中的隐藏：在大多数文本编辑器中，BOM是不可见的。它不会在文本内容中显示出来，也不会影响文本的正常显示和编辑。\n",
    "#二进制模式下的可见性：当以二进制模式读取文件时，BOM会以字节序列的形式出现，例如在UTF-8编码的文件中，BOM表现为0xef 0xbb 0xbf。这是因为BOM本身是由特定的字节序列组成的，这些字节在二进制模式下是可以被读取和显示的。\n",
    "\n",
    "#BOM的作用\n",
    "#编码标识：BOM的主要作用是标识文件的编码格式。对于UTF-8编码的文件，BOM可以帮助识别文件是否使用了UTF-8编码。\n",
    "#字节顺序指示：在其他编码格式（如UTF-16）中，BOM还可以指示字节的顺序（大端或小端）。但在UTF-8中，由于其编码方式的特性，BOM的字节顺序指示作用并不重要。\n",
    " "
   ]
  },
  {
   "cell_type": "code",
   "execution_count": 3,
   "metadata": {},
   "outputs": [
    {
     "name": "stdout",
     "output_type": "stream",
     "text": [
      "jack is my friend th\n",
      "读取的内容的字节长度: 20\n",
      "文件指针的位置: 20\n"
     ]
    }
   ],
   "source": [
    "#无bom的情况:\n",
    "\n",
    "path =\"D:/Python_text/number.txt\"\n",
    "with open(path, mode=\"r\", encoding=\"utf-8\") as f1:\n",
    "    content1 = f1.read(20)\n",
    "    print(content1)\n",
    "    print(\"读取的内容的字节长度:\", len(content1.encode('utf-8')))\n",
    "    num = f1.tell()\n",
    "    print(\"文件指针的位置:\", num)"
   ]
  },
  {
   "cell_type": "code",
   "execution_count": 10,
   "metadata": {},
   "outputs": [
    {
     "name": "stdout",
     "output_type": "stream",
     "text": [
      "k\n",
      "读取的内容字节长度为1\n",
      "文件指针的位置: 4\n"
     ]
    }
   ],
   "source": [
    "#seek()可以指定指针的位置\n",
    "\n",
    "path =\"D:/Python_text/number.txt\"\n",
    "with open(path, mode=\"r\", encoding=\"utf-8\") as f2:\n",
    "    \n",
    "    #指向字节3的位置\n",
    "    f2.seek(3)\n",
    "    \n",
    "    content1 = f2.read(1)\n",
    "    print(content1)\n",
    "    print(f\"读取的内容字节长度为{len(content1.encode(encoding=\"utf-8\"))}\")\n",
    "    num = f2.tell()\n",
    "    print(\"文件指针的位置:\", num)\n",
    "\n",
    "\n",
    "#指针位置显示的字节数,是从头到尾的."
   ]
  },
  {
   "cell_type": "code",
   "execution_count": null,
   "metadata": {},
   "outputs": [],
   "source": []
  }
 ],
 "metadata": {
  "kernelspec": {
   "display_name": "pydata-book",
   "language": "python",
   "name": "python3"
  },
  "language_info": {
   "codemirror_mode": {
    "name": "ipython",
    "version": 3
   },
   "file_extension": ".py",
   "mimetype": "text/x-python",
   "name": "python",
   "nbconvert_exporter": "python",
   "pygments_lexer": "ipython3",
   "version": "3.13.1"
  }
 },
 "nbformat": 4,
 "nbformat_minor": 2
}
