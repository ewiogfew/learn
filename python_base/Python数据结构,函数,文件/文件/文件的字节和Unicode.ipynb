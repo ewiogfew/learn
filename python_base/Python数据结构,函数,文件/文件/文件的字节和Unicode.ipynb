{
 "cells": [
  {
   "cell_type": "code",
   "execution_count": 2,
   "metadata": {},
   "outputs": [
    {
     "name": "stdout",
     "output_type": "stream",
     "text": [
      "Suena el r\n",
      "10\n"
     ]
    }
   ],
   "source": [
    "path=\"字节.txt\"\n",
    "with open(path) as f:\n",
    "    content=f.read(10)\n",
    "\n",
    "print(content)\n",
    "print(len(content))\n",
    "\n"
   ]
  },
  {
   "cell_type": "code",
   "execution_count": 10,
   "metadata": {},
   "outputs": [
    {
     "name": "stdout",
     "output_type": "stream",
     "text": [
      "b'Suena el r'\n",
      "10\n"
     ]
    }
   ],
   "source": [
    "#二进制模式:读取字节串\n",
    "\n",
    "path=\"字节.txt\"\n",
    "with open(path,mode=\"rb\") as f:\n",
    "    content=f.read(10)\n",
    "\n",
    "print(content)\n",
    "print(len(content))"
   ]
  },
  {
   "cell_type": "code",
   "execution_count": 11,
   "metadata": {},
   "outputs": [
    {
     "name": "stdout",
     "output_type": "stream",
     "text": [
      "b'Suena el r'\n",
      "Suena el r\n"
     ]
    }
   ],
   "source": [
    "#encode和decode转码解码\n",
    "path=\"字节.txt\"\n",
    "with open(path,mode=\"r\") as f:\n",
    "    content=f.read(10)\n",
    "    \n",
    "    #编码为utf-8二进制字节串\n",
    "    content_u=content.encode(\"utf-8\")\n",
    "    print(content_u)\n",
    "\n",
    "    #将二进制字节串按照utf-8编码方式解码\n",
    "    content_unic=content_u.decode(\"utf-8\")\n",
    "    print(content_unic)\n"
   ]
  },
  {
   "cell_type": "code",
   "execution_count": 13,
   "metadata": {},
   "outputs": [
    {
     "ename": "UnicodeDecodeError",
     "evalue": "'utf-8' codec can't decode byte 0xe7 in position 6: unexpected end of data",
     "output_type": "error",
     "traceback": [
      "\u001b[1;31m---------------------------------------------------------------------------\u001b[0m",
      "\u001b[1;31mUnicodeDecodeError\u001b[0m                        Traceback (most recent call last)",
      "Cell \u001b[1;32mIn[13], line 11\u001b[0m\n\u001b[0;32m      9\u001b[0m content \u001b[38;5;241m=\u001b[39m \u001b[38;5;124m\"\u001b[39m\u001b[38;5;124mPython编程\u001b[39m\u001b[38;5;124m\"\u001b[39m\u001b[38;5;241m.\u001b[39mencode(\u001b[38;5;124m\"\u001b[39m\u001b[38;5;124mutf-8\u001b[39m\u001b[38;5;124m\"\u001b[39m)  \u001b[38;5;66;03m# UTF-8 编码\u001b[39;00m\n\u001b[0;32m     10\u001b[0m truncated \u001b[38;5;241m=\u001b[39m content[:\u001b[38;5;241m7\u001b[39m]               \u001b[38;5;66;03m# 截取前7字节（可能截断中文）\u001b[39;00m\n\u001b[1;32m---> 11\u001b[0m \u001b[43mtruncated\u001b[49m\u001b[38;5;241;43m.\u001b[39;49m\u001b[43mdecode\u001b[49m\u001b[43m(\u001b[49m\u001b[38;5;124;43m\"\u001b[39;49m\u001b[38;5;124;43mutf-8\u001b[39;49m\u001b[38;5;124;43m\"\u001b[39;49m\u001b[43m)\u001b[49m             \u001b[38;5;66;03m# 报错：UnicodeDecodeError\u001b[39;00m\n",
      "\u001b[1;31mUnicodeDecodeError\u001b[0m: 'utf-8' codec can't decode byte 0xe7 in position 6: unexpected end of data"
     ]
    }
   ],
   "source": [
    "#注意如果字符的字节串不完整,解码可能就会失败,\n",
    "#因为utf-8是变长编码,一个字符可能由1到4个字节组成\n",
    "\n",
    "#如果是单字节的字节串不完整也可以解码出部分原字符串\n",
    "content_u[:7].decode(\"utf-8\")\n",
    "\n",
    "#但是如果是中文,一般一个中文字符编码为3个字节,则部分字节可能存在切断某个中文字符的情况导致报错\n",
    "\n",
    "content = \"Python编程\".encode(\"utf-8\")  # UTF-8 编码\n",
    "truncated = content[:7]               # 截取前7字节（截断中文）\n",
    "truncated.decode(\"utf-8\")             # 报错：UnicodeDecodeError"
   ]
  },
  {
   "cell_type": "code",
   "execution_count": null,
   "metadata": {},
   "outputs": [
    {
     "name": "stdout",
     "output_type": "stream",
     "text": [
      "b'python\\xe7\\xbc\\x96\\xe7\\xa8\\x8b'\n"
     ]
    },
    {
     "ename": "UnicodeDecodeError",
     "evalue": "'utf-8' codec can't decode byte 0xbc in position 0: invalid start byte",
     "output_type": "error",
     "traceback": [
      "\u001b[1;31m---------------------------------------------------------------------------\u001b[0m",
      "\u001b[1;31mUnicodeDecodeError\u001b[0m                        Traceback (most recent call last)",
      "Cell \u001b[1;32mIn[7], line 10\u001b[0m\n\u001b[0;32m      8\u001b[0m \u001b[38;5;66;03m#使用seek()\u001b[39;00m\n\u001b[0;32m      9\u001b[0m f\u001b[38;5;241m.\u001b[39mseek(\u001b[38;5;241m7\u001b[39m)               \u001b[38;5;66;03m#使文件处于7字节位置  \u001b[39;00m\n\u001b[1;32m---> 10\u001b[0m \u001b[43mf\u001b[49m\u001b[38;5;241;43m.\u001b[39;49m\u001b[43mread\u001b[49m\u001b[43m(\u001b[49m\u001b[38;5;241;43m1\u001b[39;49m\u001b[43m)\u001b[49m             \u001b[38;5;66;03m# 报错：UnicodeDecodeError\u001b[39;00m\n",
      "File \u001b[1;32m<frozen codecs>:325\u001b[0m, in \u001b[0;36mdecode\u001b[1;34m(self, input, final)\u001b[0m\n",
      "\u001b[1;31mUnicodeDecodeError\u001b[0m: 'utf-8' codec can't decode byte 0xbc in position 0: invalid start byte"
     ]
    }
   ],
   "source": [
    "#注意不要在二进制模式下使用seek,如果文件位于字节中间位置,而字节又定义了unicode字符,随后读取会发生错误\n",
    "\n",
    "with open(\"中文字符串.txt\") as f:\n",
    "    content = f.read().encode(\"utf-8\")  # UTF-8 转码为二进制字节串\n",
    "    print(content)\n",
    "    \n",
    "    \n",
    "    #使用seek()\n",
    "    f.seek(7)               #使文件处于7字节位置  \n",
    "    f.read(1)             # 报错：UnicodeDecodeError\n",
    "\n"
   ]
  },
  {
   "cell_type": "code",
   "execution_count": 4,
   "metadata": {},
   "outputs": [
    {
     "name": "stdout",
     "output_type": "stream",
     "text": [
      "Suena el r\n"
     ]
    }
   ],
   "source": [
    "#将unicode文本转为另一种编码\n",
    "path =\"字节.txt\"\n",
    "\n",
    "with open(path) as f:\n",
    "    with open (\"unic转为iso-8859-1.txt\",mode=\"x\",encoding=\"iso-8859-1\") as f1:\n",
    "        f1.write(f.read())\n",
    "\n",
    "with open(\"unic转为iso-8859-1.txt\",encoding=\"iso-8859-1\") as f2:\n",
    "    con=f2.read()\n",
    "    print(con)"
   ]
  }
 ],
 "metadata": {
  "kernelspec": {
   "display_name": "pydata-book",
   "language": "python",
   "name": "python3"
  },
  "language_info": {
   "codemirror_mode": {
    "name": "ipython",
    "version": 3
   },
   "file_extension": ".py",
   "mimetype": "text/x-python",
   "name": "python",
   "nbconvert_exporter": "python",
   "pygments_lexer": "ipython3",
   "version": "3.13.1"
  }
 },
 "nbformat": 4,
 "nbformat_minor": 2
}
