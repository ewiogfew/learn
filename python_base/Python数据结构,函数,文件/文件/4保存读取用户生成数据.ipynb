{
 "cells": [
  {
   "cell_type": "code",
   "execution_count": 1,
   "metadata": {},
   "outputs": [
    {
     "name": "stdout",
     "output_type": "stream",
     "text": [
      "welcome link\n"
     ]
    }
   ],
   "source": [
    "\n",
    "#设计:\n",
    "#如果输入的名字第一次见,储存到name_2.json\n",
    "#第二次见回复欢迎\n",
    "\n",
    "from pathlib import Path\n",
    "import json\n",
    "\n",
    "#定义文件路径:\n",
    "f= Path(\"D:/Python_text/name_2.json\")\n",
    "\n",
    "##读取现有数据或初始化空列表\n",
    "try:\n",
    "    contents=f.read_text(encoding=\"utf-8\")\n",
    "    #正确解析json列表\n",
    "    names=json.loads(contents)\n",
    "\n",
    "except (FileNotFoundError,json.JSONDecodeError):\n",
    "    # 文件不存在或内容无效时初始化空列表\n",
    "    names=[]\n",
    "\n",
    "name=input(\"输入名字:\\n\")\n",
    "\n",
    "if name in names:\n",
    "    print(f\"welcome {name}\")\n",
    "\n",
    "else:\n",
    "    #将新名字添加到列表\n",
    "    names.append(name)\n",
    "    \n",
    "    # 将更新后的列表写入 JSON 文件,#如果不存在该文件的话,write_text会自动创建文件\n",
    "    \n",
    "    f.write_text(json.dumps(names), encoding=\"utf-8\")  \n",
    "    \n",
    "    print(f\"{name}，已为您存储姓名！\")\n",
    "\n"
   ]
  },
  {
   "cell_type": "code",
   "execution_count": 2,
   "metadata": {},
   "outputs": [
    {
     "name": "stdout",
     "output_type": "stream",
     "text": [
      "欢迎回来link\n"
     ]
    }
   ],
   "source": [
    "#pathlib模块提供的便利方法:\n",
    "\n",
    "#exists()功能:判断一个路径所指向的文件或目录是否存在,\n",
    "#如果路径对应的内容存在则返回True否则返回False.\n",
    "\n",
    "#Path.exists() 方法本身并不能直接检查目录是否为空,\n",
    "#它的作用仅仅是判断路径是否存在，而不会检查路径的内容.\n",
    "\n",
    "from pathlib import Path\n",
    "import json\n",
    "\n",
    "#定义文件路径:\n",
    "f= Path(\"D:/Python_text/name_3.json\")\n",
    "\n",
    "if f.exists():\n",
    "    jsoncontent=f.read_text(encoding=\"utf-8\")\n",
    "    content=json.loads(jsoncontent)\n",
    "    print(f\"欢迎回来{content}\")\n",
    "\n",
    "else:\n",
    "    new_name=input(\"你还没有存储这个名字,你要储存的名字是:\")\n",
    "    new_name_json=json.dumps(new_name)\n",
    "    f.write_text(new_name_json)\n",
    "    print(f\"we will remember you {new_name}\")\n"
   ]
  },
  {
   "cell_type": "code",
   "execution_count": null,
   "metadata": {},
   "outputs": [],
   "source": [
    "#笔记:\n",
    "#json.JSONDecodeError 是 Python 中 json 模块抛出的一个错误，\n",
    "#表示在尝试解析（反序列化）JSON 数据时失败了。\n",
    "#具体来说，这个错误通常意味着提供的文本数据不符合JSON格式，或者文件为空。\n",
    "\n",
    "#以下为几种可能出现情况:\n",
    "\n",
    "#1.文件或字符串内容为空\n",
    "import json\n",
    "empty_json = \"\"\n",
    "json.loads(empty_json)\n",
    "#如果你尝试解析一个空文件或空字符串，json.loads()函数会抛出 JSONDecodeError，\n",
    "\n",
    "#2.文件路径错误或文件未正确读取\n",
    "\n",
    "#3.数据格式不正确:\n",
    "#JSON 数据的格式必须遵循严格的规则。例如：\n",
    "#键和字符串值必须用双引号包裹（不能用单引号）。\n",
    "#字符串中不能包含未转义的特殊字符（如换行符 \\n）。\n",
    "#对象中不能有多余的逗号。\n",
    "#关键字 null、true、false 必须是小写的。"
   ]
  },
  {
   "cell_type": "code",
   "execution_count": null,
   "metadata": {},
   "outputs": [],
   "source": []
  }
 ],
 "metadata": {
  "kernelspec": {
   "display_name": "pydata-book",
   "language": "python",
   "name": "python3"
  },
  "language_info": {
   "codemirror_mode": {
    "name": "ipython",
    "version": 3
   },
   "file_extension": ".py",
   "mimetype": "text/x-python",
   "name": "python",
   "nbconvert_exporter": "python",
   "pygments_lexer": "ipython3",
   "version": "3.13.1"
  }
 },
 "nbformat": 4,
 "nbformat_minor": 2
}
