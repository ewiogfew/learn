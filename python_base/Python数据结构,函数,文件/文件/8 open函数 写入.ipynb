{
 "cells": [
  {
   "cell_type": "code",
   "execution_count": 3,
   "metadata": {},
   "outputs": [
    {
     "data": {
      "text/plain": [
       "['2011-01-01,123abdsfc,1688,湖北',\n",
       " '2011-01-02,123absdfc,3245,河北',\n",
       " '2011-01-03,123abgfbc,2456,江西',\n",
       " '2011-01-04,123abgfnc,2332,吉林',\n",
       " '2011-01-05,123abcfbb,2345,江苏']"
      ]
     },
     "execution_count": 3,
     "metadata": {},
     "output_type": "execute_result"
    }
   ],
   "source": [
    "#将文件内的多行字符串转化为列表\n",
    "\n",
    "path=\"D:/Python_text/2011年销售数据.txt\"\n",
    "\n",
    "f=open(path,mode=\"r\",encoding=\"utf-8\")\n",
    "\n",
    "#使用列表推导式\n",
    "list=[x.rstrip() for x in f ]\n",
    "list"
   ]
  },
  {
   "cell_type": "code",
   "execution_count": 9,
   "metadata": {},
   "outputs": [
    {
     "name": "stdout",
     "output_type": "stream",
     "text": [
      "['2011-01-01,123ABDSFC,1688,湖北2011-01-02,123ABSDFC,3245,河北2011-01-03,123ABGFBC,2456,江西2011-01-04,123ABGFNC,2332,吉林2011-01-05,123ABCFBB,2345,江苏']\n"
     ]
    }
   ],
   "source": [
    "#文件写入使用write或者writelines\n",
    "\n",
    "#将2011年销售数据.txt写入到一个空文件  2011年销售数据_副本.txt,并将编号码大写\n",
    "path=\"D:/Python_text/2011年销售数据.txt\"\n",
    "\n",
    "with open(\"D:/Python_text/2011年销售数据_副本.txt\",mode=\"w\",encoding=\"utf-8\") as f:\n",
    "    \n",
    "    \n",
    "    #写入,并大写去\\n\n",
    "    f.writelines(x.upper().rstrip() for x in open(path)  )\n",
    "\n",
    "with open (\"D:/Python_text/2011年销售数据_副本.txt\") as f2:\n",
    "    \n",
    "    #readlines()会将每一行作为一个元素形成列表\n",
    "    content=f2.readlines()\n",
    "    \n",
    "    print(content)\n",
    "\n",
    "\n"
   ]
  },
  {
   "cell_type": "code",
   "execution_count": null,
   "metadata": {},
   "outputs": [],
   "source": []
  }
 ],
 "metadata": {
  "kernelspec": {
   "display_name": "pydata-book",
   "language": "python",
   "name": "python3"
  },
  "language_info": {
   "codemirror_mode": {
    "name": "ipython",
    "version": 3
   },
   "file_extension": ".py",
   "mimetype": "text/x-python",
   "name": "python",
   "nbconvert_exporter": "python",
   "pygments_lexer": "ipython3",
   "version": "3.13.1"
  }
 },
 "nbformat": 4,
 "nbformat_minor": 2
}
