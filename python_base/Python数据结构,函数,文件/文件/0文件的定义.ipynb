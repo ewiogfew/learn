{
 "cells": [
  {
   "cell_type": "code",
   "execution_count": 1,
   "metadata": {},
   "outputs": [
    {
     "name": "stdout",
     "output_type": "stream",
     "text": [
      "<class 'str'>\n",
      "2011-01-01,123abdsfc,1688,湖北\n",
      "2011-01-02,123absdfc,3245,河北\n",
      "2011-01-03,123abgfbc,2456,江西\n",
      "2011-01-04,123abgfnc,2332,吉林\n",
      "2011-01-05,123abcfbb,2345,江苏\n"
     ]
    }
   ],
   "source": [
    "#读取文件\n",
    "#导入pathlib模块可以更轻松处理文件和目录\n",
    "\n",
    "from pathlib import Path\n",
    "path=Path(\"D:/Python_text/2011年销售数据.txt\")  #创建一个Path对象,赋予给变量path\n",
    "\n",
    "\n",
    "#对象可以使用方法read_text()将全部内容作为一个字符串返回\n",
    "content=path.read_text()  \n",
    "print(type(content))\n",
    "#print(content)\n",
    "#结尾会多出一个空格,这是因为read_text()方法到达文件末尾会返回一个空字符串\n",
    "\n",
    "content=content.rstrip()#这里注意一定要赋予给原content对象\n",
    "print(content)\n",
    "\n",
    "#或者\"方法链式调用\"\n",
    "#content=path.read_text().rstrip()\n"
   ]
  },
  {
   "cell_type": "code",
   "execution_count": 9,
   "metadata": {},
   "outputs": [
    {
     "name": "stdout",
     "output_type": "stream",
     "text": [
      "2011-01-01,123abdsfc,1688,湖北\n",
      "2011-01-02,123absdfc,3245,河北\n",
      "2011-01-03,123abgfbc,2456,江西\n",
      "2011-01-04,123abgfnc,2332,吉林\n",
      "2011-01-05,123abcfbb,2345,江苏\n"
     ]
    }
   ],
   "source": [
    "#相对文件路径和绝对文件路径\n",
    "from pathlib import Path\n",
    "\n",
    "#注意windows的系统路径使用反斜杠\\(\"D:\\Python_text\\2011年销售数据.txt\"),但是在代码中使用斜杠/\n",
    "path=Path(\"D:/Python_text/2011年销售数据.txt\")\n",
    "content2=path.read_text().rstrip()\n",
    "print(content2)\n"
   ]
  },
  {
   "cell_type": "code",
   "execution_count": 13,
   "metadata": {},
   "outputs": [
    {
     "name": "stdout",
     "output_type": "stream",
     "text": [
      "<class 'list'>\n",
      "2011-01-01,123abdsfc,1688,湖北\n",
      "2011-01-02,123absdfc,3245,河北\n",
      "2011-01-03,123abgfbc,2456,江西\n",
      "2011-01-04,123abgfnc,2332,吉林\n",
      "2011-01-05,123abcfbb,2345,江苏\n"
     ]
    }
   ],
   "source": [
    "#访问文件的行\n",
    "from pathlib import Path\n",
    "path=Path(\"D:/Python_text/2011年销售数据.txt\")\n",
    "content3=path.read_text().rstrip()\n",
    "\n",
    "#使用splitlines()方法将字符串转化为一系列\"行\"再使用for循环遍历输出每一行\n",
    "content3=content3.splitlines()\n",
    "\n",
    "#splitlines()方法会返回一个列表\n",
    "print(type(content3))\n",
    "\n",
    "for readline in content3:\n",
    "    print(readline)"
   ]
  },
  {
   "cell_type": "code",
   "execution_count": 17,
   "metadata": {},
   "outputs": [
    {
     "name": "stdout",
     "output_type": "stream",
     "text": [
      "pynum的终结果为: 3.43452352  42352354  32542355\n"
     ]
    }
   ],
   "source": [
    "#使用文件内容\n",
    "\n",
    "#创建对象\n",
    "from pathlib import Path\n",
    "path=Path(\"digital.txt\")\n",
    "content3=path.read_text().strip()\n",
    "\n",
    "#使用splitlines()方法将字符串转化为一系列\"行\"\n",
    "content3=content3.splitlines()\n",
    "\n",
    "#创建使用变量:pynum\n",
    "pynum=''\n",
    "\n",
    "#再使用for循环遍历输出每一行\n",
    "for readline in content3:\n",
    "    #readline是字符串\n",
    "    pynum+=readline\n",
    "\n",
    "print(\"pynum的终结果为:\",pynum)\n",
    "\n",
    "\n",
    "#read_text()方法返回出来的结果都是字符串,如果读取的整数或字符串要当数据使用,要使用int().float()转换"
   ]
  },
  {
   "cell_type": "code",
   "execution_count": 26,
   "metadata": {},
   "outputs": [
    {
     "name": "stdout",
     "output_type": "stream",
     "text": [
      "3.1415926535897932384626433832795028841971693993751058209749445923078164062862089986280348253421170679821480865132823066470938446095505822317253594081284811174502841027019385211055596446229489549303819644288109756659334461284756482337867831652712019091456485669234603486104543266482133936072602491412737245870066063155881748815209209628292540917153643678925903600113305305488204665213841469519415116094330572703657595919530921861173819326117931051185480744623799627495673518857527248912279381830119491298336733624406566430860213949463952247371907021798609437027705392171762931767523846748184676694051320005681271452635608277857713427577896091736371787214684409012249534301465495853710507922796892589235420199561121290219608640344181598136297747713099605187072113499999983729780499510597317328160963185950244594553469083026425223082533446850352619311881710100031378387528865875332083814206171776691473035982534904287554687311595628638823537875937519577818577805321712268066130019278766111959092164201989\n",
      "不在\n"
     ]
    }
   ],
   "source": [
    "#测试你的文件是否在圆周率前1000位\n",
    "\n",
    "#创建对象\n",
    "from pathlib import Path\n",
    "path=Path(\"D:/Python_text/圆周率前1000位.txt\")\n",
    "content4=path.read_text().strip()\n",
    "\n",
    "#转化行\n",
    "#content4=content4.splitlines()\n",
    "print(content4)\n",
    "\n",
    "num=input(\"输入你的生日\")\n",
    "if num in content4:\n",
    "    print(\"在\")\n",
    "else:\n",
    "    print(\"不在\")\n"
   ]
  },
  {
   "cell_type": "code",
   "execution_count": null,
   "metadata": {},
   "outputs": [],
   "source": []
  }
 ],
 "metadata": {
  "kernelspec": {
   "display_name": "pydata-book",
   "language": "python",
   "name": "python3"
  },
  "language_info": {
   "codemirror_mode": {
    "name": "ipython",
    "version": 3
   },
   "file_extension": ".py",
   "mimetype": "text/x-python",
   "name": "python",
   "nbconvert_exporter": "python",
   "pygments_lexer": "ipython3",
   "version": "3.13.1"
  }
 },
 "nbformat": 4,
 "nbformat_minor": 2
}
