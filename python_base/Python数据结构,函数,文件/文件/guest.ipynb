{
 "cells": [
  {
   "cell_type": "code",
   "execution_count": null,
   "metadata": {},
   "outputs": [
    {
     "data": {
      "text/plain": [
       "4"
      ]
     },
     "execution_count": 2,
     "metadata": {},
     "output_type": "execute_result"
    }
   ],
   "source": [
    "#功能:用户输入名字,自动将名字存到guest.txt\n",
    "\n",
    "from pathlib import Path\n",
    "f=Path(\"D:/Python_text/guest.txt\")\n",
    "\n",
    "name=input (\"输入你的用户名字:\")\n",
    "\n",
    "f.write_text(name)\n",
    "#write_txt每次使用都会删除之前的内容,重新添加新的内容\n"
   ]
  },
  {
   "cell_type": "code",
   "execution_count": 1,
   "metadata": {},
   "outputs": [
    {
     "data": {
      "text/plain": [
       "20"
      ]
     },
     "execution_count": 1,
     "metadata": {},
     "output_type": "execute_result"
    }
   ],
   "source": [
    "#编写一个访客簿,收集用户所有输入的名字\n",
    "\n",
    "from pathlib import Path\n",
    "f=Path(\"D:/Python_text/guest_book.txt\")\n",
    "\n",
    "name_str=''\n",
    "while True:\n",
    "    \n",
    "    a=input(\"输入你想保存的用户名:\\n或者输入0退出程序\")\n",
    "    \n",
    "    if a==\"0\":  #注意a是字符串,所以判断标准0也是字符串\n",
    "        break\n",
    "    else:\n",
    "        name_str+=a+\"\\n\"   #加字符串\\n使添加的名字都自定换行\n",
    "\n",
    "f.write_text(name_str)\n"
   ]
  },
  {
   "cell_type": "code",
   "execution_count": null,
   "metadata": {},
   "outputs": [],
   "source": []
  }
 ],
 "metadata": {
  "kernelspec": {
   "display_name": "pydata-book",
   "language": "python",
   "name": "python3"
  },
  "language_info": {
   "codemirror_mode": {
    "name": "ipython",
    "version": 3
   },
   "file_extension": ".py",
   "mimetype": "text/x-python",
   "name": "python",
   "nbconvert_exporter": "python",
   "pygments_lexer": "ipython3",
   "version": "3.13.1"
  }
 },
 "nbformat": 4,
 "nbformat_minor": 2
}
