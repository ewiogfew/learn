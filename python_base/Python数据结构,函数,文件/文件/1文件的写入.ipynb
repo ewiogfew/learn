{
 "cells": [
  {
   "cell_type": "code",
   "execution_count": 8,
   "metadata": {},
   "outputs": [
    {
     "data": {
      "text/plain": [
       "10"
      ]
     },
     "execution_count": 8,
     "metadata": {},
     "output_type": "execute_result"
    }
   ],
   "source": [
    "#写入一行\n",
    "#使用write_txt()方法,注意只能写入字符串,如果要写数字记得str()转换一下\n",
    "\n",
    "from pathlib import Path\n",
    "path=Path(\"D:/Python_text/write_1.txt\")\n",
    "path.write_text(\"first line\")"
   ]
  },
  {
   "cell_type": "code",
   "execution_count": 12,
   "metadata": {},
   "outputs": [
    {
     "data": {
      "text/plain": [
       "47"
      ]
     },
     "execution_count": 12,
     "metadata": {},
     "output_type": "execute_result"
    }
   ],
   "source": [
    "#写入多行\n",
    "from pathlib import Path\n",
    "path=Path(\"D:/Python_text/write_2.txt\")\n",
    "\n",
    "\n",
    "#先创建一个字符串,让他包含全部内容,再调用write_text()\n",
    "content_1=\"first line\\n\"\n",
    "content_1+=\"second line\\n\"\n",
    "content_1+=\"third line\\n\"\n",
    "\n",
    "content_2=\"one\\ntwo\\nthree\"\n",
    "path.write_text(content_1+content_2)"
   ]
  },
  {
   "cell_type": "code",
   "execution_count": null,
   "metadata": {},
   "outputs": [],
   "source": []
  }
 ],
 "metadata": {
  "kernelspec": {
   "display_name": "pydata-book",
   "language": "python",
   "name": "python3"
  },
  "language_info": {
   "codemirror_mode": {
    "name": "ipython",
    "version": 3
   },
   "file_extension": ".py",
   "mimetype": "text/x-python",
   "name": "python",
   "nbconvert_exporter": "python",
   "pygments_lexer": "ipython3",
   "version": "3.13.1"
  }
 },
 "nbformat": 4,
 "nbformat_minor": 2
}
