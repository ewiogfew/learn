{
 "cells": [
  {
   "cell_type": "code",
   "execution_count": 3,
   "metadata": {},
   "outputs": [
    {
     "name": "stdout",
     "output_type": "stream",
     "text": [
      "27602\n"
     ]
    }
   ],
   "source": [
    "#分析文本故事有多少个单词\n",
    "from pathlib import Path\n",
    "f=Path(\"D:/Python_text/alice.txt\")\n",
    "\n",
    "#读取文本对象的内容:\n",
    "try:\n",
    "    words=f.read_text(encoding=\"utf-8\")\n",
    "except FileNotFoundError:\n",
    "    print(f\"文件{f}不存在\")\n",
    "\n",
    "#只有try的内容正常执行else:的内容才会执行\n",
    "else:\n",
    "    #使用split方法将字符串words以空格为标准切割开,放入到列表中\n",
    "    words_list=words.split(\" \")\n",
    "\n",
    "    number=len(words_list)\n",
    "\n",
    "    print(number)\n"
   ]
  },
  {
   "cell_type": "code",
   "execution_count": null,
   "metadata": {},
   "outputs": [
    {
     "name": "stdout",
     "output_type": "stream",
     "text": [
      "文件D:/Python_text/moby.txt的文字数量:197843\n",
      "文件D:/Python_text/little women.txt的文字数量:197381\n",
      "文件D:/Python_text/alice.txt的文字数量:27602\n",
      "文件D:/Python_text/not_exit找不到\n"
     ]
    }
   ],
   "source": [
    "#下面使用函数的方法:分析多个文本\n",
    "from pathlib import Path\n",
    "\n",
    "def count_words(x):\n",
    "    f=Path(x)\n",
    "\n",
    "    try:\n",
    "        word_str=f.read_text(encoding=\"utf-8\")\n",
    "    \n",
    "    except FileNotFoundError :\n",
    "        print(f\"文件{x}找不到\")\n",
    "    \n",
    "    else:\n",
    "        word_list=word_str.split(\" \")\n",
    "        word_number=len(word_list)\n",
    "        print(f\"文件{x}的文字数量:{word_number}\")\n",
    "\n",
    "#count_words(\"D:/Python_text/alice.txt\")\n",
    "\n",
    "#下面使用循环分析一个作品集中每一本书有多少字数\n",
    "booklist=[\"moby.txt\",\"little women.txt\",\"alice.txt\",\"not_exit\"]\n",
    "for book in booklist:\n",
    "    #应用函数\n",
    "    num=count_words(f\"D:/Python_text/{book}\")\n",
    "\n",
    "\n"
   ]
  },
  {
   "cell_type": "code",
   "execution_count": null,
   "metadata": {},
   "outputs": [],
   "source": []
  },
  {
   "cell_type": "code",
   "execution_count": null,
   "metadata": {},
   "outputs": [],
   "source": []
  }
 ],
 "metadata": {
  "kernelspec": {
   "display_name": "pydata-book",
   "language": "python",
   "name": "python3"
  },
  "language_info": {
   "codemirror_mode": {
    "name": "ipython",
    "version": 3
   },
   "file_extension": ".py",
   "mimetype": "text/x-python",
   "name": "python",
   "nbconvert_exporter": "python",
   "pygments_lexer": "ipython3",
   "version": "3.13.1"
  }
 },
 "nbformat": 4,
 "nbformat_minor": 2
}
