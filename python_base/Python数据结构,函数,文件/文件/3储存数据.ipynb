{
 "cells": [
  {
   "cell_type": "code",
   "execution_count": 1,
   "metadata": {},
   "outputs": [],
   "source": [
    "#模块json:让python数据结构转化为json格式的字符串,并且json数据可以与其他语言转化"
   ]
  },
  {
   "cell_type": "code",
   "execution_count": 2,
   "metadata": {},
   "outputs": [],
   "source": [
    "#json.dumps()将Python数据结构转化为json格式的数据,这个函数返回一个字符串,这样就可以将其写入数据文件\n",
    "#json.loads()读取到内存\n",
    "\n"
   ]
  },
  {
   "cell_type": "code",
   "execution_count": 3,
   "metadata": {},
   "outputs": [
    {
     "data": {
      "text/plain": [
       "15"
      ]
     },
     "execution_count": 3,
     "metadata": {},
     "output_type": "execute_result"
    }
   ],
   "source": [
    "from pathlib import Path\n",
    "import json\n",
    "\n",
    "number=[1,2,3,4,5]\n",
    "numbers=json.dumps(number)\n",
    "\n",
    "f=Path(\"D:/Python_text/number.json\")\n",
    "f.write_text(numbers)"
   ]
  },
  {
   "cell_type": "code",
   "execution_count": 6,
   "metadata": {},
   "outputs": [
    {
     "name": "stdout",
     "output_type": "stream",
     "text": [
      "[1, 2, 3, 4, 5]\n"
     ]
    }
   ],
   "source": [
    "#下面使用json.loads()读取到内存\n",
    "from pathlib import Path\n",
    "import json\n",
    "\n",
    "f=Path(\"D:/Python_text/number.json\")\n",
    "content=f.read_text(encoding=\"utf-8\")\n",
    "\n",
    "content=json.loads(content)\n",
    "\n",
    "print(content)"
   ]
  },
  {
   "cell_type": "code",
   "execution_count": 3,
   "metadata": {},
   "outputs": [
    {
     "name": "stdout",
     "output_type": "stream",
     "text": [
      "we will remember you link\n"
     ]
    }
   ],
   "source": [
    "#保存和读取用户生成的数据\n",
    "\n",
    "#1.制作一个可以储存输入json数据的程序\n",
    "\n",
    "from pathlib import Path\n",
    "import json\n",
    "\n",
    "#输入名字:\n",
    "name_user=input(\"输入你的名字:\\n\")\n",
    "\n",
    "f=Path(\"D:/Python_text/name.json\")\n",
    "#json格式化数据\n",
    "name_user_json=json.dumps(name_user)\n",
    "#储存数据\n",
    "f.write_text(name_user_json)\n",
    "print(f\"we will remember you {name_user}\")\n"
   ]
  },
  {
   "cell_type": "code",
   "execution_count": 4,
   "metadata": {},
   "outputs": [
    {
     "name": "stdout",
     "output_type": "stream",
     "text": [
      "welcome link\n"
     ]
    }
   ],
   "source": [
    "#制作一个可以读取已储存的文件读取名字\n",
    "from pathlib import Path\n",
    "import json\n",
    "\n",
    "f=Path(\"D:/Python_text/name.json\")\n",
    "content_json=f.read_text(encoding=\"utf-8\")\n",
    "\n",
    "content=json.loads(content_json)\n",
    "\n",
    "print(f\"welcome {content}\")\n",
    "\n"
   ]
  }
 ],
 "metadata": {
  "kernelspec": {
   "display_name": "pydata-book",
   "language": "python",
   "name": "python3"
  },
  "language_info": {
   "codemirror_mode": {
    "name": "ipython",
    "version": 3
   },
   "file_extension": ".py",
   "mimetype": "text/x-python",
   "name": "python",
   "nbconvert_exporter": "python",
   "pygments_lexer": "ipython3",
   "version": "3.13.1"
  }
 },
 "nbformat": 4,
 "nbformat_minor": 2
}
