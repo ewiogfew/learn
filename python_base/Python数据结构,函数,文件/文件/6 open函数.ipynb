{
 "cells": [
  {
   "cell_type": "code",
   "execution_count": 8,
   "metadata": {},
   "outputs": [
    {
     "name": "stdout",
     "output_type": "stream",
     "text": [
      "2011-01-01,123abdsfc,1688,湖北\n",
      "2011-01-02,123absdfc,3245,河北\n",
      "2011-01-03,123abgfbc,2456,江西\n",
      "2011-01-04,123abgfnc,2332,吉林\n",
      "2011-01-05,123abcfbb,2345,江苏\n"
     ]
    }
   ],
   "source": [
    "#open(path,\"模式\",encoding=\"utf-8\")\n",
    "\n",
    "path=\"D:/Python_text/2011年销售数据.txt\"\n",
    "\n",
    "#创建对象:\n",
    "f=open(path,\"r\",encoding=\"utf-8\")\n",
    "\n",
    "#for迭代出文件内容\n",
    "\n",
    "for line in f:\n",
    "    line=line.rstrip()\n",
    "    print(line)\n",
    "\n",
    "#使用open函数使用完毕一定要关闭\n",
    "f.close()"
   ]
  },
  {
   "cell_type": "code",
   "execution_count": 10,
   "metadata": {},
   "outputs": [
    {
     "name": "stdout",
     "output_type": "stream",
     "text": [
      "2011-01-01,123abdsfc,1688,湖北\n",
      "2011-01-02,123absdfc,3245,河北\n",
      "2011-01-03,123abgfbc,2456,江西\n",
      "2011-01-04,123abgfnc,2332,吉林\n",
      "2011-01-05,123abcfbb,2345,江苏\n"
     ]
    }
   ],
   "source": [
    "#with语句可以在执行完代码后自动关闭文件:\n",
    "path=\"D:/Python_text/2011年销售数据.txt\"\n",
    "#创建对象:\n",
    "f=open(path,\"r\",encoding=\"utf-8\")\n",
    "#with语句:\n",
    "with open(path,\"r\",encoding=\"utf-8\") as f:\n",
    "    for line in f:\n",
    "        print(line.rstrip())"
   ]
  },
  {
   "cell_type": "code",
   "execution_count": 1,
   "metadata": {},
   "outputs": [],
   "source": [
    "#模式:\n",
    "#r只读,\n",
    "#w只写(创建新文件,会删除同名文件的所有内容)\n",
    "#x只写(创建新文件,但存在同名路径文件会创建失败)\n",
    "#a追加模式(如果不存在会创建一个)\n",
    "#r+读写模式\n",
    "#b二进制文本模式,用法:添加到其他模式,例如rb,wb\n",
    "#t文件的文本模式(自动将字节转化为unicode).如果未指明模式,则采取此模式"
   ]
  },
  {
   "cell_type": "code",
   "execution_count": null,
   "metadata": {},
   "outputs": [],
   "source": []
  }
 ],
 "metadata": {
  "kernelspec": {
   "display_name": "pydata-book",
   "language": "python",
   "name": "python3"
  },
  "language_info": {
   "codemirror_mode": {
    "name": "ipython",
    "version": 3
   },
   "file_extension": ".py",
   "mimetype": "text/x-python",
   "name": "python",
   "nbconvert_exporter": "python",
   "pygments_lexer": "ipython3",
   "version": "3.13.1"
  }
 },
 "nbformat": 4,
 "nbformat_minor": 2
}
