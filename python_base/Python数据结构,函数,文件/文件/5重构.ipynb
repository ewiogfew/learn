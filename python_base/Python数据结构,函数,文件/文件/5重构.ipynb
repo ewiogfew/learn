{
 "cells": [
  {
   "cell_type": "code",
   "execution_count": 3,
   "metadata": {},
   "outputs": [],
   "source": [
    "#重构:将正常运行的代码,划分为一系列函数来进行改进,可以让代码更清晰,理解,扩展\n",
    "from pathlib import Path\n",
    "import json\n",
    "\n",
    "#定义读取函数:\n",
    "def func_read(x):\n",
    "    f=Path(x)\n",
    "    contents=f.read_text(encoding=\"utf-8\")\n",
    "    contents_py=json.loads(contents)\n",
    "    print(f\"{x}的内容为:{contents_py}\")\n",
    "\n",
    "#定义写入函数:\n",
    "\n",
    "def func_write(x,content):\n",
    "    f=Path(x)\n",
    "    content_json=json.dumps(content)\n",
    "    f.write_text(content_json)\n",
    "    print(f\"we will remember you {content}\")\n"
   ]
  },
  {
   "cell_type": "code",
   "execution_count": 4,
   "metadata": {},
   "outputs": [
    {
     "name": "stdout",
     "output_type": "stream",
     "text": [
      "D:/Python_text/name_4.json的内容为:\"jack\"\n"
     ]
    }
   ],
   "source": [
    "from pathlib import Path\n",
    "import json\n",
    "\n",
    "def function(x):\n",
    "    \n",
    "    f= Path(x)\n",
    "    \n",
    "    #判断f对象是否存在\n",
    "    if f.exists():\n",
    "        #使用读取函数\n",
    "        func_read(x)\n",
    "\n",
    "    else:\n",
    "        \n",
    "        new_name=input(\"你还没有存储这个名字,你要储存的名字是:\")\n",
    "        new_name_json=json.dumps(new_name)\n",
    "        \n",
    "        #使用写入函数创建文件,再把input的内容写入里面\n",
    "        func_write(x,new_name_json)\n",
    "\n",
    "#调用函数\n",
    "function(\"D:/Python_text/name_4.json\")"
   ]
  },
  {
   "cell_type": "code",
   "execution_count": null,
   "metadata": {},
   "outputs": [],
   "source": []
  }
 ],
 "metadata": {
  "kernelspec": {
   "display_name": "pydata-book",
   "language": "python",
   "name": "python3"
  },
  "language_info": {
   "codemirror_mode": {
    "name": "ipython",
    "version": 3
   },
   "file_extension": ".py",
   "mimetype": "text/x-python",
   "name": "python",
   "nbconvert_exporter": "python",
   "pygments_lexer": "ipython3",
   "version": "3.13.1"
  }
 },
 "nbformat": 4,
 "nbformat_minor": 2
}
