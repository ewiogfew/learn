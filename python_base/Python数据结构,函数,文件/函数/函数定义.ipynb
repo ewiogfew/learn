{
 "cells": [
  {
   "cell_type": "code",
   "execution_count": 4,
   "metadata": {},
   "outputs": [
    {
     "name": "stdout",
     "output_type": "stream",
     "text": [
      "3\n"
     ]
    }
   ],
   "source": [
    "#函数是python重要的代码组织和复用手段.\n",
    "def func_1(x,y):\n",
    "    return x+y\n",
    "\n",
    "func_1(1,2)\n",
    "\n",
    "#return的作用:返回值,当代码运行到return后面表达式的值就会发送给调用函数对象\n",
    "\n",
    "result=func_1(1,2)\n",
    "print(result)"
   ]
  },
  {
   "cell_type": "code",
   "execution_count": 8,
   "metadata": {},
   "outputs": [
    {
     "name": "stdout",
     "output_type": "stream",
     "text": [
      "hello\n",
      "None\n"
     ]
    }
   ],
   "source": [
    "#如果\n",
    "def pri(x):\n",
    "    print(x)\n",
    "#如果没有return就会返回给对象None\n",
    "a=pri(\"hello\")\n",
    "print(a)"
   ]
  },
  {
   "cell_type": "code",
   "execution_count": 11,
   "metadata": {},
   "outputs": [
    {
     "data": {
      "text/plain": [
       "3"
      ]
     },
     "execution_count": 11,
     "metadata": {},
     "output_type": "execute_result"
    }
   ],
   "source": [
    "#位置参数和关键字参数\n",
    "def func_2(x,y,c=2):\n",
    "    if c==2:\n",
    "        return x+y\n",
    "    else:\n",
    "        return x*y\n",
    "\n",
    "func_2(1,3)#4\n",
    "func_2(1,3,c=3)#2\n",
    "#位置参数必须上传,关键字参数可选,关键字参数必须在位置参数之后"
   ]
  },
  {
   "cell_type": "code",
   "execution_count": 18,
   "metadata": {},
   "outputs": [
    {
     "data": {
      "text/plain": [
       "[0, 1, 2, 3, 4]"
      ]
     },
     "execution_count": 18,
     "metadata": {},
     "output_type": "execute_result"
    }
   ],
   "source": [
    "#命名空间,作用域和局部函数\n",
    "#命名空间:描述变量作用域的名称,任何函数中赋值的变量默认都是分配到局部命名空间,\n",
    "\n",
    "#局部命名空间是调用函数临时创建的,函数参数会立刻进入此命名空间,一但函数退出就会销毁\n",
    "def func(x):\n",
    "    a=[]\n",
    "    for i in range(x):\n",
    "        a.append(i)\n",
    "    return a\n",
    "    \n",
    "func(5)"
   ]
  },
  {
   "cell_type": "code",
   "execution_count": 3,
   "metadata": {},
   "outputs": [
    {
     "data": {
      "text/plain": [
       "[0, 1, 2, 3, 4, 0, 1, 2, 3, 4, 0, 1, 2, 3, 4]"
      ]
     },
     "execution_count": 3,
     "metadata": {},
     "output_type": "execute_result"
    }
   ],
   "source": [
    "a=[]\n",
    "def func(x):\n",
    "    for i in range(x):\n",
    "        a.append(i)\n",
    "    return a\n",
    "\n",
    "func(5)\n",
    "a\n",
    "func(5)\n",
    "a\n",
    "func(5)"
   ]
  },
  {
   "cell_type": "code",
   "execution_count": 6,
   "metadata": {},
   "outputs": [
    {
     "name": "stdout",
     "output_type": "stream",
     "text": [
      "[]\n"
     ]
    }
   ],
   "source": [
    "a=None\n",
    "\n",
    "def func():\n",
    "    global a \n",
    "    a=[]\n",
    "func()\n",
    "print(a)"
   ]
  },
  {
   "cell_type": "code",
   "execution_count": 11,
   "metadata": {},
   "outputs": [
    {
     "name": "stdout",
     "output_type": "stream",
     "text": [
      "(1, 2, 3)\n",
      "1 2 3\n"
     ]
    },
    {
     "data": {
      "text/plain": [
       "{'a': 1, 'b': 2, 'c': 3}"
      ]
     },
     "execution_count": 11,
     "metadata": {},
     "output_type": "execute_result"
    }
   ],
   "source": [
    "#返回多个值\n",
    "\n",
    "def func():\n",
    "    a=1\n",
    "    b=2\n",
    "    c=3\n",
    "    return a,b,c\n",
    "#返回一个元组\n",
    "a=func()\n",
    "print(a)\n",
    "\n",
    "#分别赋值\n",
    "a,b,c=func()\n",
    "print(a,b,c)\n",
    "\n",
    "#返回字典\n",
    "\n",
    "def func():\n",
    "    a=1\n",
    "    b=2\n",
    "    c=3\n",
    "    return {\"a\":a,\"b\":b,\"c\":c}\n",
    "a=func()\n",
    "a"
   ]
  },
  {
   "cell_type": "code",
   "execution_count": null,
   "metadata": {},
   "outputs": [],
   "source": [
    "\n"
   ]
  }
 ],
 "metadata": {
  "kernelspec": {
   "display_name": "pydata-book",
   "language": "python",
   "name": "python3"
  },
  "language_info": {
   "codemirror_mode": {
    "name": "ipython",
    "version": 3
   },
   "file_extension": ".py",
   "mimetype": "text/x-python",
   "name": "python",
   "nbconvert_exporter": "python",
   "pygments_lexer": "ipython3",
   "version": "3.13.1"
  }
 },
 "nbformat": 4,
 "nbformat_minor": 2
}
