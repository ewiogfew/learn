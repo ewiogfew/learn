{
 "cells": [
  {
   "cell_type": "code",
   "execution_count": 1,
   "metadata": {},
   "outputs": [],
   "source": [
    "#迭代器:定义\n",
    "#生成器:定义和生成器表达\n",
    "#itertools模块的应用\n"
   ]
  },
  {
   "cell_type": "code",
   "execution_count": 11,
   "metadata": {},
   "outputs": [
    {
     "name": "stdout",
     "output_type": "stream",
     "text": [
      "one\n",
      "two\n",
      "<dict_keyiterator object at 0x000001BC703FB1F0>\n",
      "('one', 'two')\n"
     ]
    }
   ],
   "source": [
    "dict_1={\"one\":1,\"two\":2}\n",
    "#c=dict_1.items()\n",
    "for key in dict_1:\n",
    "    print(key)\n",
    "\n",
    "#当我遍历dict_1时,Python解释器会首先从some_dict创建一个迭代器\n",
    "dict_1_iterator=iter(dict_1)\n",
    "print(dict_1_iterator)\n",
    "#迭代器也是对象,大多数可以接受列表对象方法,也可以接受任意可迭代对象,sum,max,sum等内置方法以及list和tuple等类型构造器\n",
    "\n",
    "tuple1=tuple(dict_1_iterator)\n",
    "print(tuple1)"
   ]
  },
  {
   "cell_type": "code",
   "execution_count": 17,
   "metadata": {},
   "outputs": [
    {
     "name": "stdout",
     "output_type": "stream",
     "text": [
      "Generating squares from 1 to 100\n",
      "1 4 9 16 25 36 49 64 81 100 "
     ]
    }
   ],
   "source": [
    "#生成器是一种构造新的可迭代对象的简单方式,类似编写函数,一般函数执行后会返回单个值,\n",
    "#而生成器则是以延迟的的方式返回一个多值序列,即每返回一个值之后暂停一下,直到请求下一个值再继续\n",
    "#生成器,只需要把return换位yeild\n",
    "\n",
    "def squares(n=10):\n",
    "    print(f\"Generating squares from 1 to {n ** 2}\")\n",
    "    for i in range(1, n + 1):\n",
    "        yield i ** 2\n",
    "gen=squares()\n",
    "gen\n",
    "#调用该生成器不会立即执行代码,直到你从该生成器申请元素时,生成器才会执行代码\n",
    "\n",
    "for x in gen:\n",
    "    print(x,end=\" \")\n",
    "    #break\n",
    "\n",
    "#意义:生成器每次只输出一个元素,而不是一次性输出整个列表,占用内存小"
   ]
  },
  {
   "cell_type": "code",
   "execution_count": 26,
   "metadata": {},
   "outputs": [
    {
     "name": "stdout",
     "output_type": "stream",
     "text": [
      "<generator object <genexpr> at 0x000001BC704BDB10>\n",
      "[0, 1, 4, 9, 16, 25, 36, 49, 64, 81]\n",
      "{0: 0, 1: 1, 2: 4, 3: 9, 4: 16, 5: 25, 6: 36, 7: 49, 8: 64, 9: 81}\n",
      "{0: 0, 1: 1, 2: 4, 3: 9, 4: 16, 5: 25, 6: 36, 7: 49, 8: 64, 9: 81}\n"
     ]
    }
   ],
   "source": [
    "#生成器表达:类似于列表集合字典的推导式\n",
    "gen=(x**2 for x in range(10))\n",
    "print(gen)\n",
    "#生成器表达式也可作替代列表推导式为函数参数\n",
    "\n",
    "aim=list(gen)\n",
    "print(aim)\n",
    "\n",
    "aim2={x:x**2 for x in range(10)}#dict推导式\n",
    "aim3=dict((x,x**2) for x in range(10))#dict函数\n",
    "print(aim2)\n",
    "print(aim3)"
   ]
  },
  {
   "cell_type": "code",
   "execution_count": 1,
   "metadata": {},
   "outputs": [
    {
     "name": "stdout",
     "output_type": "stream",
     "text": [
      "A ['Alan', 'Adam']\n",
      "W ['Wes', 'Will']\n",
      "A ['Albert']\n",
      "S ['Steven']\n"
     ]
    }
   ],
   "source": [
    "#itertools模块\n",
    "#标准库itertools模块有一组用于许多常见数据算法的\"生成器\",例如groupby接受任意序列和一个函数,\n",
    "#\"并根据函数的返回值对序列中的连续元素进行分组\"\n",
    "import itertools\n",
    "def first_letter(x):\n",
    "    return x[0]\n",
    "\n",
    "names = [\"Alan\", \"Adam\", \"Wes\", \"Will\", \"Albert\", \"Steven\"]\n",
    "\n",
    "for letter,names in itertools.groupby(names,first_letter):\n",
    "    print(letter,list(names))#names是生成器\n"
   ]
  },
  {
   "cell_type": "code",
   "execution_count": null,
   "metadata": {},
   "outputs": [],
   "source": []
  }
 ],
 "metadata": {
  "kernelspec": {
   "display_name": "pydata-book",
   "language": "python",
   "name": "python3"
  },
  "language_info": {
   "codemirror_mode": {
    "name": "ipython",
    "version": 3
   },
   "file_extension": ".py",
   "mimetype": "text/x-python",
   "name": "python",
   "nbconvert_exporter": "python",
   "pygments_lexer": "ipython3",
   "version": "3.13.1"
  }
 },
 "nbformat": 4,
 "nbformat_minor": 2
}
