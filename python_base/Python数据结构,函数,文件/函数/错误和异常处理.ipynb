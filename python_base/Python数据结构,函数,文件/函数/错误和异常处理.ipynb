{
 "cells": [
  {
   "cell_type": "code",
   "execution_count": null,
   "metadata": {},
   "outputs": [],
   "source": [
    "#try exceot finally模式\n",
    "\n",
    "def func(x):\n",
    "    return float(x)\n",
    "func(\"something\")#ValueError\n",
    "func((1,2))#TypeError\n",
    "\n"
   ]
  },
  {
   "cell_type": "code",
   "execution_count": 5,
   "metadata": {},
   "outputs": [
    {
     "name": "stdout",
     "output_type": "stream",
     "text": [
      "错误\n"
     ]
    }
   ],
   "source": [
    "def func(x):\n",
    "    try:\n",
    "        return float(x)\n",
    "    #假设捕捉全部错误:\n",
    "    #except:\n",
    "        #print(\"错误异常\")\n",
    "\n",
    "    #假设只想捕捉typeerror\n",
    "    #except TypeError:\n",
    "        #print(\"TypeError\")\n",
    "    \n",
    "    #假设只想捕捉这两种错误类型:\n",
    "    except (ValueError,TypeError):\n",
    "        print(\"错误\")\n",
    "\n",
    "func(\"dio\")"
   ]
  },
  {
   "cell_type": "code",
   "execution_count": null,
   "metadata": {},
   "outputs": [],
   "source": [
    "#finally是指不管捕捉结果如何都会执行的一段代码,一般可以关闭文件\n",
    "f=open(\"path\",mode=\"w\")\n",
    "try:\n",
    "    f.write()\n",
    "except:\n",
    "    print(\"错误\")\n",
    "finally:\n",
    "    f.close()#这样最后都会关闭文件"
   ]
  },
  {
   "cell_type": "code",
   "execution_count": null,
   "metadata": {},
   "outputs": [],
   "source": []
  }
 ],
 "metadata": {
  "kernelspec": {
   "display_name": "pydata-book",
   "language": "python",
   "name": "python3"
  },
  "language_info": {
   "codemirror_mode": {
    "name": "ipython",
    "version": 3
   },
   "file_extension": ".py",
   "mimetype": "text/x-python",
   "name": "python",
   "nbconvert_exporter": "python",
   "pygments_lexer": "ipython3",
   "version": "3.13.1"
  }
 },
 "nbformat": 4,
 "nbformat_minor": 2
}
