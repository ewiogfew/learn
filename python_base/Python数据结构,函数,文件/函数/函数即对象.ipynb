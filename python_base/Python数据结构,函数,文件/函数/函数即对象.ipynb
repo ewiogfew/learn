{
 "cells": [
  {
   "cell_type": "code",
   "execution_count": 4,
   "metadata": {},
   "outputs": [
    {
     "data": {
      "text/plain": [
       "['Alabama',\n",
       " 'Georgia',\n",
       " 'Georgia',\n",
       " 'Georgia',\n",
       " 'Florida',\n",
       " 'South   Carolina',\n",
       " 'West Virginia']"
      ]
     },
     "execution_count": 4,
     "metadata": {},
     "output_type": "execute_result"
    }
   ],
   "source": [
    "#函数即对象\n",
    "#Python函数都是对象\n",
    "#假设有一个字符串数组,对他进行清洗和转换(例如去除空格,删除标点符号,调整正确的大小写格式)\n",
    "\n",
    "states = [\"   Alabama \", \"Georgia!\", \"Georgia\", \"georgia\", \"FlOrIda\",\n",
    "          \"south   carolina##\", \"West virginia?\"]\n",
    "\n",
    "#一种清洗方法是内置字符串方法和正则表达式的\"re\"标准库模块\n",
    "\n",
    "import re\n",
    " \n",
    "def clean_str(x):\n",
    "    result=[]\n",
    "    for value in x:\n",
    "        value=value.strip()\n",
    "        value=re.sub(\"[!#?]\",\"\",value)\n",
    "        value=value.title()\n",
    "        result.append(value)\n",
    "    return result\n",
    "clean_str(states)"
   ]
  },
  {
   "cell_type": "code",
   "execution_count": 7,
   "metadata": {},
   "outputs": [
    {
     "data": {
      "text/plain": [
       "['Alabama',\n",
       " 'Georgia',\n",
       " 'Georgia',\n",
       " 'Georgia',\n",
       " 'Florida',\n",
       " 'South   Carolina',\n",
       " 'West Virginia']"
      ]
     },
     "execution_count": 7,
     "metadata": {},
     "output_type": "execute_result"
    }
   ],
   "source": [
    "\n",
    "#第二种方法:即将需要在给定的字符串上执行的所有操作做一个列表\n",
    "\n",
    "states = [\"   Alabama \", \"Georgia!\", \"Georgia\", \"georgia\", \"FlOrIda\",\n",
    "          \"south   carolina##\", \"West virginia?\"]\n",
    "\n",
    "def remove_punctuation(value):\n",
    "    return re.sub(\"[!#?]\",\"\",value)\n",
    "\n",
    "clean_ops=[str.strip,remove_punctuation,str.title]\n",
    "\n",
    "\n",
    "def clean_str(strings,ops):\n",
    "    result=[]\n",
    "    for value in strings:\n",
    "        for func in ops:\n",
    "            value=func(value)\n",
    "            #result.append(value)如果放到这里每遍历一个操作都会给result添加一个元素,这样会重复3个\n",
    "        result.append(value)\n",
    "    return result\n",
    "\n",
    "clean_str(states,clean_ops)\n",
    "\n",
    "#这种更加函数化的方式能在更高的层次轻松修改字符串的转化方式,此时clean_str更具有复用性和通用性"
   ]
  },
  {
   "cell_type": "code",
   "execution_count": 13,
   "metadata": {},
   "outputs": [
    {
     "data": {
      "text/plain": [
       "['One', 'Two', 'Three']"
      ]
     },
     "execution_count": 13,
     "metadata": {},
     "output_type": "execute_result"
    }
   ],
   "source": [
    "#匿名函数(lambda函数)\n",
    "#匿名函数又单条语句组成,其结果就是返回值\n",
    "\n",
    "def add(x,y):\n",
    "    return x+y\n",
    "#lambda函数:\n",
    "lambda x,y:x+y\n",
    "#更加简洁高效,因为数据分析工作中往往函数也是参数,就不需要再去编写个函数,再带入应用函数中\n",
    "\n",
    "def apply(list,operation):\n",
    "    return [operation(x) for x in list ]\n",
    "    \n",
    "result=apply([\"one\",\"two\",\"three\"],lambda x:x.title())\n",
    "print(result)\n",
    "\n",
    "#这样就不需要再去定义一个大写函数,再代入到apply了"
   ]
  },
  {
   "cell_type": "code",
   "execution_count": null,
   "metadata": {},
   "outputs": [],
   "source": []
  }
 ],
 "metadata": {
  "kernelspec": {
   "display_name": "pydata-book",
   "language": "python",
   "name": "python3"
  },
  "language_info": {
   "codemirror_mode": {
    "name": "ipython",
    "version": 3
   },
   "file_extension": ".py",
   "mimetype": "text/x-python",
   "name": "python",
   "nbconvert_exporter": "python",
   "pygments_lexer": "ipython3",
   "version": "3.13.1"
  }
 },
 "nbformat": 4,
 "nbformat_minor": 2
}
