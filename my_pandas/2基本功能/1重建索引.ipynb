{
 "cells": [
  {
   "cell_type": "code",
   "execution_count": 4,
   "metadata": {},
   "outputs": [
    {
     "name": "stdout",
     "output_type": "stream",
     "text": [
      "1    1\n",
      "2    2\n",
      "3    3\n",
      "4    4\n",
      "dtype: int64\n"
     ]
    },
    {
     "data": {
      "text/plain": [
       "1    1.0\n",
       "2    2.0\n",
       "3    3.0\n",
       "4    4.0\n",
       "5    NaN\n",
       "6    NaN\n",
       "dtype: float64"
      ]
     },
     "execution_count": 4,
     "metadata": {},
     "output_type": "execute_result"
    }
   ],
   "source": [
    "import numpy as np \n",
    "import pandas as pd\n",
    "\n",
    "#reindex方法,创建一个数据根据新索引重新排列的新对象\n",
    "obj=pd.Series([1,2,3,4],index=[1,2,3,4])\n",
    "print(obj)\n",
    "\n",
    "#obj2=pd.Series([1,2,3,4],index=[1,2,3,4,5,6])#ValueError: Length of values (4) does not match length of index (6)\n",
    "\n",
    "#新的添加的索引会显示缺失\n",
    "obj2=obj.reindex([1,2,3,4,5,6])\n",
    "obj2"
   ]
  },
  {
   "cell_type": "code",
   "execution_count": null,
   "metadata": {},
   "outputs": [
    {
     "name": "stdout",
     "output_type": "stream",
     "text": [
      "0    1\n",
      "4    2\n",
      "5    3\n",
      "dtype: int64\n"
     ]
    }
   ],
   "source": [
    "#对于有序的数据,重建索引可能需要填值或插值处理,,method选项可以用ffill,可以向前填充值\n",
    "\n",
    "data=pd.Series([1,2,3,],index=[0,4,5])\n",
    "print(data)"
   ]
  },
  {
   "cell_type": "code",
   "execution_count": null,
   "metadata": {},
   "outputs": [
    {
     "data": {
      "text/plain": [
       "0    1\n",
       "1    1\n",
       "2    1\n",
       "3    1\n",
       "4    2\n",
       "5    3\n",
       "dtype: int64"
      ]
     },
     "execution_count": 10,
     "metadata": {},
     "output_type": "execute_result"
    }
   ],
   "source": [
    "#填值,补全索引\n",
    "data2=data.reindex(np.arange(6),method='ffill')\n",
    "data2"
   ]
  },
  {
   "cell_type": "code",
   "execution_count": 11,
   "metadata": {},
   "outputs": [
    {
     "name": "stdout",
     "output_type": "stream",
     "text": [
      "   ohio  texas  dc\n",
      "a     0      1   2\n",
      "b     3      4   5\n",
      "c     6      7   8\n"
     ]
    }
   ],
   "source": [
    "#借助dataframe,reindex可以同时修改行,列.只传入一个序列时会重建索引结果中的行\n",
    "frame=pd.DataFrame(np.arange(9).reshape(3,3),\n",
    "                   index=[\"a\",\"b\",\"c\"],\n",
    "                   columns=[\"ohio\",\"texas\",\"dc\"])\n",
    "print(frame)"
   ]
  },
  {
   "cell_type": "code",
   "execution_count": null,
   "metadata": {},
   "outputs": [
    {
     "name": "stdout",
     "output_type": "stream",
     "text": [
      "   ohio  texas  dc  california\n",
      "a     0      1   2         NaN\n",
      "b     3      4   5         NaN\n",
      "c     6      7   8         NaN\n"
     ]
    },
    {
     "data": {
      "text/html": [
       "<div>\n",
       "<style scoped>\n",
       "    .dataframe tbody tr th:only-of-type {\n",
       "        vertical-align: middle;\n",
       "    }\n",
       "\n",
       "    .dataframe tbody tr th {\n",
       "        vertical-align: top;\n",
       "    }\n",
       "\n",
       "    .dataframe thead th {\n",
       "        text-align: right;\n",
       "    }\n",
       "</style>\n",
       "<table border=\"1\" class=\"dataframe\">\n",
       "  <thead>\n",
       "    <tr style=\"text-align: right;\">\n",
       "      <th></th>\n",
       "      <th>ohio</th>\n",
       "      <th>texas</th>\n",
       "      <th>dc</th>\n",
       "      <th>california</th>\n",
       "    </tr>\n",
       "  </thead>\n",
       "  <tbody>\n",
       "    <tr>\n",
       "      <th>a</th>\n",
       "      <td>0.0</td>\n",
       "      <td>1.0</td>\n",
       "      <td>2.0</td>\n",
       "      <td>NaN</td>\n",
       "    </tr>\n",
       "    <tr>\n",
       "      <th>c</th>\n",
       "      <td>6.0</td>\n",
       "      <td>7.0</td>\n",
       "      <td>8.0</td>\n",
       "      <td>NaN</td>\n",
       "    </tr>\n",
       "    <tr>\n",
       "      <th>d</th>\n",
       "      <td>NaN</td>\n",
       "      <td>NaN</td>\n",
       "      <td>NaN</td>\n",
       "      <td>NaN</td>\n",
       "    </tr>\n",
       "  </tbody>\n",
       "</table>\n",
       "</div>"
      ],
      "text/plain": [
       "   ohio  texas   dc  california\n",
       "a   0.0    1.0  2.0         NaN\n",
       "c   6.0    7.0  8.0         NaN\n",
       "d   NaN    NaN  NaN         NaN"
      ]
     },
     "execution_count": 14,
     "metadata": {},
     "output_type": "execute_result"
    }
   ],
   "source": [
    "#修改列标签columns=\n",
    "frame2=frame.reindex(columns=[\"ohio\", \"texas\",  \"dc\" ,\"california\"])\n",
    "print(frame2)\n",
    "\n",
    "#修改行索引标签index=\n",
    "frame3=frame2.reindex(index=[\"a\",\"c\",\"d\"])\n",
    "frame3\n",
    "\n",
    "#index新增d,d行会显示空值,而缺失b,b行所以不会显示"
   ]
  },
  {
   "cell_type": "code",
   "execution_count": null,
   "metadata": {},
   "outputs": [],
   "source": [
    "#reindex的参数说明:\n",
    "\"\"\"\n",
    "method=\"ffill\"向前填充,\"bfill\"向后填充\n",
    "index\n",
    "column\n",
    "axis=\n",
    "等等详细看文档\n",
    "\"\"\""
   ]
  },
  {
   "cell_type": "code",
   "execution_count": null,
   "metadata": {},
   "outputs": [
    {
     "name": "stdout",
     "output_type": "stream",
     "text": [
      "   ohio  texas  dc\n",
      "a     0      1   2\n",
      "b     3      4   5\n",
      "c     6      7   8\n"
     ]
    },
    {
     "data": {
      "text/html": [
       "<div>\n",
       "<style scoped>\n",
       "    .dataframe tbody tr th:only-of-type {\n",
       "        vertical-align: middle;\n",
       "    }\n",
       "\n",
       "    .dataframe tbody tr th {\n",
       "        vertical-align: top;\n",
       "    }\n",
       "\n",
       "    .dataframe thead th {\n",
       "        text-align: right;\n",
       "    }\n",
       "</style>\n",
       "<table border=\"1\" class=\"dataframe\">\n",
       "  <thead>\n",
       "    <tr style=\"text-align: right;\">\n",
       "      <th></th>\n",
       "      <th>dc</th>\n",
       "      <th>texas</th>\n",
       "      <th>ohio</th>\n",
       "    </tr>\n",
       "  </thead>\n",
       "  <tbody>\n",
       "    <tr>\n",
       "      <th>a</th>\n",
       "      <td>2</td>\n",
       "      <td>1</td>\n",
       "      <td>0</td>\n",
       "    </tr>\n",
       "    <tr>\n",
       "      <th>c</th>\n",
       "      <td>8</td>\n",
       "      <td>7</td>\n",
       "      <td>6</td>\n",
       "    </tr>\n",
       "    <tr>\n",
       "      <th>b</th>\n",
       "      <td>5</td>\n",
       "      <td>4</td>\n",
       "      <td>3</td>\n",
       "    </tr>\n",
       "  </tbody>\n",
       "</table>\n",
       "</div>"
      ],
      "text/plain": [
       "   dc  texas  ohio\n",
       "a   2      1     0\n",
       "c   8      7     6\n",
       "b   5      4     3"
      ]
     },
     "execution_count": 19,
     "metadata": {},
     "output_type": "execute_result"
    }
   ],
   "source": [
    "#可以用loc运算符重建索引\n",
    "frame=pd.DataFrame(np.arange(9).reshape(3,3),\n",
    "                   index=[\"a\",\"b\",\"c\"],\n",
    "                   columns=[\"ohio\",\"texas\",\"dc\"])\n",
    "print(frame)\n",
    "\n",
    "#frame.loc[\"a\"]loc还可以取行,注意loc是属性使用[]\n",
    "frame.loc[[\"a\",\"c\",\"b\"],[\"dc\",\"texas\",\"ohio\"]]"
   ]
  }
 ],
 "metadata": {
  "kernelspec": {
   "display_name": "pydata-book",
   "language": "python",
   "name": "python3"
  },
  "language_info": {
   "codemirror_mode": {
    "name": "ipython",
    "version": 3
   },
   "file_extension": ".py",
   "mimetype": "text/x-python",
   "name": "python",
   "nbconvert_exporter": "python",
   "pygments_lexer": "ipython3",
   "version": "3.13.1"
  }
 },
 "nbformat": 4,
 "nbformat_minor": 2
}
